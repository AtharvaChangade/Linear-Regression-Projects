{
 "cells": [
  {
   "cell_type": "markdown",
   "metadata": {
    "id": "UIbIRhis8fP_"
   },
   "source": [
    "## Problem Statement\n",
    "\n",
    "Indian Premier League (IPL) is a league for Twenty20 (T20) cricket championships started in India. The auction price of the player depends on his performance in test matches or one-day internationals. The primary skill of the player also contributes to the auction price. We use different regression techniques to predict the auction price of the player."
   ]
  },
  {
   "cell_type": "markdown",
   "metadata": {
    "id": "nbQbMHfZ8fP_"
   },
   "source": [
    "## About the dataset (IPL Auction data)\n",
    "\n",
    "**PLAYER NAME**: Name of the player<br>\n",
    "**AGE**: The age of the player is classified into three categories. Category 1 means the player is less than 25 years old. Category 2 means the player is between 25 and 35 years and Category 3 means the player has aged more than 35.<br>\n",
    "**COUNTRY**: Country of the player<br>\n",
    "**PLAYING ROLE**: Player's primary skill<br>\n",
    "**T-RUNS**: Total runs scored in the test matches<br>\n",
    "**T-WKTS**: Total wickets taken in the test matches<br>\n",
    "**ODI-RUNS-S**: Runs scored in One Day Internationals<br>\n",
    "**ODI-SR-B**: Batting strike rate in One Day Internationals<br>\n",
    "**ODI-WKTS**: Wickets taken in One Day Internationals<br>\n",
    "**ODI-SR-BL**: Bowling strike rate in One Day Internationals<br>\n",
    "**CAPTAINCY EXP**: Captained a team or not<br>\n",
    "**RUNS-S**: Number of runs scored by a player<br>\n",
    "**HS**: Highest score by a batsman in IPL<br>\n",
    "**AVE**: Average runs scored by a batsman in IPL<br>\n",
    "**SR-B**: Batting strike rate (ratio of the number of runs scored to the number of basses faced) in IPL.<br>\n",
    "**SIXERS**: Number of six runs scored by a player in IPL.<br>\n",
    "**RUNS-C**: Number of runs conceded by a player<br>\n",
    "**WKTS**: Number of wickets were taken by a player in IPL.<br>\n",
    "**AVE-BL**: Bowling average (number of runs conceded / number of wickets taken) in IPL.<br>\n",
    "**ECON**: Economy rate of a bowler in IPL (number of runs conceded by the bowler per over).<br>\n",
    "**SR-BL**: Bowling strike rate (ratio of the number of balls bowled to the number of wickets taken) in IPL.<br>\n",
    "**SOLD PRICE**: Auction price of the player<br>"
   ]
  },
  {
   "cell_type": "markdown",
   "metadata": {
    "id": "dxe8wW1u8fQA"
   },
   "source": [
    "<a id=\"lib\"></a>\n",
    "# 1. Import Libraries"
   ]
  },
  {
   "cell_type": "markdown",
   "metadata": {
    "id": "pw3r4KOJ8fQA"
   },
   "source": [
    "**Let us import the required libraries.**"
   ]
  },
  {
   "cell_type": "code",
   "execution_count": 1,
   "metadata": {
    "id": "4dkPNKuc8fQA"
   },
   "outputs": [],
   "source": [
    "import pandas as pd \n",
    "import numpy as np\n",
    "import matplotlib.pyplot as plt\n",
    "import seaborn as sns\n",
    "\n",
    "# to suppress warnings \n",
    "from warnings import filterwarnings\n",
    "filterwarnings('ignore')\n",
    "\n",
    "\n",
    "# to display the float values upto 6 decimal places     \n",
    "pd.options.display.float_format = '{:.6f}'.format\n",
    "\n",
    "# import train-test split \n",
    "from sklearn.model_selection import train_test_split\n",
    "\n",
    "# import various functions from statsmodels\n",
    "import statsmodels\n",
    "import statsmodels.api as sm\n",
    "import statsmodels.stats.api as sms\n",
    "from statsmodels.graphics.gofplots import qqplot\n",
    "from statsmodels.stats.outliers_influence import variance_inflation_factor\n",
    "\n",
    "# import 'stats'\n",
    "from scipy import stats\n",
    "\n",
    "# 'metrics' from sklearn is used for evaluating the model performance\n",
    "from sklearn.metrics import mean_squared_error\n",
    "\n",
    "# import function to perform linear regression\n",
    "#from sklearn.linear_model import LinearRegression\n",
    "\n",
    "# import StandardScaler to perform scaling\n",
    "from sklearn.preprocessing import StandardScaler \n",
    "\n",
    "# import SGDRegressor from sklearn to perform linear regression with stochastic gradient descent\n",
    "#from sklearn.linear_model import SGDRegressor\n",
    "\n"
   ]
  },
  {
   "cell_type": "code",
   "execution_count": 2,
   "metadata": {
    "id": "Z29thDRH8fQB"
   },
   "outputs": [],
   "source": [
    "# set the plot size using 'rcParams'\n",
    "# once the plot size is set using 'rcParams', it sets the size of all the forthcoming plots in the file\n",
    "# pass width and height in inches to 'figure.figsize' \n",
    "plt.rcParams['figure.figsize'] = [15,8]"
   ]
  },
  {
   "cell_type": "markdown",
   "metadata": {
    "id": "n4nmsw8V8fQB"
   },
   "source": [
    "<a id=\"prep\"></a>\n",
    "# 2. Data Preparation"
   ]
  },
  {
   "cell_type": "markdown",
   "metadata": {
    "id": "pN5RcVN68fQB"
   },
   "source": [
    "<a id=\"read\"></a>\n",
    "## 2.1 Read the Data"
   ]
  },
  {
   "cell_type": "markdown",
   "metadata": {
    "id": "-E2eJTZz8fQB"
   },
   "source": [
    "#### Read the dataset and print the first five observations."
   ]
  },
  {
   "cell_type": "code",
   "execution_count": 3,
   "metadata": {
    "id": "yficOFr48fQC",
    "outputId": "d5e801bd-ff87-4e32-c24b-92387cad5340",
    "scrolled": false
   },
   "outputs": [
    {
     "data": {
      "text/html": [
       "<div>\n",
       "<style scoped>\n",
       "    .dataframe tbody tr th:only-of-type {\n",
       "        vertical-align: middle;\n",
       "    }\n",
       "\n",
       "    .dataframe tbody tr th {\n",
       "        vertical-align: top;\n",
       "    }\n",
       "\n",
       "    .dataframe thead th {\n",
       "        text-align: right;\n",
       "    }\n",
       "</style>\n",
       "<table border=\"1\" class=\"dataframe\">\n",
       "  <thead>\n",
       "    <tr style=\"text-align: right;\">\n",
       "      <th></th>\n",
       "      <th>PLAYER NAME</th>\n",
       "      <th>AGE</th>\n",
       "      <th>COUNTRY</th>\n",
       "      <th>PLAYING ROLE</th>\n",
       "      <th>T-RUNS</th>\n",
       "      <th>T-WKTS</th>\n",
       "      <th>ODI-RUNS-S</th>\n",
       "      <th>ODI-SR-B</th>\n",
       "      <th>ODI-WKTS</th>\n",
       "      <th>ODI-SR-BL</th>\n",
       "      <th>...</th>\n",
       "      <th>HS</th>\n",
       "      <th>AVE</th>\n",
       "      <th>SR-B</th>\n",
       "      <th>SIXERS</th>\n",
       "      <th>RUNS-C</th>\n",
       "      <th>WKTS</th>\n",
       "      <th>AVE-BL</th>\n",
       "      <th>ECON</th>\n",
       "      <th>SR-BL</th>\n",
       "      <th>SOLD PRICE</th>\n",
       "    </tr>\n",
       "  </thead>\n",
       "  <tbody>\n",
       "    <tr>\n",
       "      <th>0</th>\n",
       "      <td>Abdulla</td>\n",
       "      <td>2</td>\n",
       "      <td>South Africa</td>\n",
       "      <td>Allrounder</td>\n",
       "      <td>0</td>\n",
       "      <td>0</td>\n",
       "      <td>0</td>\n",
       "      <td>0.000000</td>\n",
       "      <td>0</td>\n",
       "      <td>0.000000</td>\n",
       "      <td>...</td>\n",
       "      <td>0</td>\n",
       "      <td>0.000000</td>\n",
       "      <td>0.000000</td>\n",
       "      <td>0</td>\n",
       "      <td>307</td>\n",
       "      <td>15</td>\n",
       "      <td>20.470000</td>\n",
       "      <td>9.900000</td>\n",
       "      <td>13.930000</td>\n",
       "      <td>50000</td>\n",
       "    </tr>\n",
       "    <tr>\n",
       "      <th>1</th>\n",
       "      <td>Abdur Razzak</td>\n",
       "      <td>2</td>\n",
       "      <td>Bangladesh</td>\n",
       "      <td>Bowler</td>\n",
       "      <td>266</td>\n",
       "      <td>18</td>\n",
       "      <td>657</td>\n",
       "      <td>71.410000</td>\n",
       "      <td>185</td>\n",
       "      <td>37.600000</td>\n",
       "      <td>...</td>\n",
       "      <td>0</td>\n",
       "      <td>0.000000</td>\n",
       "      <td>0.000000</td>\n",
       "      <td>0</td>\n",
       "      <td>29</td>\n",
       "      <td>0</td>\n",
       "      <td>0.000000</td>\n",
       "      <td>17.500000</td>\n",
       "      <td>0.000000</td>\n",
       "      <td>50000</td>\n",
       "    </tr>\n",
       "    <tr>\n",
       "      <th>2</th>\n",
       "      <td>Agarkar</td>\n",
       "      <td>2</td>\n",
       "      <td>India</td>\n",
       "      <td>Bowler</td>\n",
       "      <td>669</td>\n",
       "      <td>58</td>\n",
       "      <td>1269</td>\n",
       "      <td>80.620000</td>\n",
       "      <td>288</td>\n",
       "      <td>32.900000</td>\n",
       "      <td>...</td>\n",
       "      <td>39</td>\n",
       "      <td>18.560000</td>\n",
       "      <td>121.010000</td>\n",
       "      <td>5</td>\n",
       "      <td>1059</td>\n",
       "      <td>29</td>\n",
       "      <td>36.520000</td>\n",
       "      <td>8.810000</td>\n",
       "      <td>24.900000</td>\n",
       "      <td>350000</td>\n",
       "    </tr>\n",
       "    <tr>\n",
       "      <th>3</th>\n",
       "      <td>Ashwin</td>\n",
       "      <td>1</td>\n",
       "      <td>India</td>\n",
       "      <td>Bowler</td>\n",
       "      <td>308</td>\n",
       "      <td>31</td>\n",
       "      <td>241</td>\n",
       "      <td>84.560000</td>\n",
       "      <td>51</td>\n",
       "      <td>36.800000</td>\n",
       "      <td>...</td>\n",
       "      <td>11</td>\n",
       "      <td>5.800000</td>\n",
       "      <td>76.320000</td>\n",
       "      <td>0</td>\n",
       "      <td>1125</td>\n",
       "      <td>49</td>\n",
       "      <td>22.960000</td>\n",
       "      <td>8.230000</td>\n",
       "      <td>22.140000</td>\n",
       "      <td>850000</td>\n",
       "    </tr>\n",
       "    <tr>\n",
       "      <th>4</th>\n",
       "      <td>Badrinath</td>\n",
       "      <td>2</td>\n",
       "      <td>India</td>\n",
       "      <td>Batsman</td>\n",
       "      <td>109</td>\n",
       "      <td>0</td>\n",
       "      <td>79</td>\n",
       "      <td>45.930000</td>\n",
       "      <td>0</td>\n",
       "      <td>0.000000</td>\n",
       "      <td>...</td>\n",
       "      <td>71</td>\n",
       "      <td>32.930000</td>\n",
       "      <td>120.710000</td>\n",
       "      <td>28</td>\n",
       "      <td>0</td>\n",
       "      <td>0</td>\n",
       "      <td>0.000000</td>\n",
       "      <td>1.000000</td>\n",
       "      <td>0.000000</td>\n",
       "      <td>800000</td>\n",
       "    </tr>\n",
       "  </tbody>\n",
       "</table>\n",
       "<p>5 rows × 22 columns</p>\n",
       "</div>"
      ],
      "text/plain": [
       "    PLAYER NAME  AGE       COUNTRY PLAYING ROLE  T-RUNS  T-WKTS  ODI-RUNS-S  \\\n",
       "0       Abdulla    2  South Africa   Allrounder       0       0           0   \n",
       "1  Abdur Razzak    2    Bangladesh       Bowler     266      18         657   \n",
       "2       Agarkar    2         India       Bowler     669      58        1269   \n",
       "3        Ashwin    1         India       Bowler     308      31         241   \n",
       "4     Badrinath    2         India      Batsman     109       0          79   \n",
       "\n",
       "   ODI-SR-B  ODI-WKTS  ODI-SR-BL  ...  HS       AVE       SR-B  SIXERS  \\\n",
       "0  0.000000         0   0.000000  ...   0  0.000000   0.000000       0   \n",
       "1 71.410000       185  37.600000  ...   0  0.000000   0.000000       0   \n",
       "2 80.620000       288  32.900000  ...  39 18.560000 121.010000       5   \n",
       "3 84.560000        51  36.800000  ...  11  5.800000  76.320000       0   \n",
       "4 45.930000         0   0.000000  ...  71 32.930000 120.710000      28   \n",
       "\n",
       "   RUNS-C  WKTS    AVE-BL      ECON     SR-BL  SOLD PRICE  \n",
       "0     307    15 20.470000  9.900000 13.930000       50000  \n",
       "1      29     0  0.000000 17.500000  0.000000       50000  \n",
       "2    1059    29 36.520000  8.810000 24.900000      350000  \n",
       "3    1125    49 22.960000  8.230000 22.140000      850000  \n",
       "4       0     0  0.000000  1.000000  0.000000      800000  \n",
       "\n",
       "[5 rows x 22 columns]"
      ]
     },
     "execution_count": 3,
     "metadata": {},
     "output_type": "execute_result"
    }
   ],
   "source": [
    "# load the csv file\n",
    "# store the data in 'df_ipl'\n",
    "df_ipl = pd.read_csv('ipl_player_auction.csv')\n",
    "\n",
    "# display first five observations using head()\n",
    "df_ipl.head()"
   ]
  },
  {
   "cell_type": "markdown",
   "metadata": {
    "id": "Dw3HShII8fQC"
   },
   "source": [
    "**Let us now see the number of variables and observations in the data.**"
   ]
  },
  {
   "cell_type": "code",
   "execution_count": 4,
   "metadata": {
    "id": "KW4CTXhd8fQC",
    "outputId": "e2fc03ee-9f45-4065-ab2e-d170d79002d4"
   },
   "outputs": [
    {
     "data": {
      "text/plain": [
       "(130, 22)"
      ]
     },
     "execution_count": 4,
     "metadata": {},
     "output_type": "execute_result"
    }
   ],
   "source": [
    "# use 'shape' to check the dimension of data\n",
    "df_ipl.shape"
   ]
  },
  {
   "cell_type": "markdown",
   "metadata": {
    "id": "f9M-NVpr8fQD"
   },
   "source": [
    "**Interpretation:** The data has 130 observations and 22 variables."
   ]
  },
  {
   "cell_type": "markdown",
   "metadata": {
    "id": "_SG0NP3R8fQD"
   },
   "source": [
    "<a id=\"dtype\"></a>\n",
    "## 2.2 Check the Data Type"
   ]
  },
  {
   "cell_type": "markdown",
   "metadata": {
    "id": "-VYNePeS8fQD"
   },
   "source": [
    "**Check the data type of each variable. If the data type is not as per the data definition, change the data type.**"
   ]
  },
  {
   "cell_type": "code",
   "execution_count": 5,
   "metadata": {
    "id": "xwsQUK2K8fQD",
    "outputId": "795ea142-d9be-41b5-ce8f-80f163b9b5a2",
    "scrolled": false
   },
   "outputs": [
    {
     "data": {
      "text/plain": [
       "PLAYER NAME       object\n",
       "AGE                int64\n",
       "COUNTRY           object\n",
       "PLAYING ROLE      object\n",
       "T-RUNS             int64\n",
       "T-WKTS             int64\n",
       "ODI-RUNS-S         int64\n",
       "ODI-SR-B         float64\n",
       "ODI-WKTS           int64\n",
       "ODI-SR-BL        float64\n",
       "CAPTAINCY EXP      int64\n",
       "RUNS-S             int64\n",
       "HS                 int64\n",
       "AVE              float64\n",
       "SR-B             float64\n",
       "SIXERS             int64\n",
       "RUNS-C             int64\n",
       "WKTS               int64\n",
       "AVE-BL           float64\n",
       "ECON             float64\n",
       "SR-BL            float64\n",
       "SOLD PRICE         int64\n",
       "dtype: object"
      ]
     },
     "execution_count": 5,
     "metadata": {},
     "output_type": "execute_result"
    }
   ],
   "source": [
    "# use 'dtypes' to check the data type of a variable\n",
    "df_ipl.dtypes"
   ]
  },
  {
   "cell_type": "markdown",
   "metadata": {
    "id": "SmOjJJ1M8fQD"
   },
   "source": [
    "**Interpretation:** The variables `PLAYER NAME`, `COUNTRY` and `PLAYING ROLE` are categorical. All the remaining variables are numerical. \n",
    "\n",
    "From the above output, we see that the data type of `AGE` and `CAPTAINCY EXP` are 'int64'.\n",
    "\n",
    "But according to the data definition, `AGE` and `CAPTAINCY EXP` are categorical variables, which are wrongly interpreted as 'int64', so we will convert these variables data type to 'object'."
   ]
  },
  {
   "cell_type": "markdown",
   "metadata": {
    "id": "RV2Mrs008fQD"
   },
   "source": [
    "#### Change the data type as per the data definition."
   ]
  },
  {
   "cell_type": "code",
   "execution_count": 6,
   "metadata": {
    "id": "yiDgQS7k8fQD"
   },
   "outputs": [],
   "source": [
    "# convert numerical variables to categorical (object) \n",
    "# use astype() to change the data type\n",
    "\n",
    "# change the data type of 'AGE' \n",
    "df_ipl['AGE'] = df_ipl['AGE'].astype('object')\n",
    "\n",
    "# change the data type of 'CAPTAINCY EXP'\n",
    "df_ipl['CAPTAINCY EXP'] = df_ipl['CAPTAINCY EXP'].astype('object')"
   ]
  },
  {
   "cell_type": "markdown",
   "metadata": {
    "id": "_FBt2wRN8fQE"
   },
   "source": [
    "#### Recheck the data type after the conversion. "
   ]
  },
  {
   "cell_type": "code",
   "execution_count": 7,
   "metadata": {
    "id": "8rQvZOwU8fQE",
    "outputId": "8e38b2b9-d3f1-4c09-b2cc-5ab5a2741505"
   },
   "outputs": [
    {
     "data": {
      "text/plain": [
       "PLAYER NAME       object\n",
       "AGE               object\n",
       "COUNTRY           object\n",
       "PLAYING ROLE      object\n",
       "T-RUNS             int64\n",
       "T-WKTS             int64\n",
       "ODI-RUNS-S         int64\n",
       "ODI-SR-B         float64\n",
       "ODI-WKTS           int64\n",
       "ODI-SR-BL        float64\n",
       "CAPTAINCY EXP     object\n",
       "RUNS-S             int64\n",
       "HS                 int64\n",
       "AVE              float64\n",
       "SR-B             float64\n",
       "SIXERS             int64\n",
       "RUNS-C             int64\n",
       "WKTS               int64\n",
       "AVE-BL           float64\n",
       "ECON             float64\n",
       "SR-BL            float64\n",
       "SOLD PRICE         int64\n",
       "dtype: object"
      ]
     },
     "execution_count": 7,
     "metadata": {},
     "output_type": "execute_result"
    }
   ],
   "source": [
    "# recheck the data types using 'dtypes'\n",
    "df_ipl.dtypes"
   ]
  },
  {
   "cell_type": "markdown",
   "metadata": {
    "id": "q4YZAceY8fQE"
   },
   "source": [
    "**Interpretation:** Now, all the variables have the correct data type."
   ]
  },
  {
   "cell_type": "markdown",
   "metadata": {
    "id": "xR3cFUgZ8fQE"
   },
   "source": [
    "<a id=\"drop\"></a>\n",
    "## 2.3 Remove Insignificant Variables"
   ]
  },
  {
   "cell_type": "markdown",
   "metadata": {
    "id": "dAo-VUaF8fQE"
   },
   "source": [
    "The column `PLAYER NAME` contains the name of the player, which is redundant for further analysis. Thus, we drop the column."
   ]
  },
  {
   "cell_type": "code",
   "execution_count": 8,
   "metadata": {
    "id": "VNz3MKa38fQE"
   },
   "outputs": [],
   "source": [
    "# drop the column 'PLAYER NAME' using drop()\n",
    "# 'axis = 1' drops the specified column\n",
    "df_ipl = df_ipl.drop('PLAYER NAME', axis = 1)"
   ]
  },
  {
   "cell_type": "markdown",
   "metadata": {
    "id": "CSz5dOmm8fQE"
   },
   "source": [
    "<a id=\"null\"></a>\n",
    "## 2.4 Missing Value Treatment"
   ]
  },
  {
   "cell_type": "markdown",
   "metadata": {
    "id": "l8Uid2tw8fQE"
   },
   "source": [
    "First run a check for the presence of missing values and their percentage for each column. Then choose the right approach to treat them."
   ]
  },
  {
   "cell_type": "code",
   "execution_count": 9,
   "metadata": {
    "id": "QPIANfrc8fQE",
    "outputId": "66f0674b-b86c-48a7-f9ec-bda4740da8f9"
   },
   "outputs": [
    {
     "data": {
      "text/html": [
       "<div>\n",
       "<style scoped>\n",
       "    .dataframe tbody tr th:only-of-type {\n",
       "        vertical-align: middle;\n",
       "    }\n",
       "\n",
       "    .dataframe tbody tr th {\n",
       "        vertical-align: top;\n",
       "    }\n",
       "\n",
       "    .dataframe thead th {\n",
       "        text-align: right;\n",
       "    }\n",
       "</style>\n",
       "<table border=\"1\" class=\"dataframe\">\n",
       "  <thead>\n",
       "    <tr style=\"text-align: right;\">\n",
       "      <th></th>\n",
       "      <th>Total</th>\n",
       "      <th>Percentage of Missing Values</th>\n",
       "    </tr>\n",
       "  </thead>\n",
       "  <tbody>\n",
       "    <tr>\n",
       "      <th>AGE</th>\n",
       "      <td>0</td>\n",
       "      <td>0.000000</td>\n",
       "    </tr>\n",
       "    <tr>\n",
       "      <th>HS</th>\n",
       "      <td>0</td>\n",
       "      <td>0.000000</td>\n",
       "    </tr>\n",
       "    <tr>\n",
       "      <th>SR-BL</th>\n",
       "      <td>0</td>\n",
       "      <td>0.000000</td>\n",
       "    </tr>\n",
       "    <tr>\n",
       "      <th>ECON</th>\n",
       "      <td>0</td>\n",
       "      <td>0.000000</td>\n",
       "    </tr>\n",
       "    <tr>\n",
       "      <th>AVE-BL</th>\n",
       "      <td>0</td>\n",
       "      <td>0.000000</td>\n",
       "    </tr>\n",
       "    <tr>\n",
       "      <th>WKTS</th>\n",
       "      <td>0</td>\n",
       "      <td>0.000000</td>\n",
       "    </tr>\n",
       "    <tr>\n",
       "      <th>RUNS-C</th>\n",
       "      <td>0</td>\n",
       "      <td>0.000000</td>\n",
       "    </tr>\n",
       "    <tr>\n",
       "      <th>SIXERS</th>\n",
       "      <td>0</td>\n",
       "      <td>0.000000</td>\n",
       "    </tr>\n",
       "    <tr>\n",
       "      <th>SR-B</th>\n",
       "      <td>0</td>\n",
       "      <td>0.000000</td>\n",
       "    </tr>\n",
       "    <tr>\n",
       "      <th>AVE</th>\n",
       "      <td>0</td>\n",
       "      <td>0.000000</td>\n",
       "    </tr>\n",
       "    <tr>\n",
       "      <th>RUNS-S</th>\n",
       "      <td>0</td>\n",
       "      <td>0.000000</td>\n",
       "    </tr>\n",
       "    <tr>\n",
       "      <th>COUNTRY</th>\n",
       "      <td>0</td>\n",
       "      <td>0.000000</td>\n",
       "    </tr>\n",
       "    <tr>\n",
       "      <th>CAPTAINCY EXP</th>\n",
       "      <td>0</td>\n",
       "      <td>0.000000</td>\n",
       "    </tr>\n",
       "    <tr>\n",
       "      <th>ODI-SR-BL</th>\n",
       "      <td>0</td>\n",
       "      <td>0.000000</td>\n",
       "    </tr>\n",
       "    <tr>\n",
       "      <th>ODI-WKTS</th>\n",
       "      <td>0</td>\n",
       "      <td>0.000000</td>\n",
       "    </tr>\n",
       "    <tr>\n",
       "      <th>ODI-SR-B</th>\n",
       "      <td>0</td>\n",
       "      <td>0.000000</td>\n",
       "    </tr>\n",
       "    <tr>\n",
       "      <th>ODI-RUNS-S</th>\n",
       "      <td>0</td>\n",
       "      <td>0.000000</td>\n",
       "    </tr>\n",
       "    <tr>\n",
       "      <th>T-WKTS</th>\n",
       "      <td>0</td>\n",
       "      <td>0.000000</td>\n",
       "    </tr>\n",
       "    <tr>\n",
       "      <th>T-RUNS</th>\n",
       "      <td>0</td>\n",
       "      <td>0.000000</td>\n",
       "    </tr>\n",
       "    <tr>\n",
       "      <th>PLAYING ROLE</th>\n",
       "      <td>0</td>\n",
       "      <td>0.000000</td>\n",
       "    </tr>\n",
       "    <tr>\n",
       "      <th>SOLD PRICE</th>\n",
       "      <td>0</td>\n",
       "      <td>0.000000</td>\n",
       "    </tr>\n",
       "  </tbody>\n",
       "</table>\n",
       "</div>"
      ],
      "text/plain": [
       "               Total  Percentage of Missing Values\n",
       "AGE                0                      0.000000\n",
       "HS                 0                      0.000000\n",
       "SR-BL              0                      0.000000\n",
       "ECON               0                      0.000000\n",
       "AVE-BL             0                      0.000000\n",
       "WKTS               0                      0.000000\n",
       "RUNS-C             0                      0.000000\n",
       "SIXERS             0                      0.000000\n",
       "SR-B               0                      0.000000\n",
       "AVE                0                      0.000000\n",
       "RUNS-S             0                      0.000000\n",
       "COUNTRY            0                      0.000000\n",
       "CAPTAINCY EXP      0                      0.000000\n",
       "ODI-SR-BL          0                      0.000000\n",
       "ODI-WKTS           0                      0.000000\n",
       "ODI-SR-B           0                      0.000000\n",
       "ODI-RUNS-S         0                      0.000000\n",
       "T-WKTS             0                      0.000000\n",
       "T-RUNS             0                      0.000000\n",
       "PLAYING ROLE       0                      0.000000\n",
       "SOLD PRICE         0                      0.000000"
      ]
     },
     "execution_count": 9,
     "metadata": {},
     "output_type": "execute_result"
    }
   ],
   "source": [
    "# sort the variables on the basis of total null values in the variable\n",
    "# 'isnull().sum()' returns the number of missing values in each variable\n",
    "# 'ascending = False' sorts values in the descending order\n",
    "# the variable with highest number of missing values will appear first\n",
    "Total = df_ipl.isnull().sum().sort_values(ascending=False)          \n",
    "\n",
    "# calculate percentage of missing values\n",
    "# 'ascending = False' sorts values in the descending order\n",
    "# the variable with highest percentage of missing values will appear first\n",
    "Percent = (df_ipl.isnull().sum()*100/df_ipl.isnull().count()).sort_values(ascending=False)   \n",
    "\n",
    "# concat the 'Total' and 'Percent' columns using 'concat' function\n",
    "# pass a list of column names in parameter 'keys' \n",
    "# 'axis = 1' concats along the columns\n",
    "missing_data = pd.concat([Total, Percent], axis=1, keys=['Total', 'Percentage of Missing Values'])    \n",
    "missing_data"
   ]
  },
  {
   "cell_type": "markdown",
   "metadata": {
    "id": "3n911FJV8fQF"
   },
   "source": [
    "**Interpretation:** The above output shows that there are no missing values in the data."
   ]
  },
  {
   "cell_type": "markdown",
   "metadata": {
    "id": "xBuf6hXM8fQF"
   },
   "source": [
    "<a id=\"dummy\"></a>\n",
    "## 2.5 Dummy Encode the Categorical Variables"
   ]
  },
  {
   "cell_type": "markdown",
   "metadata": {
    "id": "wDBqMH6v8fQF"
   },
   "source": [
    "#### Split the dependent and independent variables."
   ]
  },
  {
   "cell_type": "code",
   "execution_count": 10,
   "metadata": {
    "id": "D-R0IvOS8fQF"
   },
   "outputs": [],
   "source": [
    "# store the target variable 'SOLD PRICE' in a dataframe 'df_target'\n",
    "df_target = df_ipl['SOLD PRICE']\n",
    "\n",
    "# store all the independent variables in a dataframe 'df_feature' \n",
    "# drop the column 'SOLD PRICE' using drop()\n",
    "# 'axis = 1' drops the specified column\n",
    "df_feature = df_ipl.drop('SOLD PRICE', axis = 1)"
   ]
  },
  {
   "cell_type": "markdown",
   "metadata": {
    "id": "OkneWYd-8fQF"
   },
   "source": [
    "#### Filter numerical and categorical variables."
   ]
  },
  {
   "cell_type": "code",
   "execution_count": 11,
   "metadata": {
    "id": "bEIzcOOg8fQF",
    "outputId": "b3011367-1538-4987-cbe8-a2b2b279d7a4"
   },
   "outputs": [
    {
     "data": {
      "text/plain": [
       "Index(['T-RUNS', 'T-WKTS', 'ODI-RUNS-S', 'ODI-SR-B', 'ODI-WKTS', 'ODI-SR-BL',\n",
       "       'RUNS-S', 'HS', 'AVE', 'SR-B', 'SIXERS', 'RUNS-C', 'WKTS', 'AVE-BL',\n",
       "       'ECON', 'SR-BL'],\n",
       "      dtype='object')"
      ]
     },
     "execution_count": 11,
     "metadata": {},
     "output_type": "execute_result"
    }
   ],
   "source": [
    "# filter the numerical features in the dataset\n",
    "# 'select_dtypes' is used to select the variables with given data type\n",
    "# 'include=[np.number]' will include all the numerical variables\n",
    "df_num = df_feature.select_dtypes(include=[np.number])\n",
    "\n",
    "# display numerical features\n",
    "df_num.columns"
   ]
  },
  {
   "cell_type": "code",
   "execution_count": 12,
   "metadata": {
    "id": "yjDPe0As8fQF",
    "outputId": "8a7d4138-8d94-4882-d812-3a3d7c85fa73"
   },
   "outputs": [
    {
     "data": {
      "text/plain": [
       "Index(['AGE', 'COUNTRY', 'PLAYING ROLE', 'CAPTAINCY EXP'], dtype='object')"
      ]
     },
     "execution_count": 12,
     "metadata": {},
     "output_type": "execute_result"
    }
   ],
   "source": [
    "# filter the categorical features in the dataset\n",
    "# 'select_dtypes' is used to select the variables with given data type\n",
    "# 'include=[np.object]' will include all the categorical variables\n",
    "df_cat = df_feature.select_dtypes(include=object)\n",
    "\n",
    "# display categorical features\n",
    "df_cat.columns"
   ]
  },
  {
   "cell_type": "markdown",
   "metadata": {
    "id": "qWYvPyYH8fQF"
   },
   "source": [
    "The regression method fails in presence of categorical variables. To overcome this we use (n-1) dummy encoding. \n",
    "\n",
    "**Encode the each categorical variable and create (n-1) dummy variables for n categories of the variable.**"
   ]
  },
  {
   "cell_type": "code",
   "execution_count": 13,
   "metadata": {
    "id": "CUZZQTOE8fQF"
   },
   "outputs": [],
   "source": [
    "# use 'get_dummies' from pandas to create dummy variables\n",
    "# use 'drop_first' to create (n-1) dummy variables for 'medincome'\n",
    "dummy_var = pd.get_dummies(data = df_cat, drop_first=True)"
   ]
  },
  {
   "cell_type": "code",
   "execution_count": 14,
   "metadata": {},
   "outputs": [
    {
     "data": {
      "text/html": [
       "<div>\n",
       "<style scoped>\n",
       "    .dataframe tbody tr th:only-of-type {\n",
       "        vertical-align: middle;\n",
       "    }\n",
       "\n",
       "    .dataframe tbody tr th {\n",
       "        vertical-align: top;\n",
       "    }\n",
       "\n",
       "    .dataframe thead th {\n",
       "        text-align: right;\n",
       "    }\n",
       "</style>\n",
       "<table border=\"1\" class=\"dataframe\">\n",
       "  <thead>\n",
       "    <tr style=\"text-align: right;\">\n",
       "      <th></th>\n",
       "      <th>T-RUNS</th>\n",
       "      <th>T-WKTS</th>\n",
       "      <th>ODI-RUNS-S</th>\n",
       "      <th>ODI-SR-B</th>\n",
       "      <th>ODI-WKTS</th>\n",
       "      <th>ODI-SR-BL</th>\n",
       "      <th>RUNS-S</th>\n",
       "      <th>HS</th>\n",
       "      <th>AVE</th>\n",
       "      <th>SR-B</th>\n",
       "      <th>SIXERS</th>\n",
       "      <th>RUNS-C</th>\n",
       "      <th>WKTS</th>\n",
       "      <th>AVE-BL</th>\n",
       "      <th>ECON</th>\n",
       "      <th>SR-BL</th>\n",
       "    </tr>\n",
       "  </thead>\n",
       "  <tbody>\n",
       "    <tr>\n",
       "      <th>0</th>\n",
       "      <td>-0.674581</td>\n",
       "      <td>-0.468108</td>\n",
       "      <td>-0.703043</td>\n",
       "      <td>-2.757731</td>\n",
       "      <td>-0.686760</td>\n",
       "      <td>-1.277132</td>\n",
       "      <td>-0.839014</td>\n",
       "      <td>-1.307954</td>\n",
       "      <td>-1.693829</td>\n",
       "      <td>-3.102818</td>\n",
       "      <td>-0.745369</td>\n",
       "      <td>-0.303010</td>\n",
       "      <td>-0.096956</td>\n",
       "      <td>-0.123459</td>\n",
       "      <td>0.423147</td>\n",
       "      <td>-0.226928</td>\n",
       "    </tr>\n",
       "    <tr>\n",
       "      <th>1</th>\n",
       "      <td>-0.593774</td>\n",
       "      <td>-0.341460</td>\n",
       "      <td>-0.518927</td>\n",
       "      <td>0.008708</td>\n",
       "      <td>0.983269</td>\n",
       "      <td>0.133821</td>\n",
       "      <td>-0.839014</td>\n",
       "      <td>-1.307954</td>\n",
       "      <td>-1.693829</td>\n",
       "      <td>-3.102818</td>\n",
       "      <td>-0.745369</td>\n",
       "      <td>-0.802864</td>\n",
       "      <td>-0.786968</td>\n",
       "      <td>-1.111749</td>\n",
       "      <td>1.877704</td>\n",
       "      <td>-1.142498</td>\n",
       "    </tr>\n",
       "    <tr>\n",
       "      <th>2</th>\n",
       "      <td>-0.471347</td>\n",
       "      <td>-0.060022</td>\n",
       "      <td>-0.347421</td>\n",
       "      <td>0.365505</td>\n",
       "      <td>1.913068</td>\n",
       "      <td>-0.042548</td>\n",
       "      <td>-0.566677</td>\n",
       "      <td>-0.232487</td>\n",
       "      <td>-0.014415</td>\n",
       "      <td>0.278728</td>\n",
       "      <td>-0.534721</td>\n",
       "      <td>1.049112</td>\n",
       "      <td>0.547056</td>\n",
       "      <td>0.651433</td>\n",
       "      <td>0.214533</td>\n",
       "      <td>0.494091</td>\n",
       "    </tr>\n",
       "    <tr>\n",
       "      <th>3</th>\n",
       "      <td>-0.581015</td>\n",
       "      <td>-0.249993</td>\n",
       "      <td>-0.635505</td>\n",
       "      <td>0.518141</td>\n",
       "      <td>-0.226374</td>\n",
       "      <td>0.103801</td>\n",
       "      <td>-0.744430</td>\n",
       "      <td>-1.004617</td>\n",
       "      <td>-1.169012</td>\n",
       "      <td>-0.970105</td>\n",
       "      <td>-0.745369</td>\n",
       "      <td>1.167783</td>\n",
       "      <td>1.467072</td>\n",
       "      <td>-0.003242</td>\n",
       "      <td>0.103527</td>\n",
       "      <td>0.312686</td>\n",
       "    </tr>\n",
       "    <tr>\n",
       "      <th>4</th>\n",
       "      <td>-0.641468</td>\n",
       "      <td>-0.468108</td>\n",
       "      <td>-0.680904</td>\n",
       "      <td>-0.978393</td>\n",
       "      <td>-0.686760</td>\n",
       "      <td>-1.277132</td>\n",
       "      <td>1.308699</td>\n",
       "      <td>0.649946</td>\n",
       "      <td>1.285864</td>\n",
       "      <td>0.270344</td>\n",
       "      <td>0.434258</td>\n",
       "      <td>-0.855007</td>\n",
       "      <td>-0.786968</td>\n",
       "      <td>-1.111749</td>\n",
       "      <td>-1.280217</td>\n",
       "      <td>-1.142498</td>\n",
       "    </tr>\n",
       "  </tbody>\n",
       "</table>\n",
       "</div>"
      ],
      "text/plain": [
       "     T-RUNS    T-WKTS  ODI-RUNS-S  ODI-SR-B  ODI-WKTS  ODI-SR-BL    RUNS-S  \\\n",
       "0 -0.674581 -0.468108   -0.703043 -2.757731 -0.686760  -1.277132 -0.839014   \n",
       "1 -0.593774 -0.341460   -0.518927  0.008708  0.983269   0.133821 -0.839014   \n",
       "2 -0.471347 -0.060022   -0.347421  0.365505  1.913068  -0.042548 -0.566677   \n",
       "3 -0.581015 -0.249993   -0.635505  0.518141 -0.226374   0.103801 -0.744430   \n",
       "4 -0.641468 -0.468108   -0.680904 -0.978393 -0.686760  -1.277132  1.308699   \n",
       "\n",
       "         HS       AVE      SR-B    SIXERS    RUNS-C      WKTS    AVE-BL  \\\n",
       "0 -1.307954 -1.693829 -3.102818 -0.745369 -0.303010 -0.096956 -0.123459   \n",
       "1 -1.307954 -1.693829 -3.102818 -0.745369 -0.802864 -0.786968 -1.111749   \n",
       "2 -0.232487 -0.014415  0.278728 -0.534721  1.049112  0.547056  0.651433   \n",
       "3 -1.004617 -1.169012 -0.970105 -0.745369  1.167783  1.467072 -0.003242   \n",
       "4  0.649946  1.285864  0.270344  0.434258 -0.855007 -0.786968 -1.111749   \n",
       "\n",
       "       ECON     SR-BL  \n",
       "0  0.423147 -0.226928  \n",
       "1  1.877704 -1.142498  \n",
       "2  0.214533  0.494091  \n",
       "3  0.103527  0.312686  \n",
       "4 -1.280217 -1.142498  "
      ]
     },
     "execution_count": 14,
     "metadata": {},
     "output_type": "execute_result"
    }
   ],
   "source": [
    "# SCALE the NUMERIC variables \n",
    "# initialize the standard scalar\n",
    "X_scaler = StandardScaler()\n",
    "\n",
    "# standardize all the columns of the dataframe 'df_ipl_dummy'\n",
    "df_scaled_num = X_scaler.fit_transform(df_num)\n",
    "df_scaled_num = pd.DataFrame(df_scaled_num, columns=df_num.columns)\n",
    "df_scaled_num.head()"
   ]
  },
  {
   "cell_type": "markdown",
   "metadata": {
    "id": "pJdI6TUp8fQF"
   },
   "source": [
    "#### Concatenate numerical and dummy encoded categorical variables."
   ]
  },
  {
   "cell_type": "code",
   "execution_count": 15,
   "metadata": {
    "id": "UZlNP53W8fQG",
    "outputId": "8f76c328-63a2-4ddf-e516-0eaa3dc0d77f"
   },
   "outputs": [
    {
     "data": {
      "text/html": [
       "<div>\n",
       "<style scoped>\n",
       "    .dataframe tbody tr th:only-of-type {\n",
       "        vertical-align: middle;\n",
       "    }\n",
       "\n",
       "    .dataframe tbody tr th {\n",
       "        vertical-align: top;\n",
       "    }\n",
       "\n",
       "    .dataframe thead th {\n",
       "        text-align: right;\n",
       "    }\n",
       "</style>\n",
       "<table border=\"1\" class=\"dataframe\">\n",
       "  <thead>\n",
       "    <tr style=\"text-align: right;\">\n",
       "      <th></th>\n",
       "      <th>T-RUNS</th>\n",
       "      <th>T-WKTS</th>\n",
       "      <th>ODI-RUNS-S</th>\n",
       "      <th>ODI-SR-B</th>\n",
       "      <th>ODI-WKTS</th>\n",
       "      <th>ODI-SR-BL</th>\n",
       "      <th>RUNS-S</th>\n",
       "      <th>HS</th>\n",
       "      <th>AVE</th>\n",
       "      <th>SR-B</th>\n",
       "      <th>...</th>\n",
       "      <th>COUNTRY_New Zealand</th>\n",
       "      <th>COUNTRY_Pakistan</th>\n",
       "      <th>COUNTRY_South Africa</th>\n",
       "      <th>COUNTRY_Sri Lanka</th>\n",
       "      <th>COUNTRY_West Indies</th>\n",
       "      <th>COUNTRY_Zimbabwe</th>\n",
       "      <th>PLAYING ROLE_Batsman</th>\n",
       "      <th>PLAYING ROLE_Bowler</th>\n",
       "      <th>PLAYING ROLE_W. Keeper</th>\n",
       "      <th>CAPTAINCY EXP_1</th>\n",
       "    </tr>\n",
       "  </thead>\n",
       "  <tbody>\n",
       "    <tr>\n",
       "      <th>0</th>\n",
       "      <td>-0.674581</td>\n",
       "      <td>-0.468108</td>\n",
       "      <td>-0.703043</td>\n",
       "      <td>-2.757731</td>\n",
       "      <td>-0.686760</td>\n",
       "      <td>-1.277132</td>\n",
       "      <td>-0.839014</td>\n",
       "      <td>-1.307954</td>\n",
       "      <td>-1.693829</td>\n",
       "      <td>-3.102818</td>\n",
       "      <td>...</td>\n",
       "      <td>0</td>\n",
       "      <td>0</td>\n",
       "      <td>1</td>\n",
       "      <td>0</td>\n",
       "      <td>0</td>\n",
       "      <td>0</td>\n",
       "      <td>0</td>\n",
       "      <td>0</td>\n",
       "      <td>0</td>\n",
       "      <td>0</td>\n",
       "    </tr>\n",
       "    <tr>\n",
       "      <th>1</th>\n",
       "      <td>-0.593774</td>\n",
       "      <td>-0.341460</td>\n",
       "      <td>-0.518927</td>\n",
       "      <td>0.008708</td>\n",
       "      <td>0.983269</td>\n",
       "      <td>0.133821</td>\n",
       "      <td>-0.839014</td>\n",
       "      <td>-1.307954</td>\n",
       "      <td>-1.693829</td>\n",
       "      <td>-3.102818</td>\n",
       "      <td>...</td>\n",
       "      <td>0</td>\n",
       "      <td>0</td>\n",
       "      <td>0</td>\n",
       "      <td>0</td>\n",
       "      <td>0</td>\n",
       "      <td>0</td>\n",
       "      <td>0</td>\n",
       "      <td>1</td>\n",
       "      <td>0</td>\n",
       "      <td>0</td>\n",
       "    </tr>\n",
       "    <tr>\n",
       "      <th>2</th>\n",
       "      <td>-0.471347</td>\n",
       "      <td>-0.060022</td>\n",
       "      <td>-0.347421</td>\n",
       "      <td>0.365505</td>\n",
       "      <td>1.913068</td>\n",
       "      <td>-0.042548</td>\n",
       "      <td>-0.566677</td>\n",
       "      <td>-0.232487</td>\n",
       "      <td>-0.014415</td>\n",
       "      <td>0.278728</td>\n",
       "      <td>...</td>\n",
       "      <td>0</td>\n",
       "      <td>0</td>\n",
       "      <td>0</td>\n",
       "      <td>0</td>\n",
       "      <td>0</td>\n",
       "      <td>0</td>\n",
       "      <td>0</td>\n",
       "      <td>1</td>\n",
       "      <td>0</td>\n",
       "      <td>0</td>\n",
       "    </tr>\n",
       "    <tr>\n",
       "      <th>3</th>\n",
       "      <td>-0.581015</td>\n",
       "      <td>-0.249993</td>\n",
       "      <td>-0.635505</td>\n",
       "      <td>0.518141</td>\n",
       "      <td>-0.226374</td>\n",
       "      <td>0.103801</td>\n",
       "      <td>-0.744430</td>\n",
       "      <td>-1.004617</td>\n",
       "      <td>-1.169012</td>\n",
       "      <td>-0.970105</td>\n",
       "      <td>...</td>\n",
       "      <td>0</td>\n",
       "      <td>0</td>\n",
       "      <td>0</td>\n",
       "      <td>0</td>\n",
       "      <td>0</td>\n",
       "      <td>0</td>\n",
       "      <td>0</td>\n",
       "      <td>1</td>\n",
       "      <td>0</td>\n",
       "      <td>0</td>\n",
       "    </tr>\n",
       "    <tr>\n",
       "      <th>4</th>\n",
       "      <td>-0.641468</td>\n",
       "      <td>-0.468108</td>\n",
       "      <td>-0.680904</td>\n",
       "      <td>-0.978393</td>\n",
       "      <td>-0.686760</td>\n",
       "      <td>-1.277132</td>\n",
       "      <td>1.308699</td>\n",
       "      <td>0.649946</td>\n",
       "      <td>1.285864</td>\n",
       "      <td>0.270344</td>\n",
       "      <td>...</td>\n",
       "      <td>0</td>\n",
       "      <td>0</td>\n",
       "      <td>0</td>\n",
       "      <td>0</td>\n",
       "      <td>0</td>\n",
       "      <td>0</td>\n",
       "      <td>1</td>\n",
       "      <td>0</td>\n",
       "      <td>0</td>\n",
       "      <td>0</td>\n",
       "    </tr>\n",
       "  </tbody>\n",
       "</table>\n",
       "<p>5 rows × 31 columns</p>\n",
       "</div>"
      ],
      "text/plain": [
       "     T-RUNS    T-WKTS  ODI-RUNS-S  ODI-SR-B  ODI-WKTS  ODI-SR-BL    RUNS-S  \\\n",
       "0 -0.674581 -0.468108   -0.703043 -2.757731 -0.686760  -1.277132 -0.839014   \n",
       "1 -0.593774 -0.341460   -0.518927  0.008708  0.983269   0.133821 -0.839014   \n",
       "2 -0.471347 -0.060022   -0.347421  0.365505  1.913068  -0.042548 -0.566677   \n",
       "3 -0.581015 -0.249993   -0.635505  0.518141 -0.226374   0.103801 -0.744430   \n",
       "4 -0.641468 -0.468108   -0.680904 -0.978393 -0.686760  -1.277132  1.308699   \n",
       "\n",
       "         HS       AVE      SR-B  ...  COUNTRY_New Zealand  COUNTRY_Pakistan  \\\n",
       "0 -1.307954 -1.693829 -3.102818  ...                    0                 0   \n",
       "1 -1.307954 -1.693829 -3.102818  ...                    0                 0   \n",
       "2 -0.232487 -0.014415  0.278728  ...                    0                 0   \n",
       "3 -1.004617 -1.169012 -0.970105  ...                    0                 0   \n",
       "4  0.649946  1.285864  0.270344  ...                    0                 0   \n",
       "\n",
       "   COUNTRY_South Africa  COUNTRY_Sri Lanka  COUNTRY_West Indies  \\\n",
       "0                     1                  0                    0   \n",
       "1                     0                  0                    0   \n",
       "2                     0                  0                    0   \n",
       "3                     0                  0                    0   \n",
       "4                     0                  0                    0   \n",
       "\n",
       "   COUNTRY_Zimbabwe  PLAYING ROLE_Batsman  PLAYING ROLE_Bowler  \\\n",
       "0                 0                     0                    0   \n",
       "1                 0                     0                    1   \n",
       "2                 0                     0                    1   \n",
       "3                 0                     0                    1   \n",
       "4                 0                     1                    0   \n",
       "\n",
       "   PLAYING ROLE_W. Keeper  CAPTAINCY EXP_1  \n",
       "0                       0                0  \n",
       "1                       0                0  \n",
       "2                       0                0  \n",
       "3                       0                0  \n",
       "4                       0                0  \n",
       "\n",
       "[5 rows x 31 columns]"
      ]
     },
     "execution_count": 15,
     "metadata": {},
     "output_type": "execute_result"
    }
   ],
   "source": [
    "# concat the dummy variables with numeric features to create a dataframe of all independent variables\n",
    "# 'axis=1' concats the dataframes along columns \n",
    "X = pd.concat([df_scaled_num, dummy_var], axis=1)\n",
    "\n",
    "# display first five observations\n",
    "X.head()"
   ]
  },
  {
   "cell_type": "markdown",
   "metadata": {
    "id": "ns3fu2P_8fQG"
   },
   "source": [
    "**Interpretation:** We can see that the dummy variables are added to the data. '1' in the column 'AGE_2' represents that the age of the corresponding player is between 25 to 35 years. Also, the '0' in both the columns 'AGE_2' and 'AGE_3' indicates that the age of the corresponding player is less than 25."
   ]
  },
  {
   "cell_type": "markdown",
   "metadata": {
    "id": "NiS0FB5x8fQG"
   },
   "source": [
    "<a id=\"scale\"></a>\n",
    "## 2.6 Scale the Data "
   ]
  },
  {
   "cell_type": "markdown",
   "metadata": {
    "id": "AkMBlE6Q8fQG"
   },
   "source": [
    "We scale the variables to get all the variables in the same range. With this, we can avoid a problem in which some features come to dominate solely because they tend to have larger values than others."
   ]
  },
  {
   "cell_type": "code",
   "execution_count": 16,
   "metadata": {
    "id": "nTVT99JX8fQG"
   },
   "outputs": [],
   "source": [
    "# Scaling already performed\n",
    "\n",
    "y = df_target"
   ]
  },
  {
   "cell_type": "code",
   "execution_count": 17,
   "metadata": {},
   "outputs": [
    {
     "data": {
      "text/html": [
       "<div>\n",
       "<style scoped>\n",
       "    .dataframe tbody tr th:only-of-type {\n",
       "        vertical-align: middle;\n",
       "    }\n",
       "\n",
       "    .dataframe tbody tr th {\n",
       "        vertical-align: top;\n",
       "    }\n",
       "\n",
       "    .dataframe thead th {\n",
       "        text-align: right;\n",
       "    }\n",
       "</style>\n",
       "<table border=\"1\" class=\"dataframe\">\n",
       "  <thead>\n",
       "    <tr style=\"text-align: right;\">\n",
       "      <th></th>\n",
       "      <th>T-RUNS</th>\n",
       "      <th>T-WKTS</th>\n",
       "      <th>ODI-RUNS-S</th>\n",
       "      <th>ODI-SR-B</th>\n",
       "      <th>ODI-WKTS</th>\n",
       "      <th>ODI-SR-BL</th>\n",
       "      <th>RUNS-S</th>\n",
       "      <th>HS</th>\n",
       "      <th>AVE</th>\n",
       "      <th>SR-B</th>\n",
       "      <th>...</th>\n",
       "      <th>COUNTRY_New Zealand</th>\n",
       "      <th>COUNTRY_Pakistan</th>\n",
       "      <th>COUNTRY_South Africa</th>\n",
       "      <th>COUNTRY_Sri Lanka</th>\n",
       "      <th>COUNTRY_West Indies</th>\n",
       "      <th>COUNTRY_Zimbabwe</th>\n",
       "      <th>PLAYING ROLE_Batsman</th>\n",
       "      <th>PLAYING ROLE_Bowler</th>\n",
       "      <th>PLAYING ROLE_W. Keeper</th>\n",
       "      <th>CAPTAINCY EXP_1</th>\n",
       "    </tr>\n",
       "  </thead>\n",
       "  <tbody>\n",
       "    <tr>\n",
       "      <th>0</th>\n",
       "      <td>-0.674581</td>\n",
       "      <td>-0.468108</td>\n",
       "      <td>-0.703043</td>\n",
       "      <td>-2.757731</td>\n",
       "      <td>-0.686760</td>\n",
       "      <td>-1.277132</td>\n",
       "      <td>-0.839014</td>\n",
       "      <td>-1.307954</td>\n",
       "      <td>-1.693829</td>\n",
       "      <td>-3.102818</td>\n",
       "      <td>...</td>\n",
       "      <td>0</td>\n",
       "      <td>0</td>\n",
       "      <td>1</td>\n",
       "      <td>0</td>\n",
       "      <td>0</td>\n",
       "      <td>0</td>\n",
       "      <td>0</td>\n",
       "      <td>0</td>\n",
       "      <td>0</td>\n",
       "      <td>0</td>\n",
       "    </tr>\n",
       "    <tr>\n",
       "      <th>1</th>\n",
       "      <td>-0.593774</td>\n",
       "      <td>-0.341460</td>\n",
       "      <td>-0.518927</td>\n",
       "      <td>0.008708</td>\n",
       "      <td>0.983269</td>\n",
       "      <td>0.133821</td>\n",
       "      <td>-0.839014</td>\n",
       "      <td>-1.307954</td>\n",
       "      <td>-1.693829</td>\n",
       "      <td>-3.102818</td>\n",
       "      <td>...</td>\n",
       "      <td>0</td>\n",
       "      <td>0</td>\n",
       "      <td>0</td>\n",
       "      <td>0</td>\n",
       "      <td>0</td>\n",
       "      <td>0</td>\n",
       "      <td>0</td>\n",
       "      <td>1</td>\n",
       "      <td>0</td>\n",
       "      <td>0</td>\n",
       "    </tr>\n",
       "    <tr>\n",
       "      <th>2</th>\n",
       "      <td>-0.471347</td>\n",
       "      <td>-0.060022</td>\n",
       "      <td>-0.347421</td>\n",
       "      <td>0.365505</td>\n",
       "      <td>1.913068</td>\n",
       "      <td>-0.042548</td>\n",
       "      <td>-0.566677</td>\n",
       "      <td>-0.232487</td>\n",
       "      <td>-0.014415</td>\n",
       "      <td>0.278728</td>\n",
       "      <td>...</td>\n",
       "      <td>0</td>\n",
       "      <td>0</td>\n",
       "      <td>0</td>\n",
       "      <td>0</td>\n",
       "      <td>0</td>\n",
       "      <td>0</td>\n",
       "      <td>0</td>\n",
       "      <td>1</td>\n",
       "      <td>0</td>\n",
       "      <td>0</td>\n",
       "    </tr>\n",
       "    <tr>\n",
       "      <th>3</th>\n",
       "      <td>-0.581015</td>\n",
       "      <td>-0.249993</td>\n",
       "      <td>-0.635505</td>\n",
       "      <td>0.518141</td>\n",
       "      <td>-0.226374</td>\n",
       "      <td>0.103801</td>\n",
       "      <td>-0.744430</td>\n",
       "      <td>-1.004617</td>\n",
       "      <td>-1.169012</td>\n",
       "      <td>-0.970105</td>\n",
       "      <td>...</td>\n",
       "      <td>0</td>\n",
       "      <td>0</td>\n",
       "      <td>0</td>\n",
       "      <td>0</td>\n",
       "      <td>0</td>\n",
       "      <td>0</td>\n",
       "      <td>0</td>\n",
       "      <td>1</td>\n",
       "      <td>0</td>\n",
       "      <td>0</td>\n",
       "    </tr>\n",
       "    <tr>\n",
       "      <th>4</th>\n",
       "      <td>-0.641468</td>\n",
       "      <td>-0.468108</td>\n",
       "      <td>-0.680904</td>\n",
       "      <td>-0.978393</td>\n",
       "      <td>-0.686760</td>\n",
       "      <td>-1.277132</td>\n",
       "      <td>1.308699</td>\n",
       "      <td>0.649946</td>\n",
       "      <td>1.285864</td>\n",
       "      <td>0.270344</td>\n",
       "      <td>...</td>\n",
       "      <td>0</td>\n",
       "      <td>0</td>\n",
       "      <td>0</td>\n",
       "      <td>0</td>\n",
       "      <td>0</td>\n",
       "      <td>0</td>\n",
       "      <td>1</td>\n",
       "      <td>0</td>\n",
       "      <td>0</td>\n",
       "      <td>0</td>\n",
       "    </tr>\n",
       "  </tbody>\n",
       "</table>\n",
       "<p>5 rows × 31 columns</p>\n",
       "</div>"
      ],
      "text/plain": [
       "     T-RUNS    T-WKTS  ODI-RUNS-S  ODI-SR-B  ODI-WKTS  ODI-SR-BL    RUNS-S  \\\n",
       "0 -0.674581 -0.468108   -0.703043 -2.757731 -0.686760  -1.277132 -0.839014   \n",
       "1 -0.593774 -0.341460   -0.518927  0.008708  0.983269   0.133821 -0.839014   \n",
       "2 -0.471347 -0.060022   -0.347421  0.365505  1.913068  -0.042548 -0.566677   \n",
       "3 -0.581015 -0.249993   -0.635505  0.518141 -0.226374   0.103801 -0.744430   \n",
       "4 -0.641468 -0.468108   -0.680904 -0.978393 -0.686760  -1.277132  1.308699   \n",
       "\n",
       "         HS       AVE      SR-B  ...  COUNTRY_New Zealand  COUNTRY_Pakistan  \\\n",
       "0 -1.307954 -1.693829 -3.102818  ...                    0                 0   \n",
       "1 -1.307954 -1.693829 -3.102818  ...                    0                 0   \n",
       "2 -0.232487 -0.014415  0.278728  ...                    0                 0   \n",
       "3 -1.004617 -1.169012 -0.970105  ...                    0                 0   \n",
       "4  0.649946  1.285864  0.270344  ...                    0                 0   \n",
       "\n",
       "   COUNTRY_South Africa  COUNTRY_Sri Lanka  COUNTRY_West Indies  \\\n",
       "0                     1                  0                    0   \n",
       "1                     0                  0                    0   \n",
       "2                     0                  0                    0   \n",
       "3                     0                  0                    0   \n",
       "4                     0                  0                    0   \n",
       "\n",
       "   COUNTRY_Zimbabwe  PLAYING ROLE_Batsman  PLAYING ROLE_Bowler  \\\n",
       "0                 0                     0                    0   \n",
       "1                 0                     0                    1   \n",
       "2                 0                     0                    1   \n",
       "3                 0                     0                    1   \n",
       "4                 0                     1                    0   \n",
       "\n",
       "   PLAYING ROLE_W. Keeper  CAPTAINCY EXP_1  \n",
       "0                       0                0  \n",
       "1                       0                0  \n",
       "2                       0                0  \n",
       "3                       0                0  \n",
       "4                       0                0  \n",
       "\n",
       "[5 rows x 31 columns]"
      ]
     },
     "execution_count": 17,
     "metadata": {},
     "output_type": "execute_result"
    }
   ],
   "source": [
    "X.head()"
   ]
  },
  {
   "cell_type": "markdown",
   "metadata": {
    "id": "3z7afws48fQG"
   },
   "source": [
    "<a id=\"split\"></a>\n",
    "## 2.7 Train-Test Split"
   ]
  },
  {
   "cell_type": "markdown",
   "metadata": {
    "id": "DNwhBfL88fQG"
   },
   "source": [
    "Before applying variour regression techniques to predict the auction price of the player, let us split the dataset in train and test set."
   ]
  },
  {
   "cell_type": "code",
   "execution_count": 18,
   "metadata": {
    "id": "6arYnv_A8fQG",
    "outputId": "e4a78214-29ad-4ae3-da4b-8dd59432b8f4"
   },
   "outputs": [
    {
     "name": "stdout",
     "output_type": "stream",
     "text": [
      "X_train (104, 31)\n",
      "y_train (104,)\n",
      "X_test (26, 31)\n",
      "y_test (26,)\n"
     ]
    }
   ],
   "source": [
    "# split data into train subset and test subset\n",
    "# set 'random_state' to generate the same dataset each time you run the code \n",
    "# 'test_size' returns the proportion of data to be included in the testing set\n",
    "X_train, X_test, y_train, y_test = train_test_split(X, y, random_state=10, test_size = 0.2)\n",
    "\n",
    "# check the dimensions of the train & test subset using 'shape'\n",
    "# print dimension of train set\n",
    "print('X_train', X_train.shape)\n",
    "print('y_train', y_train.shape)\n",
    "\n",
    "# print dimension of test set\n",
    "print('X_test', X_test.shape)\n",
    "print('y_test', y_test.shape)"
   ]
  },
  {
   "cell_type": "code",
   "execution_count": 19,
   "metadata": {
    "id": "FqtKgU438fQG"
   },
   "outputs": [],
   "source": [
    "X = X_train.copy()\n",
    "Y = y_train.copy()"
   ]
  },
  {
   "cell_type": "markdown",
   "metadata": {
    "id": "nKe3GhXo8fQH"
   },
   "source": [
    "<a id=\"GD\"></a>\n",
    "# 4. Gradient Descent"
   ]
  },
  {
   "cell_type": "markdown",
   "metadata": {
    "id": "pkQqTJ078fQH"
   },
   "source": [
    "## Step 1: Random Initialization of the Bias (intercept) and Weights (feature weight)"
   ]
  },
  {
   "cell_type": "markdown",
   "metadata": {},
   "source": [
    "* bias is b0 and weights is b1"
   ]
  },
  {
   "cell_type": "code",
   "execution_count": 20,
   "metadata": {
    "id": "tf5mK0iv8fQH"
   },
   "outputs": [],
   "source": [
    "import random\n",
    "\n",
    "# dim: number of features in the dataset\n",
    "def initialize_bw(dim):\n",
    "\n",
    "    # set the seed to 42\n",
    "    np.random.seed(seed = 42)\n",
    "    random.seed(42)\n",
    "    \n",
    "    # initialize the bias\n",
    "    b = random.random()\n",
    "    \n",
    "    # initialize the weights\n",
    "    w = np.random.rand(dim)\n",
    "    \n",
    "    return b, w"
   ]
  },
  {
   "cell_type": "code",
   "execution_count": 21,
   "metadata": {
    "id": "URSRYb3K8fQH",
    "outputId": "ffed9243-5e2c-4630-9c6c-920dc70c9917"
   },
   "outputs": [
    {
     "name": "stdout",
     "output_type": "stream",
     "text": [
      "Bias:  0.6394267984578837\n",
      "Weights:  [0.37454012 0.95071431 0.73199394 0.59865848 0.15601864 0.15599452\n",
      " 0.05808361 0.86617615 0.60111501 0.70807258 0.02058449 0.96990985\n",
      " 0.83244264 0.21233911 0.18182497 0.18340451 0.30424224 0.52475643\n",
      " 0.43194502 0.29122914 0.61185289 0.13949386 0.29214465 0.36636184\n",
      " 0.45606998 0.78517596 0.19967378 0.51423444 0.59241457 0.04645041\n",
      " 0.60754485]\n"
     ]
    }
   ],
   "source": [
    "# assign random values to the bias and weights\n",
    "b, w = initialize_bw(X.shape[1])\n",
    "# print the bias\n",
    "print('Bias: ', b)\n",
    "# print the weights\n",
    "print('Weights: ', w)"
   ]
  },
  {
   "cell_type": "markdown",
   "metadata": {
    "id": "3phpJBwF8fQH"
   },
   "source": [
    "## Step 2: Predict Y values using the Bias and Weights"
   ]
  },
  {
   "cell_type": "code",
   "execution_count": 22,
   "metadata": {
    "id": "hFq6C2JR8fQH"
   },
   "outputs": [],
   "source": [
    "# b: bias\n",
    "# w: weights\n",
    "# X: input dataframe\n",
    "# np.matmul(): used for matrix multiplication of weights with the input variable values\n",
    "\n",
    "def predict_y(b, w, X):\n",
    "    return b + np.matmul(X, w)"
   ]
  },
  {
   "cell_type": "code",
   "execution_count": 23,
   "metadata": {
    "id": "JywNuMb18fQH",
    "outputId": "d4c7e3ea-0c79-4fbb-ac33-0f7d3031a690"
   },
   "outputs": [
    {
     "data": {
      "text/plain": [
       "19     3.298091\n",
       "14     1.109111\n",
       "91     3.661293\n",
       "35     2.048086\n",
       "20    -1.784024\n",
       "110    2.032574\n",
       "118    0.307567\n",
       "3      1.325294\n",
       "79     6.129780\n",
       "115    1.959105\n",
       "dtype: float64"
      ]
     },
     "execution_count": 23,
     "metadata": {},
     "output_type": "execute_result"
    }
   ],
   "source": [
    "# Predict Y values using the Bias and Weights\n",
    "y_pred = predict_y(b, w, X)\n",
    "\n",
    "# show first 10 values of y_pred\n",
    "y_pred[:10]"
   ]
  },
  {
   "cell_type": "markdown",
   "metadata": {
    "id": "dGqLJJjl8fQH"
   },
   "source": [
    "## Step 3: Calculate the cost using the cost function"
   ]
  },
  {
   "cell_type": "code",
   "execution_count": 24,
   "metadata": {
    "id": "Wm8rBiSg8fQH"
   },
   "outputs": [],
   "source": [
    "# Y: actual target values\n",
    "# y_pred: predicted values\n",
    "def get_cost(Y, y_pred):\n",
    "    return mean_squared_error(Y, y_pred)"
   ]
  },
  {
   "cell_type": "code",
   "execution_count": 25,
   "metadata": {
    "id": "WQWSB86u8fQH",
    "outputId": "10d69447-9be5-41f6-b6b9-314e0c4f47f8"
   },
   "outputs": [
    {
     "data": {
      "text/plain": [
       "453087587018.69995"
      ]
     },
     "execution_count": 25,
     "metadata": {},
     "output_type": "execute_result"
    }
   ],
   "source": [
    "get_cost(Y, y_pred)"
   ]
  },
  {
   "cell_type": "markdown",
   "metadata": {
    "id": "cH_1Q2Ms8fQI"
   },
   "source": [
    "## Step 4: Update the Bias And the Weights"
   ]
  },
  {
   "cell_type": "code",
   "execution_count": 26,
   "metadata": {
    "id": "BQ5P7xmb8fQI"
   },
   "outputs": [],
   "source": [
    "# X: input dataframe\n",
    "# Y: actual output \n",
    "# y_pred: predicted output\n",
    "# b_prev: value of bias before updation\n",
    "# w_prev: value of weights before updation\n",
    "# learning_rate (or 'alpha'): learning parameter that decides the magnitude of the update to be done to the bias annd weights\n",
    "def update_bw(X, Y, y_pred, b_prev, w_prev, learning_rate):\n",
    "    # gradient of bias\n",
    "    db = (np.sum(y_pred - Y) * 2) / len(Y)\n",
    "    \n",
    "    # gradient of weight\n",
    "    dw = (np.dot((y_pred - Y), X) * 2) / len(Y)\n",
    "    \n",
    "    # update the bias\n",
    "    b_new = b_prev - learning_rate * db\n",
    "    \n",
    "    # update the weights\n",
    "    w_new = w_prev - learning_rate * dw\n",
    "    \n",
    "    return (b_new, w_new)"
   ]
  },
  {
   "cell_type": "code",
   "execution_count": 27,
   "metadata": {
    "id": "99e3_vNM8fQI",
    "outputId": "89efd663-3953-4a11-a922-30ee8c0b308c"
   },
   "outputs": [
    {
     "name": "stdout",
     "output_type": "stream",
     "text": [
      "After initialization:-  b:  0.6394267984578837 \n",
      "Weights:  [0.37454012 0.95071431 0.73199394 0.59865848 0.15601864 0.15599452\n",
      " 0.05808361 0.86617615 0.60111501 0.70807258 0.02058449 0.96990985\n",
      " 0.83244264 0.21233911 0.18182497 0.18340451 0.30424224 0.52475643\n",
      " 0.43194502 0.29122914 0.61185289 0.13949386 0.29214465 0.36636184\n",
      " 0.45606998 0.78517596 0.19967378 0.51423444 0.59241457 0.04645041\n",
      " 0.60754485]\n",
      "\n",
      "After Update:-  b:  10571.564173898414 \n",
      "Weights:  [1.99300973e+03 2.26571170e+02 3.13712138e+03 1.70728263e+03\n",
      " 5.34161392e+02 2.54210995e+02 4.60764231e+03 2.74096792e+03\n",
      " 2.93010644e+03 1.45661116e+03 3.73705480e+03 9.81676656e+02\n",
      " 5.26920131e+02 9.51512814e+02 5.86871512e+02 7.52585064e+02\n",
      " 6.52816888e+03 2.19281906e+03 4.31945019e-01 2.98367493e+02\n",
      " 5.49559515e+03 7.08790430e+02 5.24330836e+02 1.18305274e+03\n",
      " 5.64873563e+02 1.11362193e+02 2.42385194e+01 4.20723099e+03\n",
      " 2.84942751e+03 9.94274851e+02 4.70250638e+03]\n"
     ]
    }
   ],
   "source": [
    "# print the values of bias and weights obtained after initialization\n",
    "print('After initialization:-  b: ',b, '\\nWeights: ', w)\n",
    "\n",
    "# print the values of bias and weights obtained after updating the bias and weights\n",
    "b, w = update_bw(X, Y, y_pred, b, w, 0.01)\n",
    "print('\\nAfter Update:-  b: ',b, '\\nWeights: ', w)"
   ]
  },
  {
   "cell_type": "markdown",
   "metadata": {
    "id": "ZIrXJ8yV8fQI"
   },
   "source": [
    "# Write a function to find the optimal value of Bias and Weights"
   ]
  },
  {
   "cell_type": "code",
   "execution_count": 28,
   "metadata": {
    "id": "LYfCiWfA8fQI"
   },
   "outputs": [],
   "source": [
    "# X: input dataframe\n",
    "# Y: actual output \n",
    "# learning_rate (or 'alpha'): learning parameter that decides the magnitude of the update to be done to the bias annd weights\n",
    "# num_iterations: number of iterations\n",
    "def GradientDescent(X, Y, alpha = 0.01, num_iterations = 100):\n",
    "    # initialize the bias and weights\n",
    "    b, w = initialize_bw(X.shape[1])\n",
    "    \n",
    "    # create a dataframe that stores the iterations and the cost\n",
    "    df_iter_cost = pd.DataFrame(columns=['Iterations', 'Cost'])\n",
    "    \n",
    "    # iterate \n",
    "    for each_iter in range(num_iterations):\n",
    "        # predict the value of y\n",
    "        y_pred = predict_y(b, w, X)\n",
    "        \n",
    "        # calculate the cost\n",
    "        cost = get_cost(Y, y_pred)\n",
    "        \n",
    "        # save the previous bias and weights\n",
    "        b_prev = b\n",
    "        w_prev = w\n",
    "        \n",
    "        # update the bias and weights\n",
    "        b, w = update_bw(X, Y, y_pred, b_prev, w_prev, alpha)\n",
    "        \n",
    "        df_iter_cost.loc[each_iter] = [each_iter, cost]\n",
    "        \n",
    "    # print the final bias and weights\n",
    "    #print(\"Final bias and weights:- \\n\", b, '\\n\\n', w)\n",
    "\n",
    "    return(df_iter_cost, b, w)"
   ]
  },
  {
   "cell_type": "code",
   "execution_count": 29,
   "metadata": {
    "id": "8stWDu178fQI"
   },
   "outputs": [],
   "source": [
    "# running gradient descent with the learning rate 0.001\n",
    "df_iter_cost_1, b, w = GradientDescent(X, Y, alpha=0.001, num_iterations=200)"
   ]
  },
  {
   "cell_type": "code",
   "execution_count": 30,
   "metadata": {
    "id": "E8pvvY3e8fQI"
   },
   "outputs": [],
   "source": [
    "# running gradient descent with the learning rate 0.1\n",
    "df_iter_cost_2, b, w = GradientDescent(X, Y, alpha=0.1, num_iterations=200)"
   ]
  },
  {
   "cell_type": "code",
   "execution_count": 31,
   "metadata": {
    "id": "NkW5bDU_8fQI",
    "outputId": "8fea3dd0-5285-4342-91b6-84f928fa24d0"
   },
   "outputs": [
    {
     "data": {
      "text/plain": [
       "Text(0, 0.5, 'Cost')"
      ]
     },
     "execution_count": 31,
     "metadata": {},
     "output_type": "execute_result"
    },
    {
     "data": {
      "image/png": "[encoded data removed]",
      "text/plain": [
       "<Figure size 1500x800 with 1 Axes>"
      ]
     },
     "metadata": {},
     "output_type": "display_data"
    }
   ],
   "source": [
    "plt.plot(df_iter_cost_1['Iterations'], df_iter_cost_1['Cost'], label = \"alpha: 0.001\")\n",
    "plt.plot(df_iter_cost_2['Iterations'], df_iter_cost_2['Cost'], label = \"alpha: 0.1\")\n",
    "# place a legend on the axes\n",
    "plt.legend()\n",
    "# set the label for the x-axis\n",
    "plt.xlabel('Nunber of Iterations')\n",
    "# set the label for the y-axis\n",
    "plt.ylabel('Cost')"
   ]
  },
  {
   "cell_type": "markdown",
   "metadata": {
    "id": "UsrmWTvQ8fQJ"
   },
   "source": [
    "**Interpretation:** The above plot shows that the learning is faster for alpha value is 0.01 as compared to 0.001. \n",
    "For the smaller values of the learning rate, the learning could be slower whereas higher learning rate leads to skipping the minimum of cost function. Thus, it is crucial to find the optimal value for the learning rate"
   ]
  },
  {
   "cell_type": "code",
   "execution_count": 32,
   "metadata": {
    "id": "XPvHDEzQ8fQJ"
   },
   "outputs": [
    {
     "data": {
      "text/html": [
       "<div>\n",
       "<style scoped>\n",
       "    .dataframe tbody tr th:only-of-type {\n",
       "        vertical-align: middle;\n",
       "    }\n",
       "\n",
       "    .dataframe tbody tr th {\n",
       "        vertical-align: top;\n",
       "    }\n",
       "\n",
       "    .dataframe thead th {\n",
       "        text-align: right;\n",
       "    }\n",
       "</style>\n",
       "<table border=\"1\" class=\"dataframe\">\n",
       "  <thead>\n",
       "    <tr style=\"text-align: right;\">\n",
       "      <th></th>\n",
       "      <th>Iterations</th>\n",
       "      <th>Cost</th>\n",
       "    </tr>\n",
       "  </thead>\n",
       "  <tbody>\n",
       "    <tr>\n",
       "      <th>0</th>\n",
       "      <td>0.000000</td>\n",
       "      <td>453087587018.699951</td>\n",
       "    </tr>\n",
       "    <tr>\n",
       "      <th>1</th>\n",
       "      <td>1.000000</td>\n",
       "      <td>220312934045.003784</td>\n",
       "    </tr>\n",
       "    <tr>\n",
       "      <th>2</th>\n",
       "      <td>2.000000</td>\n",
       "      <td>148227924744.179474</td>\n",
       "    </tr>\n",
       "    <tr>\n",
       "      <th>3</th>\n",
       "      <td>3.000000</td>\n",
       "      <td>123046928989.961243</td>\n",
       "    </tr>\n",
       "    <tr>\n",
       "      <th>4</th>\n",
       "      <td>4.000000</td>\n",
       "      <td>113385046711.229752</td>\n",
       "    </tr>\n",
       "    <tr>\n",
       "      <th>...</th>\n",
       "      <td>...</td>\n",
       "      <td>...</td>\n",
       "    </tr>\n",
       "    <tr>\n",
       "      <th>195</th>\n",
       "      <td>195.000000</td>\n",
       "      <td>76826485787.714615</td>\n",
       "    </tr>\n",
       "    <tr>\n",
       "      <th>196</th>\n",
       "      <td>196.000000</td>\n",
       "      <td>76802870099.691010</td>\n",
       "    </tr>\n",
       "    <tr>\n",
       "      <th>197</th>\n",
       "      <td>197.000000</td>\n",
       "      <td>76779415212.294769</td>\n",
       "    </tr>\n",
       "    <tr>\n",
       "      <th>198</th>\n",
       "      <td>198.000000</td>\n",
       "      <td>76756119602.208847</td>\n",
       "    </tr>\n",
       "    <tr>\n",
       "      <th>199</th>\n",
       "      <td>199.000000</td>\n",
       "      <td>76732981768.757904</td>\n",
       "    </tr>\n",
       "  </tbody>\n",
       "</table>\n",
       "<p>200 rows × 2 columns</p>\n",
       "</div>"
      ],
      "text/plain": [
       "     Iterations                Cost\n",
       "0      0.000000 453087587018.699951\n",
       "1      1.000000 220312934045.003784\n",
       "2      2.000000 148227924744.179474\n",
       "3      3.000000 123046928989.961243\n",
       "4      4.000000 113385046711.229752\n",
       "..          ...                 ...\n",
       "195  195.000000  76826485787.714615\n",
       "196  196.000000  76802870099.691010\n",
       "197  197.000000  76779415212.294769\n",
       "198  198.000000  76756119602.208847\n",
       "199  199.000000  76732981768.757904\n",
       "\n",
       "[200 rows x 2 columns]"
      ]
     },
     "execution_count": 32,
     "metadata": {},
     "output_type": "execute_result"
    }
   ],
   "source": [
    "# printing the dataset\n",
    "df_iter_cost_2"
   ]
  },
  {
   "cell_type": "code",
   "execution_count": null,
   "metadata": {},
   "outputs": [],
   "source": []
  }
 ],
 "metadata": {
  "colab": {
   "provenance": []
  },
  "kernelspec": {
   "display_name": "Python 3 (ipykernel)",
   "language": "python",
   "name": "python3"
  },
  "language_info": {
   "codemirror_mode": {
    "name": "ipython",
    "version": 3
   },
   "file_extension": ".py",
   "mimetype": "text/x-python",
   "name": "python",
   "nbconvert_exporter": "python",
   "pygments_lexer": "ipython3",
   "version": "3.11.4"
  }
 },
 "nbformat": 4,
 "nbformat_minor": 1
}

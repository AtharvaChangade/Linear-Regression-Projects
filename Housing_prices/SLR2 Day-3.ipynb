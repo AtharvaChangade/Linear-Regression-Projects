{
 "cells": [
  {
   "cell_type": "code",
   "execution_count": 7,
   "id": "721d543b",
   "metadata": {},
   "outputs": [],
   "source": [
    "import numpy as np\n",
    "import pandas as pd\n",
    "from matplotlib import pyplot as plt\n",
    "import seaborn as sns\n",
    "\n",
    "from sklearn.preprocessing import StandardScaler\n",
    "from sklearn.model_selection import train_test_split\n",
    "\n",
    "from sklearn.linear_model import LinearRegression, Ridge, Lasso, ElasticNet\n",
    "from sklearn import metrics\n",
    "from sklearn.metrics import mean_squared_error, r2_score"
   ]
  },
  {
   "cell_type": "code",
   "execution_count": 8,
   "id": "a98ecac3",
   "metadata": {},
   "outputs": [
    {
     "data": {
      "text/html": [
       "<div>\n",
       "<style scoped>\n",
       "    .dataframe tbody tr th:only-of-type {\n",
       "        vertical-align: middle;\n",
       "    }\n",
       "\n",
       "    .dataframe tbody tr th {\n",
       "        vertical-align: top;\n",
       "    }\n",
       "\n",
       "    .dataframe thead th {\n",
       "        text-align: right;\n",
       "    }\n",
       "</style>\n",
       "<table border=\"1\" class=\"dataframe\">\n",
       "  <thead>\n",
       "    <tr style=\"text-align: right;\">\n",
       "      <th></th>\n",
       "      <th>CRIM</th>\n",
       "      <th>ZN</th>\n",
       "      <th>INDUS</th>\n",
       "      <th>CHAS</th>\n",
       "      <th>NOX</th>\n",
       "      <th>RM</th>\n",
       "      <th>AGE</th>\n",
       "      <th>DIS</th>\n",
       "      <th>RAD</th>\n",
       "      <th>TAX</th>\n",
       "      <th>PTRATIO</th>\n",
       "      <th>B</th>\n",
       "      <th>LSTAT</th>\n",
       "      <th>PRICE</th>\n",
       "    </tr>\n",
       "  </thead>\n",
       "  <tbody>\n",
       "    <tr>\n",
       "      <th>0</th>\n",
       "      <td>0.00632</td>\n",
       "      <td>18.0</td>\n",
       "      <td>2.31</td>\n",
       "      <td>0</td>\n",
       "      <td>0.538</td>\n",
       "      <td>6.575</td>\n",
       "      <td>65.2</td>\n",
       "      <td>4.0900</td>\n",
       "      <td>1</td>\n",
       "      <td>296</td>\n",
       "      <td>15.3</td>\n",
       "      <td>396.90</td>\n",
       "      <td>4.98</td>\n",
       "      <td>24.0</td>\n",
       "    </tr>\n",
       "    <tr>\n",
       "      <th>1</th>\n",
       "      <td>0.02731</td>\n",
       "      <td>0.0</td>\n",
       "      <td>7.07</td>\n",
       "      <td>0</td>\n",
       "      <td>0.469</td>\n",
       "      <td>6.421</td>\n",
       "      <td>78.9</td>\n",
       "      <td>4.9671</td>\n",
       "      <td>2</td>\n",
       "      <td>242</td>\n",
       "      <td>17.8</td>\n",
       "      <td>396.90</td>\n",
       "      <td>9.14</td>\n",
       "      <td>21.6</td>\n",
       "    </tr>\n",
       "    <tr>\n",
       "      <th>2</th>\n",
       "      <td>0.02729</td>\n",
       "      <td>0.0</td>\n",
       "      <td>7.07</td>\n",
       "      <td>0</td>\n",
       "      <td>0.469</td>\n",
       "      <td>7.185</td>\n",
       "      <td>61.1</td>\n",
       "      <td>4.9671</td>\n",
       "      <td>2</td>\n",
       "      <td>242</td>\n",
       "      <td>17.8</td>\n",
       "      <td>392.83</td>\n",
       "      <td>4.03</td>\n",
       "      <td>34.7</td>\n",
       "    </tr>\n",
       "    <tr>\n",
       "      <th>3</th>\n",
       "      <td>0.03237</td>\n",
       "      <td>0.0</td>\n",
       "      <td>2.18</td>\n",
       "      <td>0</td>\n",
       "      <td>0.458</td>\n",
       "      <td>6.998</td>\n",
       "      <td>45.8</td>\n",
       "      <td>6.0622</td>\n",
       "      <td>3</td>\n",
       "      <td>222</td>\n",
       "      <td>18.7</td>\n",
       "      <td>394.63</td>\n",
       "      <td>2.94</td>\n",
       "      <td>33.4</td>\n",
       "    </tr>\n",
       "    <tr>\n",
       "      <th>4</th>\n",
       "      <td>0.06905</td>\n",
       "      <td>0.0</td>\n",
       "      <td>2.18</td>\n",
       "      <td>0</td>\n",
       "      <td>0.458</td>\n",
       "      <td>7.147</td>\n",
       "      <td>54.2</td>\n",
       "      <td>6.0622</td>\n",
       "      <td>3</td>\n",
       "      <td>222</td>\n",
       "      <td>18.7</td>\n",
       "      <td>396.90</td>\n",
       "      <td>5.33</td>\n",
       "      <td>36.2</td>\n",
       "    </tr>\n",
       "  </tbody>\n",
       "</table>\n",
       "</div>"
      ],
      "text/plain": [
       "      CRIM    ZN  INDUS  CHAS    NOX     RM   AGE     DIS  RAD  TAX  PTRATIO  \\\n",
       "0  0.00632  18.0   2.31     0  0.538  6.575  65.2  4.0900    1  296     15.3   \n",
       "1  0.02731   0.0   7.07     0  0.469  6.421  78.9  4.9671    2  242     17.8   \n",
       "2  0.02729   0.0   7.07     0  0.469  7.185  61.1  4.9671    2  242     17.8   \n",
       "3  0.03237   0.0   2.18     0  0.458  6.998  45.8  6.0622    3  222     18.7   \n",
       "4  0.06905   0.0   2.18     0  0.458  7.147  54.2  6.0622    3  222     18.7   \n",
       "\n",
       "        B  LSTAT  PRICE  \n",
       "0  396.90   4.98   24.0  \n",
       "1  396.90   9.14   21.6  \n",
       "2  392.83   4.03   34.7  \n",
       "3  394.63   2.94   33.4  \n",
       "4  396.90   5.33   36.2  "
      ]
     },
     "execution_count": 8,
     "metadata": {},
     "output_type": "execute_result"
    }
   ],
   "source": [
    "df_housing = pd.read_csv('housing_data.csv')\n",
    "df_housing.head()"
   ]
  },
  {
   "cell_type": "code",
   "execution_count": 9,
   "id": "0ad7ca8c",
   "metadata": {},
   "outputs": [],
   "source": [
    "# Add interaction variables\n",
    "df_housing['DIS_LSTAT'] = df_housing['DIS'] * df_housing['LSTAT']\n",
    "df_housing['ZN_RM']  = df_housing['ZN'] * df_housing['RM']\n",
    "df_housing['RAD_LSTAT'] = df_housing['RAD'] * df_housing['LSTAT']\n",
    "df_housing['RAD_TAX']  = df_housing['RAD'] * df_housing['TAX'] \n",
    "df_housing['CRIM_ZN']  = df_housing['CRIM'] * df_housing['ZN'] "
   ]
  },
  {
   "cell_type": "code",
   "execution_count": 10,
   "id": "4146ea02",
   "metadata": {},
   "outputs": [
    {
     "name": "stdout",
     "output_type": "stream",
     "text": [
      "<class 'pandas.core.frame.DataFrame'>\n",
      "RangeIndex: 506 entries, 0 to 505\n",
      "Data columns (total 19 columns):\n",
      " #   Column     Non-Null Count  Dtype  \n",
      "---  ------     --------------  -----  \n",
      " 0   CRIM       506 non-null    float64\n",
      " 1   ZN         506 non-null    float64\n",
      " 2   INDUS      506 non-null    float64\n",
      " 3   CHAS       506 non-null    int64  \n",
      " 4   NOX        506 non-null    float64\n",
      " 5   RM         506 non-null    float64\n",
      " 6   AGE        506 non-null    float64\n",
      " 7   DIS        506 non-null    float64\n",
      " 8   RAD        506 non-null    int64  \n",
      " 9   TAX        506 non-null    int64  \n",
      " 10  PTRATIO    506 non-null    float64\n",
      " 11  B          506 non-null    float64\n",
      " 12  LSTAT      506 non-null    float64\n",
      " 13  PRICE      506 non-null    float64\n",
      " 14  DIS_LSTAT  506 non-null    float64\n",
      " 15  ZN_RM      506 non-null    float64\n",
      " 16  RAD_LSTAT  506 non-null    float64\n",
      " 17  RAD_TAX    506 non-null    int64  \n",
      " 18  CRIM_ZN    506 non-null    float64\n",
      "dtypes: float64(15), int64(4)\n",
      "memory usage: 75.2 KB\n"
     ]
    }
   ],
   "source": [
    "df_housing.info()"
   ]
  },
  {
   "cell_type": "code",
   "execution_count": 11,
   "id": "3a16661d",
   "metadata": {},
   "outputs": [
    {
     "data": {
      "text/html": [
       "<div>\n",
       "<style scoped>\n",
       "    .dataframe tbody tr th:only-of-type {\n",
       "        vertical-align: middle;\n",
       "    }\n",
       "\n",
       "    .dataframe tbody tr th {\n",
       "        vertical-align: top;\n",
       "    }\n",
       "\n",
       "    .dataframe thead th {\n",
       "        text-align: right;\n",
       "    }\n",
       "</style>\n",
       "<table border=\"1\" class=\"dataframe\">\n",
       "  <thead>\n",
       "    <tr style=\"text-align: right;\">\n",
       "      <th></th>\n",
       "      <th>CRIM</th>\n",
       "      <th>ZN</th>\n",
       "      <th>INDUS</th>\n",
       "      <th>NOX</th>\n",
       "      <th>RM</th>\n",
       "      <th>AGE</th>\n",
       "      <th>DIS</th>\n",
       "      <th>RAD</th>\n",
       "      <th>TAX</th>\n",
       "      <th>PTRATIO</th>\n",
       "      <th>B</th>\n",
       "      <th>LSTAT</th>\n",
       "      <th>DIS_LSTAT</th>\n",
       "      <th>ZN_RM</th>\n",
       "      <th>RAD_LSTAT</th>\n",
       "      <th>RAD_TAX</th>\n",
       "      <th>CRIM_ZN</th>\n",
       "    </tr>\n",
       "  </thead>\n",
       "  <tbody>\n",
       "    <tr>\n",
       "      <th>0</th>\n",
       "      <td>0.00632</td>\n",
       "      <td>18.0</td>\n",
       "      <td>2.31</td>\n",
       "      <td>0.538</td>\n",
       "      <td>6.575</td>\n",
       "      <td>65.2</td>\n",
       "      <td>4.0900</td>\n",
       "      <td>1</td>\n",
       "      <td>296</td>\n",
       "      <td>15.3</td>\n",
       "      <td>396.90</td>\n",
       "      <td>4.98</td>\n",
       "      <td>20.368200</td>\n",
       "      <td>118.35</td>\n",
       "      <td>4.98</td>\n",
       "      <td>296</td>\n",
       "      <td>0.11376</td>\n",
       "    </tr>\n",
       "    <tr>\n",
       "      <th>1</th>\n",
       "      <td>0.02731</td>\n",
       "      <td>0.0</td>\n",
       "      <td>7.07</td>\n",
       "      <td>0.469</td>\n",
       "      <td>6.421</td>\n",
       "      <td>78.9</td>\n",
       "      <td>4.9671</td>\n",
       "      <td>2</td>\n",
       "      <td>242</td>\n",
       "      <td>17.8</td>\n",
       "      <td>396.90</td>\n",
       "      <td>9.14</td>\n",
       "      <td>45.399294</td>\n",
       "      <td>0.00</td>\n",
       "      <td>18.28</td>\n",
       "      <td>484</td>\n",
       "      <td>0.00000</td>\n",
       "    </tr>\n",
       "    <tr>\n",
       "      <th>2</th>\n",
       "      <td>0.02729</td>\n",
       "      <td>0.0</td>\n",
       "      <td>7.07</td>\n",
       "      <td>0.469</td>\n",
       "      <td>7.185</td>\n",
       "      <td>61.1</td>\n",
       "      <td>4.9671</td>\n",
       "      <td>2</td>\n",
       "      <td>242</td>\n",
       "      <td>17.8</td>\n",
       "      <td>392.83</td>\n",
       "      <td>4.03</td>\n",
       "      <td>20.017413</td>\n",
       "      <td>0.00</td>\n",
       "      <td>8.06</td>\n",
       "      <td>484</td>\n",
       "      <td>0.00000</td>\n",
       "    </tr>\n",
       "    <tr>\n",
       "      <th>3</th>\n",
       "      <td>0.03237</td>\n",
       "      <td>0.0</td>\n",
       "      <td>2.18</td>\n",
       "      <td>0.458</td>\n",
       "      <td>6.998</td>\n",
       "      <td>45.8</td>\n",
       "      <td>6.0622</td>\n",
       "      <td>3</td>\n",
       "      <td>222</td>\n",
       "      <td>18.7</td>\n",
       "      <td>394.63</td>\n",
       "      <td>2.94</td>\n",
       "      <td>17.822868</td>\n",
       "      <td>0.00</td>\n",
       "      <td>8.82</td>\n",
       "      <td>666</td>\n",
       "      <td>0.00000</td>\n",
       "    </tr>\n",
       "    <tr>\n",
       "      <th>4</th>\n",
       "      <td>0.06905</td>\n",
       "      <td>0.0</td>\n",
       "      <td>2.18</td>\n",
       "      <td>0.458</td>\n",
       "      <td>7.147</td>\n",
       "      <td>54.2</td>\n",
       "      <td>6.0622</td>\n",
       "      <td>3</td>\n",
       "      <td>222</td>\n",
       "      <td>18.7</td>\n",
       "      <td>396.90</td>\n",
       "      <td>5.33</td>\n",
       "      <td>32.311526</td>\n",
       "      <td>0.00</td>\n",
       "      <td>15.99</td>\n",
       "      <td>666</td>\n",
       "      <td>0.00000</td>\n",
       "    </tr>\n",
       "  </tbody>\n",
       "</table>\n",
       "</div>"
      ],
      "text/plain": [
       "      CRIM    ZN  INDUS    NOX     RM   AGE     DIS  RAD  TAX  PTRATIO  \\\n",
       "0  0.00632  18.0   2.31  0.538  6.575  65.2  4.0900    1  296     15.3   \n",
       "1  0.02731   0.0   7.07  0.469  6.421  78.9  4.9671    2  242     17.8   \n",
       "2  0.02729   0.0   7.07  0.469  7.185  61.1  4.9671    2  242     17.8   \n",
       "3  0.03237   0.0   2.18  0.458  6.998  45.8  6.0622    3  222     18.7   \n",
       "4  0.06905   0.0   2.18  0.458  7.147  54.2  6.0622    3  222     18.7   \n",
       "\n",
       "        B  LSTAT  DIS_LSTAT   ZN_RM  RAD_LSTAT  RAD_TAX  CRIM_ZN  \n",
       "0  396.90   4.98  20.368200  118.35       4.98      296  0.11376  \n",
       "1  396.90   9.14  45.399294    0.00      18.28      484  0.00000  \n",
       "2  392.83   4.03  20.017413    0.00       8.06      484  0.00000  \n",
       "3  394.63   2.94  17.822868    0.00       8.82      666  0.00000  \n",
       "4  396.90   5.33  32.311526    0.00      15.99      666  0.00000  "
      ]
     },
     "execution_count": 11,
     "metadata": {},
     "output_type": "execute_result"
    }
   ],
   "source": [
    "# To scale numeric features, select numeric features\n",
    "df_housing_numeric = df_housing.drop(['PRICE','CHAS'], axis=1).select_dtypes(include = np.number)\n",
    "df_housing_numeric.head()"
   ]
  },
  {
   "cell_type": "code",
   "execution_count": 12,
   "id": "1f1e4de2",
   "metadata": {},
   "outputs": [
    {
     "data": {
      "text/html": [
       "<div>\n",
       "<style scoped>\n",
       "    .dataframe tbody tr th:only-of-type {\n",
       "        vertical-align: middle;\n",
       "    }\n",
       "\n",
       "    .dataframe tbody tr th {\n",
       "        vertical-align: top;\n",
       "    }\n",
       "\n",
       "    .dataframe thead th {\n",
       "        text-align: right;\n",
       "    }\n",
       "</style>\n",
       "<table border=\"1\" class=\"dataframe\">\n",
       "  <thead>\n",
       "    <tr style=\"text-align: right;\">\n",
       "      <th></th>\n",
       "      <th>CRIM</th>\n",
       "      <th>ZN</th>\n",
       "      <th>INDUS</th>\n",
       "      <th>NOX</th>\n",
       "      <th>RM</th>\n",
       "      <th>AGE</th>\n",
       "      <th>DIS</th>\n",
       "      <th>RAD</th>\n",
       "      <th>TAX</th>\n",
       "      <th>PTRATIO</th>\n",
       "      <th>B</th>\n",
       "      <th>LSTAT</th>\n",
       "      <th>DIS_LSTAT</th>\n",
       "      <th>ZN_RM</th>\n",
       "      <th>RAD_LSTAT</th>\n",
       "      <th>RAD_TAX</th>\n",
       "      <th>CRIM_ZN</th>\n",
       "    </tr>\n",
       "  </thead>\n",
       "  <tbody>\n",
       "    <tr>\n",
       "      <th>0</th>\n",
       "      <td>-0.419782</td>\n",
       "      <td>0.284830</td>\n",
       "      <td>-1.287909</td>\n",
       "      <td>-0.144217</td>\n",
       "      <td>0.413672</td>\n",
       "      <td>-0.120013</td>\n",
       "      <td>0.140214</td>\n",
       "      <td>-0.982843</td>\n",
       "      <td>-0.666608</td>\n",
       "      <td>-1.459000</td>\n",
       "      <td>0.441052</td>\n",
       "      <td>-1.075562</td>\n",
       "      <td>-0.887781</td>\n",
       "      <td>0.262418</td>\n",
       "      <td>-0.744390</td>\n",
       "      <td>-0.769714</td>\n",
       "      <td>-0.355332</td>\n",
       "    </tr>\n",
       "    <tr>\n",
       "      <th>1</th>\n",
       "      <td>-0.417339</td>\n",
       "      <td>-0.487722</td>\n",
       "      <td>-0.593381</td>\n",
       "      <td>-0.740262</td>\n",
       "      <td>0.194274</td>\n",
       "      <td>0.367166</td>\n",
       "      <td>0.557160</td>\n",
       "      <td>-0.867883</td>\n",
       "      <td>-0.987329</td>\n",
       "      <td>-0.303094</td>\n",
       "      <td>0.441052</td>\n",
       "      <td>-0.492439</td>\n",
       "      <td>0.212752</td>\n",
       "      <td>-0.480021</td>\n",
       "      <td>-0.676661</td>\n",
       "      <td>-0.740395</td>\n",
       "      <td>-0.405081</td>\n",
       "    </tr>\n",
       "    <tr>\n",
       "      <th>2</th>\n",
       "      <td>-0.417342</td>\n",
       "      <td>-0.487722</td>\n",
       "      <td>-0.593381</td>\n",
       "      <td>-0.740262</td>\n",
       "      <td>1.282714</td>\n",
       "      <td>-0.265812</td>\n",
       "      <td>0.557160</td>\n",
       "      <td>-0.867883</td>\n",
       "      <td>-0.987329</td>\n",
       "      <td>-0.303094</td>\n",
       "      <td>0.396427</td>\n",
       "      <td>-1.208727</td>\n",
       "      <td>-0.903204</td>\n",
       "      <td>-0.480021</td>\n",
       "      <td>-0.728706</td>\n",
       "      <td>-0.740395</td>\n",
       "      <td>-0.405081</td>\n",
       "    </tr>\n",
       "    <tr>\n",
       "      <th>3</th>\n",
       "      <td>-0.416750</td>\n",
       "      <td>-0.487722</td>\n",
       "      <td>-1.306878</td>\n",
       "      <td>-0.835284</td>\n",
       "      <td>1.016303</td>\n",
       "      <td>-0.809889</td>\n",
       "      <td>1.077737</td>\n",
       "      <td>-0.752922</td>\n",
       "      <td>-1.106115</td>\n",
       "      <td>0.113032</td>\n",
       "      <td>0.416163</td>\n",
       "      <td>-1.361517</td>\n",
       "      <td>-0.999690</td>\n",
       "      <td>-0.480021</td>\n",
       "      <td>-0.724835</td>\n",
       "      <td>-0.712011</td>\n",
       "      <td>-0.405081</td>\n",
       "    </tr>\n",
       "    <tr>\n",
       "      <th>4</th>\n",
       "      <td>-0.412482</td>\n",
       "      <td>-0.487722</td>\n",
       "      <td>-1.306878</td>\n",
       "      <td>-0.835284</td>\n",
       "      <td>1.228577</td>\n",
       "      <td>-0.511180</td>\n",
       "      <td>1.077737</td>\n",
       "      <td>-0.752922</td>\n",
       "      <td>-1.106115</td>\n",
       "      <td>0.113032</td>\n",
       "      <td>0.441052</td>\n",
       "      <td>-1.026501</td>\n",
       "      <td>-0.362673</td>\n",
       "      <td>-0.480021</td>\n",
       "      <td>-0.688322</td>\n",
       "      <td>-0.712011</td>\n",
       "      <td>-0.405081</td>\n",
       "    </tr>\n",
       "  </tbody>\n",
       "</table>\n",
       "</div>"
      ],
      "text/plain": [
       "       CRIM        ZN     INDUS       NOX        RM       AGE       DIS  \\\n",
       "0 -0.419782  0.284830 -1.287909 -0.144217  0.413672 -0.120013  0.140214   \n",
       "1 -0.417339 -0.487722 -0.593381 -0.740262  0.194274  0.367166  0.557160   \n",
       "2 -0.417342 -0.487722 -0.593381 -0.740262  1.282714 -0.265812  0.557160   \n",
       "3 -0.416750 -0.487722 -1.306878 -0.835284  1.016303 -0.809889  1.077737   \n",
       "4 -0.412482 -0.487722 -1.306878 -0.835284  1.228577 -0.511180  1.077737   \n",
       "\n",
       "        RAD       TAX   PTRATIO         B     LSTAT  DIS_LSTAT     ZN_RM  \\\n",
       "0 -0.982843 -0.666608 -1.459000  0.441052 -1.075562  -0.887781  0.262418   \n",
       "1 -0.867883 -0.987329 -0.303094  0.441052 -0.492439   0.212752 -0.480021   \n",
       "2 -0.867883 -0.987329 -0.303094  0.396427 -1.208727  -0.903204 -0.480021   \n",
       "3 -0.752922 -1.106115  0.113032  0.416163 -1.361517  -0.999690 -0.480021   \n",
       "4 -0.752922 -1.106115  0.113032  0.441052 -1.026501  -0.362673 -0.480021   \n",
       "\n",
       "   RAD_LSTAT   RAD_TAX   CRIM_ZN  \n",
       "0  -0.744390 -0.769714 -0.355332  \n",
       "1  -0.676661 -0.740395 -0.405081  \n",
       "2  -0.728706 -0.740395 -0.405081  \n",
       "3  -0.724835 -0.712011 -0.405081  \n",
       "4  -0.688322 -0.712011 -0.405081  "
      ]
     },
     "execution_count": 12,
     "metadata": {},
     "output_type": "execute_result"
    }
   ],
   "source": [
    "# Scale the numeric features and \n",
    "X_scaler = StandardScaler()\n",
    "num_scaled=X_scaler.fit_transform(df_housing_numeric)\n",
    "df_num_scaled = pd.DataFrame(num_scaled,columns = df_housing_numeric.columns)\n",
    "df_num_scaled.head()"
   ]
  },
  {
   "cell_type": "code",
   "execution_count": 13,
   "id": "1bda7298",
   "metadata": {},
   "outputs": [],
   "source": [
    "X = pd.concat([df_num_scaled, df_housing['CHAS']], axis=1)\n",
    "y = df_housing['PRICE']"
   ]
  },
  {
   "cell_type": "code",
   "execution_count": 14,
   "id": "6b1f49ce",
   "metadata": {},
   "outputs": [],
   "source": [
    "X_train, X_test, y_train, y_test = train_test_split(X, y, test_size=0.3, random_state=100)"
   ]
  },
  {
   "cell_type": "code",
   "execution_count": 15,
   "id": "b1256831",
   "metadata": {},
   "outputs": [
    {
     "name": "stdout",
     "output_type": "stream",
     "text": [
      "Train R2  0.7747867689198509\n",
      "Test R2   0.7152181788736488\n"
     ]
    }
   ],
   "source": [
    "lr = LinearRegression()\n",
    "lr.fit(X_train, y_train)\n",
    "\n",
    "y_pred_train = lr.predict(X_train)\n",
    "y_pred_test = lr.predict(X_test)\n",
    "\n",
    "train_r2 = r2_score(y_train, y_pred_train)\n",
    "test_r2 = r2_score(y_test, y_pred_test)\n",
    "print('Train R2 ', train_r2)\n",
    "print('Test R2  ', test_r2)"
   ]
  },
  {
   "cell_type": "code",
   "execution_count": null,
   "id": "cd6a2099",
   "metadata": {},
   "outputs": [],
   "source": []
  },
  {
   "cell_type": "markdown",
   "id": "e62d1379",
   "metadata": {},
   "source": [
    "# Regularization"
   ]
  },
  {
   "cell_type": "markdown",
   "id": "b14b92d1",
   "metadata": {},
   "source": [
    "## Ridge"
   ]
  },
  {
   "cell_type": "code",
   "execution_count": 20,
   "id": "ea9c74de",
   "metadata": {},
   "outputs": [
    {
     "name": "stdout",
     "output_type": "stream",
     "text": [
      "Train R2  0.7744500869035429\n",
      "Test R2   0.7160489066296205\n"
     ]
    }
   ],
   "source": [
    "# Build and evaluate Ridge Model\n",
    "\n",
    "ridge_model = Ridge(alpha=0.2)                  # alpha is lambda\n",
    "ridge_model.fit(X_train,y_train)\n",
    "\n",
    "y_pred_train = ridge_model.predict(X_train)\n",
    "y_pred_test = ridge_model.predict(X_test)\n",
    "\n",
    "train_r2 = r2_score(y_train, y_pred_train)\n",
    "test_r2 = r2_score(y_test, y_pred_test)\n",
    "print('Train R2 ', train_r2)\n",
    "print('Test R2  ', test_r2)"
   ]
  },
  {
   "cell_type": "code",
   "execution_count": 18,
   "id": "03177afc",
   "metadata": {},
   "outputs": [
    {
     "name": "stdout",
     "output_type": "stream",
     "text": [
      "[ -0.66739885 -13.20799295  -0.09951027  -1.87721423   2.06884408\n",
      "   0.10478023  -1.1479755    4.32857691  -2.13794424  -1.7416942\n",
      "   0.79686113  -1.64894603  -1.1664528   13.78824469  -1.65452558\n",
      "  -0.89448501   0.54796729   2.56751236]\n"
     ]
    }
   ],
   "source": [
    "print(lr.coef_)"
   ]
  },
  {
   "cell_type": "code",
   "execution_count": 19,
   "id": "b7435f8d",
   "metadata": {},
   "outputs": [
    {
     "name": "stdout",
     "output_type": "stream",
     "text": [
      "[ -0.66754801 -11.28245751  -0.11964369  -1.88276135   2.1515178\n",
      "   0.08165754  -1.2066585    3.91732326  -2.19539345  -1.77559396\n",
      "   0.80750218  -1.57957077  -1.20043823  11.86182797  -1.66780057\n",
      "  -0.41938327   0.52296145   2.57065402]\n"
     ]
    }
   ],
   "source": [
    "print(ridge_model.coef_)"
   ]
  },
  {
   "cell_type": "code",
   "execution_count": null,
   "id": "ed70eb7a",
   "metadata": {},
   "outputs": [],
   "source": []
  },
  {
   "cell_type": "markdown",
   "id": "04403960",
   "metadata": {},
   "source": [
    "## Lasso"
   ]
  },
  {
   "cell_type": "code",
   "execution_count": 24,
   "id": "1c3397ab",
   "metadata": {},
   "outputs": [
    {
     "name": "stdout",
     "output_type": "stream",
     "text": [
      "Train R2  0.7504245026458002\n",
      "Test R2   0.6905841315257106\n"
     ]
    }
   ],
   "source": [
    "# Build and evaluate Lasso Model\n",
    "\n",
    "lasso_model = Lasso(alpha=0.1)                  # alpha is lambda\n",
    "lasso_model.fit(X_train,y_train)\n",
    "\n",
    "y_pred_train = lasso_model.predict(X_train)\n",
    "y_pred_test = lasso_model.predict(X_test)\n",
    "\n",
    "train_r2 = r2_score(y_train, y_pred_train)\n",
    "test_r2 = r2_score(y_test, y_pred_test)\n",
    "print('Train R2 ', train_r2)\n",
    "print('Test R2  ', test_r2)"
   ]
  },
  {
   "cell_type": "code",
   "execution_count": 25,
   "id": "b5348c79",
   "metadata": {},
   "outputs": [
    {
     "name": "stdout",
     "output_type": "stream",
     "text": [
      "[-0.52310958 -0.         -0.03844633 -1.32441029  2.73971427 -0.\n",
      " -1.27115015  1.15793659 -1.35879331 -1.77403131  0.86080792 -2.31612743\n",
      " -1.00990604  0.47187462 -0.          0.          0.29719969  1.66474172]\n"
     ]
    }
   ],
   "source": [
    "print(lasso_model.coef_)"
   ]
  },
  {
   "cell_type": "code",
   "execution_count": null,
   "id": "80e7f193",
   "metadata": {},
   "outputs": [],
   "source": []
  },
  {
   "cell_type": "markdown",
   "id": "16b14a56",
   "metadata": {},
   "source": [
    "## Elastic Net"
   ]
  },
  {
   "cell_type": "code",
   "execution_count": 27,
   "id": "b70ca630",
   "metadata": {},
   "outputs": [
    {
     "name": "stdout",
     "output_type": "stream",
     "text": [
      "Train R2  0.6854366091770645\n",
      "Test R2   0.6054900378993648\n"
     ]
    }
   ],
   "source": [
    "# Build and evaluate ElasticNet Model\n",
    "\n",
    "en_model = ElasticNet(alpha=1, l1_ratio=0.8)                  # alpha is lambda\n",
    "en_model.fit(X_train,y_train)\n",
    "\n",
    "y_pred_train = en_model.predict(X_train)\n",
    "y_pred_test = en_model.predict(X_test)\n",
    "\n",
    "train_r2 = r2_score(y_train, y_pred_train)\n",
    "test_r2 = r2_score(y_test, y_pred_test)\n",
    "print('Train R2 ', train_r2)\n",
    "print('Test R2  ', test_r2)"
   ]
  },
  {
   "cell_type": "code",
   "execution_count": 28,
   "id": "0cbb67f5",
   "metadata": {},
   "outputs": [
    {
     "name": "stdout",
     "output_type": "stream",
     "text": [
      "[-0.          0.         -0.28695691 -0.1449559   2.37725877 -0.\n",
      "  0.         -0.         -0.38563084 -1.15799779  0.38547639 -2.09780143\n",
      " -0.81360718  0.02740275 -0.31914314 -0.          0.11160619  0.        ]\n"
     ]
    }
   ],
   "source": [
    "print(en_model.coef_)"
   ]
  },
  {
   "cell_type": "code",
   "execution_count": null,
   "id": "32510d61",
   "metadata": {},
   "outputs": [],
   "source": []
  },
  {
   "cell_type": "markdown",
   "id": "e2f78de9",
   "metadata": {},
   "source": [
    "## Grid Search"
   ]
  },
  {
   "cell_type": "code",
   "execution_count": 29,
   "id": "d74e78bb",
   "metadata": {},
   "outputs": [],
   "source": [
    "from sklearn.model_selection import GridSearchCV"
   ]
  },
  {
   "cell_type": "code",
   "execution_count": 31,
   "id": "96d45092",
   "metadata": {},
   "outputs": [
    {
     "data": {
      "text/plain": [
       "{'alpha': 0.1}"
      ]
     },
     "execution_count": 31,
     "metadata": {},
     "output_type": "execute_result"
    }
   ],
   "source": [
    "# Grid Search - Ridge\n",
    "param = {'alpha':[0.01, 0.1, 1, 10]}\n",
    "\n",
    "model = Ridge()\n",
    "\n",
    "grid_cv = GridSearchCV(estimator=model, param_grid=param, cv=5, scoring='r2')       # cv=5(default), scoring='r2'(default)\n",
    "grid_cv.fit(X_train, y_train)\n",
    "grid_cv.best_params_"
   ]
  },
  {
   "cell_type": "code",
   "execution_count": 36,
   "id": "e6967715",
   "metadata": {},
   "outputs": [
    {
     "data": {
      "text/plain": [
       "{'alpha': 0.01}"
      ]
     },
     "execution_count": 36,
     "metadata": {},
     "output_type": "execute_result"
    }
   ],
   "source": [
    "# Lasso\n",
    "param = {'alpha':[0.01, 0.1, 1, 10]}\n",
    "\n",
    "model = Lasso(max_iter=2000) # Required if non-convergence warning is recieved\n",
    "\n",
    "grid_cv = GridSearchCV(estimator=model, param_grid=param, cv=5, scoring='r2')       # cv=5(default), scoring='r2'(default)\n",
    "grid_cv.fit(X_train, y_train)\n",
    "grid_cv.best_params_"
   ]
  },
  {
   "cell_type": "code",
   "execution_count": 40,
   "id": "138c5952",
   "metadata": {},
   "outputs": [
    {
     "data": {
      "text/plain": [
       "{'alpha': 0.01, 'l1_ratio': 0.9}"
      ]
     },
     "execution_count": 40,
     "metadata": {},
     "output_type": "execute_result"
    }
   ],
   "source": [
    "# Elastic Net\n",
    "param = {'alpha':[0.01, 0.1, 0.3, 0.5],\n",
    "        'l1_ratio':[0.3, 0.5, 0.7, 0.9]}\n",
    "\n",
    "\n",
    "algo_name = ElasticNet()\n",
    "\n",
    "grid_cv = GridSearchCV(estimator=algo_name, param_grid=param, cv=5, scoring='r2')       # cv=5(default), scoring='r2'(default)\n",
    "grid_cv.fit(X_train, y_train)\n",
    "grid_cv.best_params_"
   ]
  },
  {
   "cell_type": "code",
   "execution_count": null,
   "id": "0bbc6054",
   "metadata": {},
   "outputs": [],
   "source": []
  }
 ],
 "metadata": {
  "kernelspec": {
   "display_name": "Python 3 (ipykernel)",
   "language": "python",
   "name": "python3"
  },
  "language_info": {
   "codemirror_mode": {
    "name": "ipython",
    "version": 3
   },
   "file_extension": ".py",
   "mimetype": "text/x-python",
   "name": "python",
   "nbconvert_exporter": "python",
   "pygments_lexer": "ipython3",
   "version": "3.11.4"
  }
 },
 "nbformat": 4,
 "nbformat_minor": 5
}

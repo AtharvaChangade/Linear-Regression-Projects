{
 "cells": [
  {
   "cell_type": "code",
   "execution_count": 1,
   "id": "386af43e",
   "metadata": {},
   "outputs": [],
   "source": [
    "# The objective of this notebook is to learn \n",
    "# - train test split\n",
    "# - performance measurements\n",
    "# - cross validation\n",
    "# - feature selection"
   ]
  },
  {
   "cell_type": "code",
   "execution_count": 2,
   "id": "fb36f561",
   "metadata": {},
   "outputs": [],
   "source": [
    "import numpy as np\n",
    "import pandas as pd \n",
    "\n",
    "import statsmodels.formula.api as smf\n",
    "import statsmodels.api as sm\n",
    "\n",
    "import scipy.stats as stats\n",
    "\n",
    "from sklearn.model_selection import train_test_split\n",
    "from sklearn import metrics\n",
    "\n",
    "import matplotlib.pyplot as plt"
   ]
  },
  {
   "cell_type": "code",
   "execution_count": 3,
   "id": "2bd7b3fb",
   "metadata": {},
   "outputs": [
    {
     "data": {
      "text/html": [
       "<div>\n",
       "<style scoped>\n",
       "    .dataframe tbody tr th:only-of-type {\n",
       "        vertical-align: middle;\n",
       "    }\n",
       "\n",
       "    .dataframe tbody tr th {\n",
       "        vertical-align: top;\n",
       "    }\n",
       "\n",
       "    .dataframe thead th {\n",
       "        text-align: right;\n",
       "    }\n",
       "</style>\n",
       "<table border=\"1\" class=\"dataframe\">\n",
       "  <thead>\n",
       "    <tr style=\"text-align: right;\">\n",
       "      <th></th>\n",
       "      <th>CRIM</th>\n",
       "      <th>ZN</th>\n",
       "      <th>INDUS</th>\n",
       "      <th>CHAS</th>\n",
       "      <th>NOX</th>\n",
       "      <th>RM</th>\n",
       "      <th>AGE</th>\n",
       "      <th>DIS</th>\n",
       "      <th>RAD</th>\n",
       "      <th>TAX</th>\n",
       "      <th>PTRATIO</th>\n",
       "      <th>B</th>\n",
       "      <th>LSTAT</th>\n",
       "      <th>PRICE</th>\n",
       "    </tr>\n",
       "  </thead>\n",
       "  <tbody>\n",
       "    <tr>\n",
       "      <th>0</th>\n",
       "      <td>0.00632</td>\n",
       "      <td>18.0</td>\n",
       "      <td>2.31</td>\n",
       "      <td>0</td>\n",
       "      <td>0.538</td>\n",
       "      <td>6.575</td>\n",
       "      <td>65.2</td>\n",
       "      <td>4.0900</td>\n",
       "      <td>1</td>\n",
       "      <td>296</td>\n",
       "      <td>15.3</td>\n",
       "      <td>396.90</td>\n",
       "      <td>4.98</td>\n",
       "      <td>24.0</td>\n",
       "    </tr>\n",
       "    <tr>\n",
       "      <th>1</th>\n",
       "      <td>0.02731</td>\n",
       "      <td>0.0</td>\n",
       "      <td>7.07</td>\n",
       "      <td>0</td>\n",
       "      <td>0.469</td>\n",
       "      <td>6.421</td>\n",
       "      <td>78.9</td>\n",
       "      <td>4.9671</td>\n",
       "      <td>2</td>\n",
       "      <td>242</td>\n",
       "      <td>17.8</td>\n",
       "      <td>396.90</td>\n",
       "      <td>9.14</td>\n",
       "      <td>21.6</td>\n",
       "    </tr>\n",
       "    <tr>\n",
       "      <th>2</th>\n",
       "      <td>0.02729</td>\n",
       "      <td>0.0</td>\n",
       "      <td>7.07</td>\n",
       "      <td>0</td>\n",
       "      <td>0.469</td>\n",
       "      <td>7.185</td>\n",
       "      <td>61.1</td>\n",
       "      <td>4.9671</td>\n",
       "      <td>2</td>\n",
       "      <td>242</td>\n",
       "      <td>17.8</td>\n",
       "      <td>392.83</td>\n",
       "      <td>4.03</td>\n",
       "      <td>34.7</td>\n",
       "    </tr>\n",
       "    <tr>\n",
       "      <th>3</th>\n",
       "      <td>0.03237</td>\n",
       "      <td>0.0</td>\n",
       "      <td>2.18</td>\n",
       "      <td>0</td>\n",
       "      <td>0.458</td>\n",
       "      <td>6.998</td>\n",
       "      <td>45.8</td>\n",
       "      <td>6.0622</td>\n",
       "      <td>3</td>\n",
       "      <td>222</td>\n",
       "      <td>18.7</td>\n",
       "      <td>394.63</td>\n",
       "      <td>2.94</td>\n",
       "      <td>33.4</td>\n",
       "    </tr>\n",
       "    <tr>\n",
       "      <th>4</th>\n",
       "      <td>0.06905</td>\n",
       "      <td>0.0</td>\n",
       "      <td>2.18</td>\n",
       "      <td>0</td>\n",
       "      <td>0.458</td>\n",
       "      <td>7.147</td>\n",
       "      <td>54.2</td>\n",
       "      <td>6.0622</td>\n",
       "      <td>3</td>\n",
       "      <td>222</td>\n",
       "      <td>18.7</td>\n",
       "      <td>396.90</td>\n",
       "      <td>5.33</td>\n",
       "      <td>36.2</td>\n",
       "    </tr>\n",
       "  </tbody>\n",
       "</table>\n",
       "</div>"
      ],
      "text/plain": [
       "      CRIM    ZN  INDUS  CHAS    NOX     RM   AGE     DIS  RAD  TAX  PTRATIO  \\\n",
       "0  0.00632  18.0   2.31     0  0.538  6.575  65.2  4.0900    1  296     15.3   \n",
       "1  0.02731   0.0   7.07     0  0.469  6.421  78.9  4.9671    2  242     17.8   \n",
       "2  0.02729   0.0   7.07     0  0.469  7.185  61.1  4.9671    2  242     17.8   \n",
       "3  0.03237   0.0   2.18     0  0.458  6.998  45.8  6.0622    3  222     18.7   \n",
       "4  0.06905   0.0   2.18     0  0.458  7.147  54.2  6.0622    3  222     18.7   \n",
       "\n",
       "        B  LSTAT  PRICE  \n",
       "0  396.90   4.98   24.0  \n",
       "1  396.90   9.14   21.6  \n",
       "2  392.83   4.03   34.7  \n",
       "3  394.63   2.94   33.4  \n",
       "4  396.90   5.33   36.2  "
      ]
     },
     "execution_count": 3,
     "metadata": {},
     "output_type": "execute_result"
    }
   ],
   "source": [
    "df = pd.read_csv(\"housing_data.csv\")\n",
    "df.head()"
   ]
  },
  {
   "cell_type": "code",
   "execution_count": 4,
   "id": "0fa29373",
   "metadata": {},
   "outputs": [],
   "source": [
    "X = df.drop('PRICE',axis=1)\n",
    "y = df.PRICE"
   ]
  },
  {
   "cell_type": "code",
   "execution_count": 5,
   "id": "904ec161",
   "metadata": {},
   "outputs": [],
   "source": [
    "X_train,X_test,y_train,y_test = train_test_split(X,y,test_size=0.3,random_state=100)"
   ]
  },
  {
   "cell_type": "code",
   "execution_count": 6,
   "id": "76e11603",
   "metadata": {},
   "outputs": [
    {
     "name": "stdout",
     "output_type": "stream",
     "text": [
      "(354, 13)\n",
      "(152, 13)\n",
      "(354,)\n",
      "(152,)\n"
     ]
    }
   ],
   "source": [
    "print(X_train.shape)\n",
    "print(X_test.shape)\n",
    "print(y_train.shape)\n",
    "print(y_test.shape)"
   ]
  },
  {
   "cell_type": "code",
   "execution_count": 7,
   "id": "985b9a5e",
   "metadata": {},
   "outputs": [],
   "source": [
    "# Ideally data cleaning and EDA is performed "
   ]
  },
  {
   "cell_type": "code",
   "execution_count": 8,
   "id": "ce0b9450",
   "metadata": {},
   "outputs": [],
   "source": [
    "# stats models requires constant added in X while sklearn does not."
   ]
  },
  {
   "cell_type": "code",
   "execution_count": 9,
   "id": "c5181b73",
   "metadata": {},
   "outputs": [],
   "source": [
    "X_train_c = sm.add_constant(X_train)\n",
    "X_test_c = sm.add_constant(X_test)"
   ]
  },
  {
   "cell_type": "code",
   "execution_count": 10,
   "id": "d0de5da2",
   "metadata": {},
   "outputs": [
    {
     "data": {
      "text/html": [
       "<table class=\"simpletable\">\n",
       "<caption>OLS Regression Results</caption>\n",
       "<tr>\n",
       "  <th>Dep. Variable:</th>          <td>PRICE</td>      <th>  R-squared:         </th> <td>   0.753</td>\n",
       "</tr>\n",
       "<tr>\n",
       "  <th>Model:</th>                   <td>OLS</td>       <th>  Adj. R-squared:    </th> <td>   0.743</td>\n",
       "</tr>\n",
       "<tr>\n",
       "  <th>Method:</th>             <td>Least Squares</td>  <th>  F-statistic:       </th> <td>   79.69</td>\n",
       "</tr>\n",
       "<tr>\n",
       "  <th>Date:</th>             <td>Tue, 12 Dec 2023</td> <th>  Prob (F-statistic):</th> <td>9.36e-95</td>\n",
       "</tr>\n",
       "<tr>\n",
       "  <th>Time:</th>                 <td>11:10:44</td>     <th>  Log-Likelihood:    </th> <td> -1024.1</td>\n",
       "</tr>\n",
       "<tr>\n",
       "  <th>No. Observations:</th>      <td>   354</td>      <th>  AIC:               </th> <td>   2076.</td>\n",
       "</tr>\n",
       "<tr>\n",
       "  <th>Df Residuals:</th>          <td>   340</td>      <th>  BIC:               </th> <td>   2130.</td>\n",
       "</tr>\n",
       "<tr>\n",
       "  <th>Df Model:</th>              <td>    13</td>      <th>                     </th>     <td> </td>   \n",
       "</tr>\n",
       "<tr>\n",
       "  <th>Covariance Type:</th>      <td>nonrobust</td>    <th>                     </th>     <td> </td>   \n",
       "</tr>\n",
       "</table>\n",
       "<table class=\"simpletable\">\n",
       "<tr>\n",
       "     <td></td>        <th>coef</th>     <th>std err</th>      <th>t</th>      <th>P>|t|</th>  <th>[0.025</th>    <th>0.975]</th>  \n",
       "</tr>\n",
       "<tr>\n",
       "  <th>const</th>   <td>   33.1158</td> <td>    5.641</td> <td>    5.871</td> <td> 0.000</td> <td>   22.021</td> <td>   44.211</td>\n",
       "</tr>\n",
       "<tr>\n",
       "  <th>CRIM</th>    <td>   -0.0769</td> <td>    0.043</td> <td>   -1.797</td> <td> 0.073</td> <td>   -0.161</td> <td>    0.007</td>\n",
       "</tr>\n",
       "<tr>\n",
       "  <th>ZN</th>      <td>    0.0396</td> <td>    0.015</td> <td>    2.618</td> <td> 0.009</td> <td>    0.010</td> <td>    0.069</td>\n",
       "</tr>\n",
       "<tr>\n",
       "  <th>INDUS</th>   <td>   -0.0061</td> <td>    0.071</td> <td>   -0.086</td> <td> 0.932</td> <td>   -0.146</td> <td>    0.134</td>\n",
       "</tr>\n",
       "<tr>\n",
       "  <th>CHAS</th>    <td>    2.6303</td> <td>    0.950</td> <td>    2.769</td> <td> 0.006</td> <td>    0.762</td> <td>    4.499</td>\n",
       "</tr>\n",
       "<tr>\n",
       "  <th>NOX</th>     <td>  -13.1416</td> <td>    4.280</td> <td>   -3.071</td> <td> 0.002</td> <td>  -21.560</td> <td>   -4.724</td>\n",
       "</tr>\n",
       "<tr>\n",
       "  <th>RM</th>      <td>    3.8442</td> <td>    0.462</td> <td>    8.324</td> <td> 0.000</td> <td>    2.936</td> <td>    4.753</td>\n",
       "</tr>\n",
       "<tr>\n",
       "  <th>AGE</th>     <td>   -0.0121</td> <td>    0.015</td> <td>   -0.791</td> <td> 0.430</td> <td>   -0.042</td> <td>    0.018</td>\n",
       "</tr>\n",
       "<tr>\n",
       "  <th>DIS</th>     <td>   -1.3763</td> <td>    0.226</td> <td>   -6.087</td> <td> 0.000</td> <td>   -1.821</td> <td>   -0.932</td>\n",
       "</tr>\n",
       "<tr>\n",
       "  <th>RAD</th>     <td>    0.2839</td> <td>    0.077</td> <td>    3.689</td> <td> 0.000</td> <td>    0.133</td> <td>    0.435</td>\n",
       "</tr>\n",
       "<tr>\n",
       "  <th>TAX</th>     <td>   -0.0141</td> <td>    0.004</td> <td>   -3.222</td> <td> 0.001</td> <td>   -0.023</td> <td>   -0.005</td>\n",
       "</tr>\n",
       "<tr>\n",
       "  <th>PTRATIO</th> <td>   -0.9186</td> <td>    0.148</td> <td>   -6.228</td> <td> 0.000</td> <td>   -1.209</td> <td>   -0.628</td>\n",
       "</tr>\n",
       "<tr>\n",
       "  <th>B</th>       <td>    0.0106</td> <td>    0.003</td> <td>    3.464</td> <td> 0.001</td> <td>    0.005</td> <td>    0.017</td>\n",
       "</tr>\n",
       "<tr>\n",
       "  <th>LSTAT</th>   <td>   -0.4380</td> <td>    0.056</td> <td>   -7.754</td> <td> 0.000</td> <td>   -0.549</td> <td>   -0.327</td>\n",
       "</tr>\n",
       "</table>\n",
       "<table class=\"simpletable\">\n",
       "<tr>\n",
       "  <th>Omnibus:</th>       <td>82.206</td> <th>  Durbin-Watson:     </th> <td>   2.016</td>\n",
       "</tr>\n",
       "<tr>\n",
       "  <th>Prob(Omnibus):</th> <td> 0.000</td> <th>  Jarque-Bera (JB):  </th> <td> 191.820</td>\n",
       "</tr>\n",
       "<tr>\n",
       "  <th>Skew:</th>          <td> 1.147</td> <th>  Prob(JB):          </th> <td>2.22e-42</td>\n",
       "</tr>\n",
       "<tr>\n",
       "  <th>Kurtosis:</th>      <td> 5.782</td> <th>  Cond. No.          </th> <td>1.48e+04</td>\n",
       "</tr>\n",
       "</table><br/><br/>Notes:<br/>[1] Standard Errors assume that the covariance matrix of the errors is correctly specified.<br/>[2] The condition number is large, 1.48e+04. This might indicate that there are<br/>strong multicollinearity or other numerical problems."
      ],
      "text/latex": [
       "\\begin{center}\n",
       "\\begin{tabular}{lclc}\n",
       "\\toprule\n",
       "\\textbf{Dep. Variable:}    &      PRICE       & \\textbf{  R-squared:         } &     0.753   \\\\\n",
       "\\textbf{Model:}            &       OLS        & \\textbf{  Adj. R-squared:    } &     0.743   \\\\\n",
       "\\textbf{Method:}           &  Least Squares   & \\textbf{  F-statistic:       } &     79.69   \\\\\n",
       "\\textbf{Date:}             & Tue, 12 Dec 2023 & \\textbf{  Prob (F-statistic):} &  9.36e-95   \\\\\n",
       "\\textbf{Time:}             &     11:10:44     & \\textbf{  Log-Likelihood:    } &   -1024.1   \\\\\n",
       "\\textbf{No. Observations:} &         354      & \\textbf{  AIC:               } &     2076.   \\\\\n",
       "\\textbf{Df Residuals:}     &         340      & \\textbf{  BIC:               } &     2130.   \\\\\n",
       "\\textbf{Df Model:}         &          13      & \\textbf{                     } &             \\\\\n",
       "\\textbf{Covariance Type:}  &    nonrobust     & \\textbf{                     } &             \\\\\n",
       "\\bottomrule\n",
       "\\end{tabular}\n",
       "\\begin{tabular}{lcccccc}\n",
       "                 & \\textbf{coef} & \\textbf{std err} & \\textbf{t} & \\textbf{P$> |$t$|$} & \\textbf{[0.025} & \\textbf{0.975]}  \\\\\n",
       "\\midrule\n",
       "\\textbf{const}   &      33.1158  &        5.641     &     5.871  &         0.000        &       22.021    &       44.211     \\\\\n",
       "\\textbf{CRIM}    &      -0.0769  &        0.043     &    -1.797  &         0.073        &       -0.161    &        0.007     \\\\\n",
       "\\textbf{ZN}      &       0.0396  &        0.015     &     2.618  &         0.009        &        0.010    &        0.069     \\\\\n",
       "\\textbf{INDUS}   &      -0.0061  &        0.071     &    -0.086  &         0.932        &       -0.146    &        0.134     \\\\\n",
       "\\textbf{CHAS}    &       2.6303  &        0.950     &     2.769  &         0.006        &        0.762    &        4.499     \\\\\n",
       "\\textbf{NOX}     &     -13.1416  &        4.280     &    -3.071  &         0.002        &      -21.560    &       -4.724     \\\\\n",
       "\\textbf{RM}      &       3.8442  &        0.462     &     8.324  &         0.000        &        2.936    &        4.753     \\\\\n",
       "\\textbf{AGE}     &      -0.0121  &        0.015     &    -0.791  &         0.430        &       -0.042    &        0.018     \\\\\n",
       "\\textbf{DIS}     &      -1.3763  &        0.226     &    -6.087  &         0.000        &       -1.821    &       -0.932     \\\\\n",
       "\\textbf{RAD}     &       0.2839  &        0.077     &     3.689  &         0.000        &        0.133    &        0.435     \\\\\n",
       "\\textbf{TAX}     &      -0.0141  &        0.004     &    -3.222  &         0.001        &       -0.023    &       -0.005     \\\\\n",
       "\\textbf{PTRATIO} &      -0.9186  &        0.148     &    -6.228  &         0.000        &       -1.209    &       -0.628     \\\\\n",
       "\\textbf{B}       &       0.0106  &        0.003     &     3.464  &         0.001        &        0.005    &        0.017     \\\\\n",
       "\\textbf{LSTAT}   &      -0.4380  &        0.056     &    -7.754  &         0.000        &       -0.549    &       -0.327     \\\\\n",
       "\\bottomrule\n",
       "\\end{tabular}\n",
       "\\begin{tabular}{lclc}\n",
       "\\textbf{Omnibus:}       & 82.206 & \\textbf{  Durbin-Watson:     } &    2.016  \\\\\n",
       "\\textbf{Prob(Omnibus):} &  0.000 & \\textbf{  Jarque-Bera (JB):  } &  191.820  \\\\\n",
       "\\textbf{Skew:}          &  1.147 & \\textbf{  Prob(JB):          } & 2.22e-42  \\\\\n",
       "\\textbf{Kurtosis:}      &  5.782 & \\textbf{  Cond. No.          } & 1.48e+04  \\\\\n",
       "\\bottomrule\n",
       "\\end{tabular}\n",
       "%\\caption{OLS Regression Results}\n",
       "\\end{center}\n",
       "\n",
       "Notes: \\newline\n",
       " [1] Standard Errors assume that the covariance matrix of the errors is correctly specified. \\newline\n",
       " [2] The condition number is large, 1.48e+04. This might indicate that there are \\newline\n",
       " strong multicollinearity or other numerical problems."
      ],
      "text/plain": [
       "<class 'statsmodels.iolib.summary.Summary'>\n",
       "\"\"\"\n",
       "                            OLS Regression Results                            \n",
       "==============================================================================\n",
       "Dep. Variable:                  PRICE   R-squared:                       0.753\n",
       "Model:                            OLS   Adj. R-squared:                  0.743\n",
       "Method:                 Least Squares   F-statistic:                     79.69\n",
       "Date:                Tue, 12 Dec 2023   Prob (F-statistic):           9.36e-95\n",
       "Time:                        11:10:44   Log-Likelihood:                -1024.1\n",
       "No. Observations:                 354   AIC:                             2076.\n",
       "Df Residuals:                     340   BIC:                             2130.\n",
       "Df Model:                          13                                         \n",
       "Covariance Type:            nonrobust                                         \n",
       "==============================================================================\n",
       "                 coef    std err          t      P>|t|      [0.025      0.975]\n",
       "------------------------------------------------------------------------------\n",
       "const         33.1158      5.641      5.871      0.000      22.021      44.211\n",
       "CRIM          -0.0769      0.043     -1.797      0.073      -0.161       0.007\n",
       "ZN             0.0396      0.015      2.618      0.009       0.010       0.069\n",
       "INDUS         -0.0061      0.071     -0.086      0.932      -0.146       0.134\n",
       "CHAS           2.6303      0.950      2.769      0.006       0.762       4.499\n",
       "NOX          -13.1416      4.280     -3.071      0.002     -21.560      -4.724\n",
       "RM             3.8442      0.462      8.324      0.000       2.936       4.753\n",
       "AGE           -0.0121      0.015     -0.791      0.430      -0.042       0.018\n",
       "DIS           -1.3763      0.226     -6.087      0.000      -1.821      -0.932\n",
       "RAD            0.2839      0.077      3.689      0.000       0.133       0.435\n",
       "TAX           -0.0141      0.004     -3.222      0.001      -0.023      -0.005\n",
       "PTRATIO       -0.9186      0.148     -6.228      0.000      -1.209      -0.628\n",
       "B              0.0106      0.003      3.464      0.001       0.005       0.017\n",
       "LSTAT         -0.4380      0.056     -7.754      0.000      -0.549      -0.327\n",
       "==============================================================================\n",
       "Omnibus:                       82.206   Durbin-Watson:                   2.016\n",
       "Prob(Omnibus):                  0.000   Jarque-Bera (JB):              191.820\n",
       "Skew:                           1.147   Prob(JB):                     2.22e-42\n",
       "Kurtosis:                       5.782   Cond. No.                     1.48e+04\n",
       "==============================================================================\n",
       "\n",
       "Notes:\n",
       "[1] Standard Errors assume that the covariance matrix of the errors is correctly specified.\n",
       "[2] The condition number is large, 1.48e+04. This might indicate that there are\n",
       "strong multicollinearity or other numerical problems.\n",
       "\"\"\""
      ]
     },
     "execution_count": 10,
     "metadata": {},
     "output_type": "execute_result"
    }
   ],
   "source": [
    "ols_model = sm.OLS(y_train,X_train_c).fit()\n",
    "ols_model.summary()"
   ]
  },
  {
   "cell_type": "code",
   "execution_count": 11,
   "id": "dc20b528",
   "metadata": {},
   "outputs": [],
   "source": [
    "# Assumption check shold be done here if the approach is to use stats model"
   ]
  },
  {
   "cell_type": "code",
   "execution_count": 12,
   "id": "888ffc58",
   "metadata": {},
   "outputs": [
    {
     "data": {
      "text/plain": [
       "198    34.016513\n",
       "229    31.051895\n",
       "502    22.338845\n",
       "31     18.083835\n",
       "315    20.566881\n",
       "         ...    \n",
       "272    28.214334\n",
       "124    20.692753\n",
       "178    30.961978\n",
       "447    18.159312\n",
       "282    39.673768\n",
       "Length: 152, dtype: float64"
      ]
     },
     "execution_count": 12,
     "metadata": {},
     "output_type": "execute_result"
    }
   ],
   "source": [
    "# Perform predict test data \n",
    "y_pred = ols_model.predict(X_test_c)\n",
    "y_pred"
   ]
  },
  {
   "cell_type": "code",
   "execution_count": 13,
   "id": "fc7adf3f",
   "metadata": {},
   "outputs": [],
   "source": [
    "# Performance measurement on test data "
   ]
  },
  {
   "cell_type": "code",
   "execution_count": 14,
   "id": "3153c29f",
   "metadata": {},
   "outputs": [
    {
     "name": "stdout",
     "output_type": "stream",
     "text": [
      "R2 is 0.7057919873264541\n"
     ]
    }
   ],
   "source": [
    "r2 = metrics.r2_score(y_test,y_pred)  #(Actual,predicted)\n",
    "print(\"R2 is\",r2)"
   ]
  },
  {
   "cell_type": "code",
   "execution_count": 15,
   "id": "a2840617",
   "metadata": {},
   "outputs": [],
   "source": [
    "# R2 of test data is more imp than train data."
   ]
  },
  {
   "cell_type": "markdown",
   "id": "24bc6b95",
   "metadata": {},
   "source": [
    "# Performance Measurment"
   ]
  },
  {
   "cell_type": "code",
   "execution_count": 16,
   "id": "b30edcdf",
   "metadata": {},
   "outputs": [
    {
     "name": "stdout",
     "output_type": "stream",
     "text": [
      "Performance evalution using TEST data\n",
      "R2 is 0.7057919873264541\n",
      "MSE is 29.798844301478812\n",
      "RMSE is 5.458831770761837\n",
      "MAE is 3.4719478482701582\n",
      "MAPE is 17.09035158870141\n"
     ]
    }
   ],
   "source": [
    "r2 = metrics.r2_score(y_test,y_pred)   #(Actual,predicted)\n",
    "mse = metrics.mean_squared_error(y_test,y_pred)\n",
    "rmse = np.sqrt(mse)\n",
    "mae = metrics.mean_absolute_error(y_test,y_pred)\n",
    "mape = metrics.mean_absolute_percentage_error(y_test,y_pred)\n",
    "\n",
    "print(\"Performance evalution using TEST data\")\n",
    "print(\"R2 is\",r2)\n",
    "print(\"MSE is\",mse)\n",
    "print(\"RMSE is\",rmse)\n",
    "print(\"MAE is\",mae)\n",
    "print(\"MAPE is\",mape*100)\n"
   ]
  },
  {
   "cell_type": "code",
   "execution_count": 17,
   "id": "98d26c27",
   "metadata": {},
   "outputs": [
    {
     "data": {
      "text/plain": [
       "463    21.836585\n",
       "75     23.495847\n",
       "478    18.784720\n",
       "199    29.445246\n",
       "84     24.957573\n",
       "         ...    \n",
       "343    27.180265\n",
       "359    19.097343\n",
       "323    19.494229\n",
       "280    38.031242\n",
       "8      12.794800\n",
       "Length: 354, dtype: float64"
      ]
     },
     "execution_count": 17,
     "metadata": {},
     "output_type": "execute_result"
    }
   ],
   "source": [
    "\n",
    "y_pred = ols_model.predict(X_train_c)\n",
    "y_pred\n"
   ]
  },
  {
   "cell_type": "code",
   "execution_count": 18,
   "id": "8c972c9a",
   "metadata": {},
   "outputs": [
    {
     "name": "stdout",
     "output_type": "stream",
     "text": [
      "Performance evalution using Training data\n",
      "R2 is 0.752890983596846\n",
      "MSE is 19.06739115538505\n",
      "RMSE is 4.366622396702633\n",
      "MAE is 3.12734980533066\n",
      "MAPE is 15.691696786013745\n"
     ]
    }
   ],
   "source": [
    "r2 = metrics.r2_score(y_train,y_pred)   #(Actual,predicted)\n",
    "mse = metrics.mean_squared_error(y_train,y_pred)\n",
    "rmse = np.sqrt(mse)\n",
    "mae = metrics.mean_absolute_error(y_train,y_pred)\n",
    "mape = metrics.mean_absolute_percentage_error(y_train,y_pred)\n",
    "\n",
    "print(\"Performance evalution using Training data\")\n",
    "print(\"R2 is\",r2)\n",
    "print(\"MSE is\",mse)\n",
    "print(\"RMSE is\",rmse)\n",
    "print(\"MAE is\",mae)\n",
    "print(\"MAPE is\",mape*100)\n"
   ]
  },
  {
   "cell_type": "markdown",
   "id": "92427eda",
   "metadata": {},
   "source": [
    " ## Week 2"
   ]
  },
  {
   "cell_type": "code",
   "execution_count": 19,
   "id": "b6e075d4",
   "metadata": {},
   "outputs": [],
   "source": [
    "# Building model with sk learn\n",
    "from sklearn.linear_model import LinearRegression"
   ]
  },
  {
   "cell_type": "code",
   "execution_count": 20,
   "id": "420f158f",
   "metadata": {},
   "outputs": [],
   "source": [
    "# Here in sklearn we does not need constant for model building"
   ]
  },
  {
   "cell_type": "code",
   "execution_count": 21,
   "id": "16c9d057",
   "metadata": {},
   "outputs": [
    {
     "data": {
      "text/html": [
       "<style>#sk-container-id-1 {color: black;}#sk-container-id-1 pre{padding: 0;}#sk-container-id-1 div.sk-toggleable {background-color: white;}#sk-container-id-1 label.sk-toggleable__label {cursor: pointer;display: block;width: 100%;margin-bottom: 0;padding: 0.3em;box-sizing: border-box;text-align: center;}#sk-container-id-1 label.sk-toggleable__label-arrow:before {content: \"▸\";float: left;margin-right: 0.25em;color: #696969;}#sk-container-id-1 label.sk-toggleable__label-arrow:hover:before {color: black;}#sk-container-id-1 div.sk-estimator:hover label.sk-toggleable__label-arrow:before {color: black;}#sk-container-id-1 div.sk-toggleable__content {max-height: 0;max-width: 0;overflow: hidden;text-align: left;background-color: #f0f8ff;}#sk-container-id-1 div.sk-toggleable__content pre {margin: 0.2em;color: black;border-radius: 0.25em;background-color: #f0f8ff;}#sk-container-id-1 input.sk-toggleable__control:checked~div.sk-toggleable__content {max-height: 200px;max-width: 100%;overflow: auto;}#sk-container-id-1 input.sk-toggleable__control:checked~label.sk-toggleable__label-arrow:before {content: \"▾\";}#sk-container-id-1 div.sk-estimator input.sk-toggleable__control:checked~label.sk-toggleable__label {background-color: #d4ebff;}#sk-container-id-1 div.sk-label input.sk-toggleable__control:checked~label.sk-toggleable__label {background-color: #d4ebff;}#sk-container-id-1 input.sk-hidden--visually {border: 0;clip: rect(1px 1px 1px 1px);clip: rect(1px, 1px, 1px, 1px);height: 1px;margin: -1px;overflow: hidden;padding: 0;position: absolute;width: 1px;}#sk-container-id-1 div.sk-estimator {font-family: monospace;background-color: #f0f8ff;border: 1px dotted black;border-radius: 0.25em;box-sizing: border-box;margin-bottom: 0.5em;}#sk-container-id-1 div.sk-estimator:hover {background-color: #d4ebff;}#sk-container-id-1 div.sk-parallel-item::after {content: \"\";width: 100%;border-bottom: 1px solid gray;flex-grow: 1;}#sk-container-id-1 div.sk-label:hover label.sk-toggleable__label {background-color: #d4ebff;}#sk-container-id-1 div.sk-serial::before {content: \"\";position: absolute;border-left: 1px solid gray;box-sizing: border-box;top: 0;bottom: 0;left: 50%;z-index: 0;}#sk-container-id-1 div.sk-serial {display: flex;flex-direction: column;align-items: center;background-color: white;padding-right: 0.2em;padding-left: 0.2em;position: relative;}#sk-container-id-1 div.sk-item {position: relative;z-index: 1;}#sk-container-id-1 div.sk-parallel {display: flex;align-items: stretch;justify-content: center;background-color: white;position: relative;}#sk-container-id-1 div.sk-item::before, #sk-container-id-1 div.sk-parallel-item::before {content: \"\";position: absolute;border-left: 1px solid gray;box-sizing: border-box;top: 0;bottom: 0;left: 50%;z-index: -1;}#sk-container-id-1 div.sk-parallel-item {display: flex;flex-direction: column;z-index: 1;position: relative;background-color: white;}#sk-container-id-1 div.sk-parallel-item:first-child::after {align-self: flex-end;width: 50%;}#sk-container-id-1 div.sk-parallel-item:last-child::after {align-self: flex-start;width: 50%;}#sk-container-id-1 div.sk-parallel-item:only-child::after {width: 0;}#sk-container-id-1 div.sk-dashed-wrapped {border: 1px dashed gray;margin: 0 0.4em 0.5em 0.4em;box-sizing: border-box;padding-bottom: 0.4em;background-color: white;}#sk-container-id-1 div.sk-label label {font-family: monospace;font-weight: bold;display: inline-block;line-height: 1.2em;}#sk-container-id-1 div.sk-label-container {text-align: center;}#sk-container-id-1 div.sk-container {/* jupyter's `normalize.less` sets `[hidden] { display: none; }` but bootstrap.min.css set `[hidden] { display: none !important; }` so we also need the `!important` here to be able to override the default hidden behavior on the sphinx rendered scikit-learn.org. See: https://github.com/scikit-learn/scikit-learn/issues/21755 */display: inline-block !important;position: relative;}#sk-container-id-1 div.sk-text-repr-fallback {display: none;}</style><div id=\"sk-container-id-1\" class=\"sk-top-container\"><div class=\"sk-text-repr-fallback\"><pre>LinearRegression()</pre><b>In a Jupyter environment, please rerun this cell to show the HTML representation or trust the notebook. <br />On GitHub, the HTML representation is unable to render, please try loading this page with nbviewer.org.</b></div><div class=\"sk-container\" hidden><div class=\"sk-item\"><div class=\"sk-estimator sk-toggleable\"><input class=\"sk-toggleable__control sk-hidden--visually\" id=\"sk-estimator-id-1\" type=\"checkbox\" checked><label for=\"sk-estimator-id-1\" class=\"sk-toggleable__label sk-toggleable__label-arrow\">LinearRegression</label><div class=\"sk-toggleable__content\"><pre>LinearRegression()</pre></div></div></div></div></div>"
      ],
      "text/plain": [
       "LinearRegression()"
      ]
     },
     "execution_count": 21,
     "metadata": {},
     "output_type": "execute_result"
    }
   ],
   "source": [
    "lr = LinearRegression()\n",
    "lr.fit(X_train,y_train)"
   ]
  },
  {
   "cell_type": "code",
   "execution_count": 22,
   "id": "c4955a10",
   "metadata": {},
   "outputs": [
    {
     "data": {
      "text/plain": [
       "33.115840942985784"
      ]
     },
     "execution_count": 22,
     "metadata": {},
     "output_type": "execute_result"
    }
   ],
   "source": [
    "lr.intercept_   # Bo"
   ]
  },
  {
   "cell_type": "code",
   "execution_count": 23,
   "id": "d819aaac",
   "metadata": {},
   "outputs": [
    {
     "data": {
      "text/plain": [
       "array([-7.69175693e-02,  3.95527497e-02, -6.09889801e-03,  2.63034959e+00,\n",
       "       -1.31416178e+01,  3.84418005e+00, -1.20624925e-02, -1.37626293e+00,\n",
       "        2.83925319e-01, -1.40640197e-02, -9.18566330e-01,  1.05783116e-02,\n",
       "       -4.37960459e-01])"
      ]
     },
     "execution_count": 23,
     "metadata": {},
     "output_type": "execute_result"
    }
   ],
   "source": [
    "# Extract b1,b2 coefficients\n",
    "\n",
    "lr.coef_"
   ]
  },
  {
   "cell_type": "code",
   "execution_count": 24,
   "id": "5840fc66",
   "metadata": {},
   "outputs": [
    {
     "data": {
      "text/html": [
       "<div>\n",
       "<style scoped>\n",
       "    .dataframe tbody tr th:only-of-type {\n",
       "        vertical-align: middle;\n",
       "    }\n",
       "\n",
       "    .dataframe tbody tr th {\n",
       "        vertical-align: top;\n",
       "    }\n",
       "\n",
       "    .dataframe thead th {\n",
       "        text-align: right;\n",
       "    }\n",
       "</style>\n",
       "<table border=\"1\" class=\"dataframe\">\n",
       "  <thead>\n",
       "    <tr style=\"text-align: right;\">\n",
       "      <th></th>\n",
       "      <th>features</th>\n",
       "      <th>Coef</th>\n",
       "    </tr>\n",
       "  </thead>\n",
       "  <tbody>\n",
       "    <tr>\n",
       "      <th>0</th>\n",
       "      <td>CRIM</td>\n",
       "      <td>-0.076918</td>\n",
       "    </tr>\n",
       "    <tr>\n",
       "      <th>1</th>\n",
       "      <td>ZN</td>\n",
       "      <td>0.039553</td>\n",
       "    </tr>\n",
       "    <tr>\n",
       "      <th>2</th>\n",
       "      <td>INDUS</td>\n",
       "      <td>-0.006099</td>\n",
       "    </tr>\n",
       "    <tr>\n",
       "      <th>3</th>\n",
       "      <td>CHAS</td>\n",
       "      <td>2.630350</td>\n",
       "    </tr>\n",
       "    <tr>\n",
       "      <th>4</th>\n",
       "      <td>NOX</td>\n",
       "      <td>-13.141618</td>\n",
       "    </tr>\n",
       "    <tr>\n",
       "      <th>5</th>\n",
       "      <td>RM</td>\n",
       "      <td>3.844180</td>\n",
       "    </tr>\n",
       "    <tr>\n",
       "      <th>6</th>\n",
       "      <td>AGE</td>\n",
       "      <td>-0.012062</td>\n",
       "    </tr>\n",
       "    <tr>\n",
       "      <th>7</th>\n",
       "      <td>DIS</td>\n",
       "      <td>-1.376263</td>\n",
       "    </tr>\n",
       "    <tr>\n",
       "      <th>8</th>\n",
       "      <td>RAD</td>\n",
       "      <td>0.283925</td>\n",
       "    </tr>\n",
       "    <tr>\n",
       "      <th>9</th>\n",
       "      <td>TAX</td>\n",
       "      <td>-0.014064</td>\n",
       "    </tr>\n",
       "    <tr>\n",
       "      <th>10</th>\n",
       "      <td>PTRATIO</td>\n",
       "      <td>-0.918566</td>\n",
       "    </tr>\n",
       "    <tr>\n",
       "      <th>11</th>\n",
       "      <td>B</td>\n",
       "      <td>0.010578</td>\n",
       "    </tr>\n",
       "    <tr>\n",
       "      <th>12</th>\n",
       "      <td>LSTAT</td>\n",
       "      <td>-0.437960</td>\n",
       "    </tr>\n",
       "  </tbody>\n",
       "</table>\n",
       "</div>"
      ],
      "text/plain": [
       "   features       Coef\n",
       "0      CRIM  -0.076918\n",
       "1        ZN   0.039553\n",
       "2     INDUS  -0.006099\n",
       "3      CHAS   2.630350\n",
       "4       NOX -13.141618\n",
       "5        RM   3.844180\n",
       "6       AGE  -0.012062\n",
       "7       DIS  -1.376263\n",
       "8       RAD   0.283925\n",
       "9       TAX  -0.014064\n",
       "10  PTRATIO  -0.918566\n",
       "11        B   0.010578\n",
       "12    LSTAT  -0.437960"
      ]
     },
     "execution_count": 24,
     "metadata": {},
     "output_type": "execute_result"
    }
   ],
   "source": [
    "# To display coefficients\n",
    "lr_coef = pd.DataFrame()\n",
    "lr_coef['features'] = X.columns\n",
    "lr_coef['Coef'] = lr.coef_\n",
    "lr_coef"
   ]
  },
  {
   "cell_type": "code",
   "execution_count": 25,
   "id": "82752f8a",
   "metadata": {
    "scrolled": true
   },
   "outputs": [
    {
     "data": {
      "text/plain": [
       "array([34.01651319, 31.05189517, 22.33884524, 18.0838353 , 20.56688064,\n",
       "       25.98808555, 26.01540609, 23.82611577, 22.21599346, 19.28360875,\n",
       "       26.66123555, 16.98260577, 20.99150244, 15.24603617, 41.09899335,\n",
       "       20.25245593, 28.49362648, 19.02746332, 32.1219971 , 40.55013347,\n",
       "       34.85510783, 16.62558247, 20.26594393, 17.78965573, 13.61712506,\n",
       "       12.31506816, 27.30863471, 20.08837791, 18.3960775 , 20.36652738,\n",
       "       15.63267698, 24.40174268, 38.95380335, 24.82674   , 31.67752332,\n",
       "       28.52641185, 14.69895345, 14.24630553, 16.49088419, 23.30593651,\n",
       "       23.14883147, 23.67414203, 13.62859392, 21.35912779, 31.4375316 ,\n",
       "       26.93449598, 19.05250575, 16.18779463, 16.95967267, 12.540738  ,\n",
       "       21.69054323, 20.12269149, 23.8317502 , 24.2081579 , 11.78551306,\n",
       "       14.84388066, 25.02378959, 33.63041801, 10.04068529, 21.02680054,\n",
       "       17.26643982, 19.29350402, 18.0135788 , 30.0595925 , 21.27173516,\n",
       "       25.42909898, 15.88028621, 25.28296871, 22.47917188, 20.74200168,\n",
       "       18.69920794, 24.16662272,  4.47298602, 16.46083658, 28.38288604,\n",
       "        9.32903069, 25.14514574, 35.03923207, 11.97230524, 26.9903998 ,\n",
       "       34.80131719, 40.61070638, 14.41894277, 15.53885998, 19.21067067,\n",
       "       13.20726453, 21.5735038 , 23.67325001, 13.01665932, 15.22921021,\n",
       "       31.60125765, 23.15420851, 24.81236669, 23.60026163, 19.93764434,\n",
       "       23.08981003, 22.13846627, 35.93054073, 18.00601121, 21.83893329,\n",
       "       14.18633631, 14.20752574, 17.14046366, 26.64719616, 31.96636677,\n",
       "       16.16760119, 24.4919995 , 16.28642362,  3.85814826, 22.82914713,\n",
       "       23.9152553 , 34.97406669, 30.88505374, 13.62646464, 25.20873551,\n",
       "       16.70706275, 30.64749842, 18.38746783, 24.85385972,  9.11010645,\n",
       "       17.62371827, 19.90543631, 20.30644881, 24.75385689, 21.08370839,\n",
       "       16.37129835, 20.65538736, 18.38378175, 21.12693135, 21.70884544,\n",
       "       27.98253989, 18.61602372, 28.07543413, 19.66097132, 29.2203882 ,\n",
       "       40.03523141, 17.97290717, 26.81782864, 21.23826563, 24.61358009,\n",
       "       14.75172948,  7.95461968, 14.19910042, 28.22738913, 29.67140558,\n",
       "       17.88651441, 23.67516524, 28.21433446, 20.69275309, 30.96197814,\n",
       "       18.15931154, 39.67376823])"
      ]
     },
     "execution_count": 25,
     "metadata": {},
     "output_type": "execute_result"
    }
   ],
   "source": [
    "y_pred = lr.predict(X_test)\n",
    "y_pred"
   ]
  },
  {
   "cell_type": "code",
   "execution_count": 26,
   "id": "2ed1eb79",
   "metadata": {},
   "outputs": [
    {
     "name": "stdout",
     "output_type": "stream",
     "text": [
      "Performance evalution using TEST data\n",
      "R2 is 0.7057919873264535\n",
      "MSE is 29.79884430147887\n",
      "RMSE is 5.458831770761842\n",
      "MAE is 3.471947848270163\n",
      "MAPE is 17.09035158870144\n"
     ]
    }
   ],
   "source": [
    "r2 = metrics.r2_score(y_test,y_pred)   #(Actual,predicted)\n",
    "mse = metrics.mean_squared_error(y_test,y_pred)\n",
    "rmse = np.sqrt(mse)\n",
    "mae = metrics.mean_absolute_error(y_test,y_pred)\n",
    "mape = metrics.mean_absolute_percentage_error(y_test,y_pred)\n",
    "\n",
    "print(\"Performance evalution using TEST data\")\n",
    "print(\"R2 is\",r2)\n",
    "print(\"MSE is\",mse)\n",
    "print(\"RMSE is\",rmse)\n",
    "print(\"MAE is\",mae)\n",
    "print(\"MAPE is\",mape*100)"
   ]
  },
  {
   "cell_type": "code",
   "execution_count": 27,
   "id": "af0e42e4",
   "metadata": {},
   "outputs": [
    {
     "name": "stdout",
     "output_type": "stream",
     "text": [
      "Performance evalution using Training data\n",
      "R2 is 0.752890983596846\n",
      "MSE is 19.06739115538505\n",
      "RMSE is 4.366622396702633\n",
      "MAE is 3.1273498053306565\n",
      "MAPE is 15.69169678601373\n"
     ]
    }
   ],
   "source": [
    "y_pred = lr.predict(X_train)\n",
    "r2 = metrics.r2_score(y_train,y_pred)   #(Actual,predicted)\n",
    "mse = metrics.mean_squared_error(y_train,y_pred)\n",
    "rmse = np.sqrt(mse)\n",
    "mae = metrics.mean_absolute_error(y_train,y_pred)\n",
    "mape = metrics.mean_absolute_percentage_error(y_train,y_pred)\n",
    "\n",
    "print(\"Performance evalution using Training data\")\n",
    "print(\"R2 is\",r2)\n",
    "print(\"MSE is\",mse)\n",
    "print(\"RMSE is\",rmse)\n",
    "print(\"MAE is\",mae)\n",
    "print(\"MAPE is\",mape*100)\n"
   ]
  },
  {
   "cell_type": "code",
   "execution_count": 28,
   "id": "928a4c54",
   "metadata": {},
   "outputs": [
    {
     "data": {
      "text/plain": [
       "0.7057919873264535"
      ]
     },
     "execution_count": 28,
     "metadata": {},
     "output_type": "execute_result"
    }
   ],
   "source": [
    "# Another way to get R2 in sklearn\n",
    "\n",
    "lr.score(X_test,y_test)\n",
    "#Step1: Perform prediction\n",
    "#Step2: Calculate R2 score by passing Actual and PREDICTION\n",
    "\n",
    "# model_name.score give default scoring \n",
    "#for regression default scoring is R2\n",
    "#for classification default scoring is Accuracy Score"
   ]
  },
  {
   "cell_type": "markdown",
   "id": "01f2faf4",
   "metadata": {},
   "source": [
    "# Cross Validation"
   ]
  },
  {
   "cell_type": "code",
   "execution_count": 29,
   "id": "e49cb909",
   "metadata": {},
   "outputs": [],
   "source": [
    "from sklearn.model_selection import KFold"
   ]
  },
  {
   "cell_type": "code",
   "execution_count": 30,
   "id": "56c66f28",
   "metadata": {},
   "outputs": [
    {
     "data": {
      "text/plain": [
       "[(array([2, 3, 4, 5, 6, 7, 8, 9]), array([0, 1])),\n",
       " (array([0, 1, 4, 5, 6, 7, 8, 9]), array([2, 3])),\n",
       " (array([0, 1, 2, 3, 6, 7, 8, 9]), array([4, 5])),\n",
       " (array([0, 1, 2, 3, 4, 5, 8, 9]), array([6, 7])),\n",
       " (array([0, 1, 2, 3, 4, 5, 6, 7]), array([8, 9]))]"
      ]
     },
     "execution_count": 30,
     "metadata": {},
     "output_type": "execute_result"
    }
   ],
   "source": [
    "# To understand how \"K - Fold\" data split works\n",
    "# (to understand internal working of K-fold cross validation)\n",
    "\n",
    "temp_data = [20,21,22,23,24,25,26,27,28,29]\n",
    "kf = KFold(n_splits=5)\n",
    "list(kf.split(temp_data) )"
   ]
  },
  {
   "cell_type": "code",
   "execution_count": 31,
   "id": "1c3f8860",
   "metadata": {},
   "outputs": [
    {
     "name": "stdout",
     "output_type": "stream",
     "text": [
      "R2 score  0.6263959630028749\n",
      "R2 score  0.7269446473113101\n",
      "R2 score  0.8244938890651432\n",
      "R2 score  0.7328369559586229\n",
      "R2 score  0.6687112545444379\n"
     ]
    }
   ],
   "source": [
    "# Perform k-fold cross validation using manually coding \n",
    "kf = KFold(n_splits=5)\n",
    "\n",
    "# Note: In the below code 'test' is Validation. \n",
    "for train_index, test_index in kf.split(X_train, y_train):   # For each split perform the loop \n",
    "    X_train_k = X_train.iloc[train_index]  # using Train index, select the training records (80% data) from X_train\n",
    "    X_test_k  = X_train.iloc[test_index]   # using Train index, select the Validation records (20% data) from X_train\n",
    "    \n",
    "    y_train_k = y_train.iloc[train_index] # Similarly, select 80% y_train\n",
    "    y_test_k  = y_train.iloc[test_index]  # Similarly, select 20% y_test\n",
    "    \n",
    "    lr_k = LinearRegression()\n",
    "    lr_k.fit(X_train_k, y_train_k)\n",
    "    y_pred_k = lr_k.predict(X_test_k)\n",
    "    r2_score_K = metrics.r2_score(y_test_k, y_pred_k)\n",
    "    print('R2 score ', r2_score_K )"
   ]
  },
  {
   "cell_type": "code",
   "execution_count": 32,
   "id": "ad9a530a",
   "metadata": {},
   "outputs": [
    {
     "name": "stdout",
     "output_type": "stream",
     "text": [
      "Cross-validated scores: [0.62639596 0.72694465 0.82449389 0.73283696 0.66871125]\n",
      "Average score: 0.7158765419764779\n"
     ]
    }
   ],
   "source": [
    "# Using cross_val_score funtion to perform kfold\n",
    "\n",
    "from sklearn.model_selection import cross_val_score\n",
    "\n",
    "score = cross_val_score(lr,X_train,y_train,cv=5,scoring='r2')\n",
    "print(\"Cross-validated scores:\",score)\n",
    "print(\"Average score:\",np.average(score))"
   ]
  },
  {
   "cell_type": "code",
   "execution_count": 33,
   "id": "f1c967e8",
   "metadata": {},
   "outputs": [
    {
     "data": {
      "text/plain": [
       "0.7057919873264535"
      ]
     },
     "execution_count": 33,
     "metadata": {},
     "output_type": "execute_result"
    }
   ],
   "source": [
    "lr.fit(X_train,y_train)\n",
    "\n",
    "lr.score(X_test,y_test)"
   ]
  },
  {
   "cell_type": "markdown",
   "id": "7de4a269",
   "metadata": {},
   "source": [
    "# LOOCV"
   ]
  },
  {
   "cell_type": "code",
   "execution_count": 34,
   "id": "44f82f6b",
   "metadata": {},
   "outputs": [],
   "source": [
    "from sklearn.model_selection import LeaveOneOut"
   ]
  },
  {
   "cell_type": "code",
   "execution_count": 35,
   "id": "5831cb1b",
   "metadata": {},
   "outputs": [],
   "source": [
    "loocv = LeaveOneOut()\n",
    "\n",
    "rmse_loocv = []\n",
    "\n",
    "for train_index, test_index in loocv.split(X_train, y_train):   # For each split perform the loop \n",
    "    X_train_k = X_train.iloc[train_index]  # using Train index, select the training records (80% data) from X_train\n",
    "    X_test_k  = X_train.iloc[test_index]   # using Train index, select the Validation records (20% data) from X_train\n",
    "    \n",
    "    y_train_k = y_train.iloc[train_index] # Similarly, select 80% y_train\n",
    "    y_test_k  = y_train.iloc[test_index]  # Similarly, select 20% y_test\n",
    "    \n",
    "    lr_k = LinearRegression()\n",
    "    lr_k.fit(X_train_k, y_train_k)\n",
    "    y_pred_k = lr_k.predict(X_test_k)\n",
    "    rmse_K = np.sqrt(metrics.mean_squared_error(y_test_k, y_pred_k))\n",
    "    rmse_loocv.append(rmse_K)"
   ]
  },
  {
   "cell_type": "code",
   "execution_count": 36,
   "id": "2f417aeb",
   "metadata": {},
   "outputs": [
    {
     "name": "stdout",
     "output_type": "stream",
     "text": [
      "[1.6807157524206673, 2.1388933273785824, 4.264691739938927, 5.769632824475728, 1.0694538297128275, 5.953962797805389, 3.8615356452915215, 0.1765062069879555, 1.5826031308404325, 0.09211104521808622, 2.068571796811149, 3.6591334142211416, 9.972600831049064, 3.5883807805304038, 7.236475115030004, 2.2523801917180712, 4.349711157190313, 1.0718007208568388, 0.7356827961499839, 5.22672901335509, 2.86082819937112, 1.2484236020445039, 0.11020983085386504, 1.832858363578758, 3.796355128847061, 2.114669746514547, 2.406300934282079, 3.20814399773127, 6.89720967722964, 0.4807499197400382, 1.6945131301238874, 6.109262100356833, 1.9752748694754487, 0.37818619404526643, 0.8757945931065905, 3.7058174069928818, 4.744185439836883, 2.4071045294768467, 2.3928821006306364, 3.0857885358783115, 12.172209209997757, 2.435455545156664, 0.8979615874352795, 2.5566877823555867, 4.152164600015778, 7.498105116815935, 18.591573114884575, 2.417213464190148, 2.7253876366459835, 4.48130314098443, 0.40703452269515594, 4.900366930279848, 4.036154585456945, 1.0447324796762203, 0.4026583573588063, 3.507191240941184, 0.6836233902417241, 1.1570054836563202, 4.49958965344587, 3.6375309445542, 1.0502467347413287, 2.589005037811976, 0.6762828062237478, 0.10494545801998179, 5.131443100647296, 2.0016021477390815, 1.3262058807286579, 4.0220531337214, 10.58478877629131, 1.5617818468594251, 0.7976326604827761, 6.611334818888405, 9.056624001803325, 5.071091727694785, 15.479817548601488, 0.6441739708434682, 0.55356299520475, 3.109626022134627, 0.8326724513321757, 1.2640961410831295, 1.2470128658166573, 15.193285398330314, 3.5147406432289046, 3.565794464835683, 4.344432648634138, 0.8327629712888651, 1.406739226081939, 4.863069014307637, 3.6683704745901995, 0.08829585429885611, 7.5762801410318446, 0.14461626424337837, 0.39912994734943297, 2.507842417714887, 12.224016479933653, 4.823911901284646, 2.050669242280158, 1.7532527175858448, 4.661897995405049, 6.873307549137227, 5.788215140423265, 6.3758018558661576, 0.20340126218211196, 0.38740082789160013, 3.5855987272444736, 8.37118339098302, 0.6102823141497566, 0.7971011997767832, 3.5775127249130225, 6.307959375627865, 10.411524184666845, 2.175072916159806, 5.3900890335594305, 5.3427771150988015, 3.223600271451044, 3.503807495848804, 0.17100945845082904, 0.5615238496169006, 0.2134485348096007, 4.844370945943414, 0.3850428026669164, 1.9508182960861369, 1.0942617681098952, 0.9716024807794739, 4.704264964296495, 1.6308836940195057, 2.7589864122292163, 1.3091962462979296, 0.9183193094332687, 12.004620432290032, 4.126373967424229, 0.7328508624934926, 2.796369289716255, 6.907999891466188, 0.11810657319136908, 1.9450687754544838, 0.6555186770957633, 1.8243269110412434, 4.243126755167825, 3.338134447358442, 0.2901682748824399, 1.876188027692848, 0.20869875425854012, 2.1666501657650983, 3.6570762628180056, 2.340053684339777, 2.2295422455517446, 2.234149503599241, 2.2236009545925413, 1.8590492731398633, 4.608672882311964, 3.5888594169387424, 0.9769826163220898, 4.148350690077077, 1.3876364008389395, 2.866402846217742, 4.371319569868197, 0.07850939364907106, 2.036587507599233, 1.4131885342226624, 2.5274301359813833, 1.510392097118082, 1.0758704405990507, 1.2438055059879165, 4.753707549863432, 0.477468001938373, 1.2926671698921695, 7.546821642357237, 2.635703627619396, 3.730142091426778, 7.106563807283267, 0.13559379303363883, 16.845589766317563, 0.46766449706606394, 2.766926582806123, 0.06969825435581178, 1.3305797681124432, 0.8014907903524637, 0.9396208571996034, 0.49326940893635474, 1.915859441272307, 6.597999767089394, 0.8340317211570714, 0.6123652808938456, 2.009921351873256, 2.194604192230983, 3.068933821181666, 0.7336016900688307, 1.1147010716175991, 2.523542748769092, 4.84708872469043, 4.638430465673039, 0.7885886294586619, 2.847485005077562, 0.7374756602159849, 2.209259214117502, 2.0519078070049943, 5.596744587892648, 4.5779346042623175, 0.9428055173446683, 3.0783697732839173, 0.9398442140552064, 0.8538468003858597, 1.9213330503564947, 0.9427664215606839, 6.207808777310593, 0.8616668632937206, 0.30940114261413143, 6.117383058225673, 0.03191571420665795, 2.2496492131317254, 3.8819804296302607, 1.8642743205595238, 6.702220447512332, 2.3311436802172274, 3.745714524893728, 0.950041952374491, 0.3095942614488152, 4.101782362593095, 4.4634726685051085, 0.1805062233832757, 0.42109670774546615, 14.733211100178487, 1.961885526345938, 0.29233856572177075, 0.7895769662465923, 0.5221017222989026, 8.639784022173082, 1.332212974929618, 0.4383257514746397, 13.762202985108019, 1.5749983849483513, 2.0763434019843032, 3.1562580590279516, 2.183348534020265, 2.2221222692525995, 0.11671963977570954, 7.8293475384309446, 0.4112864670077556, 1.4076671418200597, 2.067417975771356, 2.3553040126687854, 1.4890275868798781, 0.6250383226839489, 6.206972140102806, 0.17624758532253537, 3.1354627452036503, 4.864430483922689, 5.700558436460117, 5.929719559437327, 11.676774064184919, 1.363754358866636, 2.2783589979273557, 6.449799264458385, 2.469202292054973, 2.5077312685990627, 5.565695314785643, 2.6578207536007135, 1.1814016650868524, 6.417638848468545, 0.4011243797601729, 0.29828499998309255, 4.225932090433382, 0.7986144899212384, 0.3143444991537354, 1.0928341536807231, 0.5719859612577913, 3.3407909899004125, 4.5783445853422045, 0.10919605096187723, 5.825746134659397, 1.441652883845851, 4.253749099957918, 1.8807136790144199, 0.2992477574117771, 3.4564440877966405, 0.19209022426279532, 0.3599194858084296, 2.2341350613427267, 0.7127328885133863, 1.7475214073162562, 0.006997065022090965, 6.2514428844663215, 1.7542021658973788, 4.298038523599068, 3.2095229636556724, 0.17460266522448364, 2.719215198500745, 16.64968153968519, 1.3113445563915143, 0.7470961531142919, 1.2364963788274288, 10.300966400014865, 20.657303065422976, 4.6466579674267265, 3.711387698200511, 6.682786961286212, 8.598670629169835, 2.2658663784501414, 5.376309302234578, 1.1120980152795141, 7.180878616846581, 4.619853179057493, 1.268132643998662, 0.15332422421647607, 1.4148603474397436, 2.240005233664281, 1.6248256483139905, 0.9305842659534171, 0.7646797336968802, 4.031102303340036, 1.6213311867317302, 0.8659459103427913, 3.3510825985441457, 2.9061150833525264, 5.228649057101276, 8.417840825731613, 3.415267735653792, 1.6927539477877183, 4.832663045525621, 9.61629000990913, 2.122597420035599, 3.1194173764809916, 2.7891867717112824, 16.07701055351378, 5.950834171831437, 3.3445038175272543, 0.11250864281680606, 3.7550814521466194, 2.106912835049016, 7.666609972669145, 1.4047475732393941, 0.37763891673257177, 3.437349795384616, 11.886331826265803, 1.739300394421745, 3.8643983034555163, 5.253063100607751, 4.38395442675079, 1.0993103972747527, 1.0725832004477738, 5.958420878714428, 0.9714777543637183, 4.01061568634357, 5.038004306278074, 2.5988271892439414, 5.231557295693225, 4.356736538385661, 1.8223878234868884, 3.347294386768887, 3.6185628532986343, 1.0084487522205237, 7.591155395088045, 3.997765369256598]\n"
     ]
    }
   ],
   "source": [
    "print(rmse_loocv)"
   ]
  },
  {
   "cell_type": "code",
   "execution_count": 37,
   "id": "ae379722",
   "metadata": {},
   "outputs": [
    {
     "data": {
      "text/plain": [
       "3.285516365789977"
      ]
     },
     "execution_count": 37,
     "metadata": {},
     "output_type": "execute_result"
    }
   ],
   "source": [
    "np.mean(rmse_loocv)"
   ]
  },
  {
   "cell_type": "code",
   "execution_count": null,
   "id": "a215690a",
   "metadata": {},
   "outputs": [],
   "source": []
  },
  {
   "cell_type": "markdown",
   "id": "1122df52",
   "metadata": {},
   "source": [
    "# Feature Selection"
   ]
  },
  {
   "cell_type": "markdown",
   "id": "8c8d0043",
   "metadata": {},
   "source": [
    "### Manual feature selection- backward"
   ]
  },
  {
   "cell_type": "code",
   "execution_count": 38,
   "id": "ae34cb5a",
   "metadata": {},
   "outputs": [
    {
     "data": {
      "text/html": [
       "<table class=\"simpletable\">\n",
       "<caption>OLS Regression Results</caption>\n",
       "<tr>\n",
       "  <th>Dep. Variable:</th>          <td>PRICE</td>      <th>  R-squared:         </th> <td>   0.753</td>\n",
       "</tr>\n",
       "<tr>\n",
       "  <th>Model:</th>                   <td>OLS</td>       <th>  Adj. R-squared:    </th> <td>   0.743</td>\n",
       "</tr>\n",
       "<tr>\n",
       "  <th>Method:</th>             <td>Least Squares</td>  <th>  F-statistic:       </th> <td>   79.69</td>\n",
       "</tr>\n",
       "<tr>\n",
       "  <th>Date:</th>             <td>Tue, 12 Dec 2023</td> <th>  Prob (F-statistic):</th> <td>9.36e-95</td>\n",
       "</tr>\n",
       "<tr>\n",
       "  <th>Time:</th>                 <td>11:10:46</td>     <th>  Log-Likelihood:    </th> <td> -1024.1</td>\n",
       "</tr>\n",
       "<tr>\n",
       "  <th>No. Observations:</th>      <td>   354</td>      <th>  AIC:               </th> <td>   2076.</td>\n",
       "</tr>\n",
       "<tr>\n",
       "  <th>Df Residuals:</th>          <td>   340</td>      <th>  BIC:               </th> <td>   2130.</td>\n",
       "</tr>\n",
       "<tr>\n",
       "  <th>Df Model:</th>              <td>    13</td>      <th>                     </th>     <td> </td>   \n",
       "</tr>\n",
       "<tr>\n",
       "  <th>Covariance Type:</th>      <td>nonrobust</td>    <th>                     </th>     <td> </td>   \n",
       "</tr>\n",
       "</table>\n",
       "<table class=\"simpletable\">\n",
       "<tr>\n",
       "     <td></td>        <th>coef</th>     <th>std err</th>      <th>t</th>      <th>P>|t|</th>  <th>[0.025</th>    <th>0.975]</th>  \n",
       "</tr>\n",
       "<tr>\n",
       "  <th>const</th>   <td>   33.1158</td> <td>    5.641</td> <td>    5.871</td> <td> 0.000</td> <td>   22.021</td> <td>   44.211</td>\n",
       "</tr>\n",
       "<tr>\n",
       "  <th>CRIM</th>    <td>   -0.0769</td> <td>    0.043</td> <td>   -1.797</td> <td> 0.073</td> <td>   -0.161</td> <td>    0.007</td>\n",
       "</tr>\n",
       "<tr>\n",
       "  <th>ZN</th>      <td>    0.0396</td> <td>    0.015</td> <td>    2.618</td> <td> 0.009</td> <td>    0.010</td> <td>    0.069</td>\n",
       "</tr>\n",
       "<tr>\n",
       "  <th>INDUS</th>   <td>   -0.0061</td> <td>    0.071</td> <td>   -0.086</td> <td> 0.932</td> <td>   -0.146</td> <td>    0.134</td>\n",
       "</tr>\n",
       "<tr>\n",
       "  <th>CHAS</th>    <td>    2.6303</td> <td>    0.950</td> <td>    2.769</td> <td> 0.006</td> <td>    0.762</td> <td>    4.499</td>\n",
       "</tr>\n",
       "<tr>\n",
       "  <th>NOX</th>     <td>  -13.1416</td> <td>    4.280</td> <td>   -3.071</td> <td> 0.002</td> <td>  -21.560</td> <td>   -4.724</td>\n",
       "</tr>\n",
       "<tr>\n",
       "  <th>RM</th>      <td>    3.8442</td> <td>    0.462</td> <td>    8.324</td> <td> 0.000</td> <td>    2.936</td> <td>    4.753</td>\n",
       "</tr>\n",
       "<tr>\n",
       "  <th>AGE</th>     <td>   -0.0121</td> <td>    0.015</td> <td>   -0.791</td> <td> 0.430</td> <td>   -0.042</td> <td>    0.018</td>\n",
       "</tr>\n",
       "<tr>\n",
       "  <th>DIS</th>     <td>   -1.3763</td> <td>    0.226</td> <td>   -6.087</td> <td> 0.000</td> <td>   -1.821</td> <td>   -0.932</td>\n",
       "</tr>\n",
       "<tr>\n",
       "  <th>RAD</th>     <td>    0.2839</td> <td>    0.077</td> <td>    3.689</td> <td> 0.000</td> <td>    0.133</td> <td>    0.435</td>\n",
       "</tr>\n",
       "<tr>\n",
       "  <th>TAX</th>     <td>   -0.0141</td> <td>    0.004</td> <td>   -3.222</td> <td> 0.001</td> <td>   -0.023</td> <td>   -0.005</td>\n",
       "</tr>\n",
       "<tr>\n",
       "  <th>PTRATIO</th> <td>   -0.9186</td> <td>    0.148</td> <td>   -6.228</td> <td> 0.000</td> <td>   -1.209</td> <td>   -0.628</td>\n",
       "</tr>\n",
       "<tr>\n",
       "  <th>B</th>       <td>    0.0106</td> <td>    0.003</td> <td>    3.464</td> <td> 0.001</td> <td>    0.005</td> <td>    0.017</td>\n",
       "</tr>\n",
       "<tr>\n",
       "  <th>LSTAT</th>   <td>   -0.4380</td> <td>    0.056</td> <td>   -7.754</td> <td> 0.000</td> <td>   -0.549</td> <td>   -0.327</td>\n",
       "</tr>\n",
       "</table>\n",
       "<table class=\"simpletable\">\n",
       "<tr>\n",
       "  <th>Omnibus:</th>       <td>82.206</td> <th>  Durbin-Watson:     </th> <td>   2.016</td>\n",
       "</tr>\n",
       "<tr>\n",
       "  <th>Prob(Omnibus):</th> <td> 0.000</td> <th>  Jarque-Bera (JB):  </th> <td> 191.820</td>\n",
       "</tr>\n",
       "<tr>\n",
       "  <th>Skew:</th>          <td> 1.147</td> <th>  Prob(JB):          </th> <td>2.22e-42</td>\n",
       "</tr>\n",
       "<tr>\n",
       "  <th>Kurtosis:</th>      <td> 5.782</td> <th>  Cond. No.          </th> <td>1.48e+04</td>\n",
       "</tr>\n",
       "</table><br/><br/>Notes:<br/>[1] Standard Errors assume that the covariance matrix of the errors is correctly specified.<br/>[2] The condition number is large, 1.48e+04. This might indicate that there are<br/>strong multicollinearity or other numerical problems."
      ],
      "text/latex": [
       "\\begin{center}\n",
       "\\begin{tabular}{lclc}\n",
       "\\toprule\n",
       "\\textbf{Dep. Variable:}    &      PRICE       & \\textbf{  R-squared:         } &     0.753   \\\\\n",
       "\\textbf{Model:}            &       OLS        & \\textbf{  Adj. R-squared:    } &     0.743   \\\\\n",
       "\\textbf{Method:}           &  Least Squares   & \\textbf{  F-statistic:       } &     79.69   \\\\\n",
       "\\textbf{Date:}             & Tue, 12 Dec 2023 & \\textbf{  Prob (F-statistic):} &  9.36e-95   \\\\\n",
       "\\textbf{Time:}             &     11:10:46     & \\textbf{  Log-Likelihood:    } &   -1024.1   \\\\\n",
       "\\textbf{No. Observations:} &         354      & \\textbf{  AIC:               } &     2076.   \\\\\n",
       "\\textbf{Df Residuals:}     &         340      & \\textbf{  BIC:               } &     2130.   \\\\\n",
       "\\textbf{Df Model:}         &          13      & \\textbf{                     } &             \\\\\n",
       "\\textbf{Covariance Type:}  &    nonrobust     & \\textbf{                     } &             \\\\\n",
       "\\bottomrule\n",
       "\\end{tabular}\n",
       "\\begin{tabular}{lcccccc}\n",
       "                 & \\textbf{coef} & \\textbf{std err} & \\textbf{t} & \\textbf{P$> |$t$|$} & \\textbf{[0.025} & \\textbf{0.975]}  \\\\\n",
       "\\midrule\n",
       "\\textbf{const}   &      33.1158  &        5.641     &     5.871  &         0.000        &       22.021    &       44.211     \\\\\n",
       "\\textbf{CRIM}    &      -0.0769  &        0.043     &    -1.797  &         0.073        &       -0.161    &        0.007     \\\\\n",
       "\\textbf{ZN}      &       0.0396  &        0.015     &     2.618  &         0.009        &        0.010    &        0.069     \\\\\n",
       "\\textbf{INDUS}   &      -0.0061  &        0.071     &    -0.086  &         0.932        &       -0.146    &        0.134     \\\\\n",
       "\\textbf{CHAS}    &       2.6303  &        0.950     &     2.769  &         0.006        &        0.762    &        4.499     \\\\\n",
       "\\textbf{NOX}     &     -13.1416  &        4.280     &    -3.071  &         0.002        &      -21.560    &       -4.724     \\\\\n",
       "\\textbf{RM}      &       3.8442  &        0.462     &     8.324  &         0.000        &        2.936    &        4.753     \\\\\n",
       "\\textbf{AGE}     &      -0.0121  &        0.015     &    -0.791  &         0.430        &       -0.042    &        0.018     \\\\\n",
       "\\textbf{DIS}     &      -1.3763  &        0.226     &    -6.087  &         0.000        &       -1.821    &       -0.932     \\\\\n",
       "\\textbf{RAD}     &       0.2839  &        0.077     &     3.689  &         0.000        &        0.133    &        0.435     \\\\\n",
       "\\textbf{TAX}     &      -0.0141  &        0.004     &    -3.222  &         0.001        &       -0.023    &       -0.005     \\\\\n",
       "\\textbf{PTRATIO} &      -0.9186  &        0.148     &    -6.228  &         0.000        &       -1.209    &       -0.628     \\\\\n",
       "\\textbf{B}       &       0.0106  &        0.003     &     3.464  &         0.001        &        0.005    &        0.017     \\\\\n",
       "\\textbf{LSTAT}   &      -0.4380  &        0.056     &    -7.754  &         0.000        &       -0.549    &       -0.327     \\\\\n",
       "\\bottomrule\n",
       "\\end{tabular}\n",
       "\\begin{tabular}{lclc}\n",
       "\\textbf{Omnibus:}       & 82.206 & \\textbf{  Durbin-Watson:     } &    2.016  \\\\\n",
       "\\textbf{Prob(Omnibus):} &  0.000 & \\textbf{  Jarque-Bera (JB):  } &  191.820  \\\\\n",
       "\\textbf{Skew:}          &  1.147 & \\textbf{  Prob(JB):          } & 2.22e-42  \\\\\n",
       "\\textbf{Kurtosis:}      &  5.782 & \\textbf{  Cond. No.          } & 1.48e+04  \\\\\n",
       "\\bottomrule\n",
       "\\end{tabular}\n",
       "%\\caption{OLS Regression Results}\n",
       "\\end{center}\n",
       "\n",
       "Notes: \\newline\n",
       " [1] Standard Errors assume that the covariance matrix of the errors is correctly specified. \\newline\n",
       " [2] The condition number is large, 1.48e+04. This might indicate that there are \\newline\n",
       " strong multicollinearity or other numerical problems."
      ],
      "text/plain": [
       "<class 'statsmodels.iolib.summary.Summary'>\n",
       "\"\"\"\n",
       "                            OLS Regression Results                            \n",
       "==============================================================================\n",
       "Dep. Variable:                  PRICE   R-squared:                       0.753\n",
       "Model:                            OLS   Adj. R-squared:                  0.743\n",
       "Method:                 Least Squares   F-statistic:                     79.69\n",
       "Date:                Tue, 12 Dec 2023   Prob (F-statistic):           9.36e-95\n",
       "Time:                        11:10:46   Log-Likelihood:                -1024.1\n",
       "No. Observations:                 354   AIC:                             2076.\n",
       "Df Residuals:                     340   BIC:                             2130.\n",
       "Df Model:                          13                                         \n",
       "Covariance Type:            nonrobust                                         \n",
       "==============================================================================\n",
       "                 coef    std err          t      P>|t|      [0.025      0.975]\n",
       "------------------------------------------------------------------------------\n",
       "const         33.1158      5.641      5.871      0.000      22.021      44.211\n",
       "CRIM          -0.0769      0.043     -1.797      0.073      -0.161       0.007\n",
       "ZN             0.0396      0.015      2.618      0.009       0.010       0.069\n",
       "INDUS         -0.0061      0.071     -0.086      0.932      -0.146       0.134\n",
       "CHAS           2.6303      0.950      2.769      0.006       0.762       4.499\n",
       "NOX          -13.1416      4.280     -3.071      0.002     -21.560      -4.724\n",
       "RM             3.8442      0.462      8.324      0.000       2.936       4.753\n",
       "AGE           -0.0121      0.015     -0.791      0.430      -0.042       0.018\n",
       "DIS           -1.3763      0.226     -6.087      0.000      -1.821      -0.932\n",
       "RAD            0.2839      0.077      3.689      0.000       0.133       0.435\n",
       "TAX           -0.0141      0.004     -3.222      0.001      -0.023      -0.005\n",
       "PTRATIO       -0.9186      0.148     -6.228      0.000      -1.209      -0.628\n",
       "B              0.0106      0.003      3.464      0.001       0.005       0.017\n",
       "LSTAT         -0.4380      0.056     -7.754      0.000      -0.549      -0.327\n",
       "==============================================================================\n",
       "Omnibus:                       82.206   Durbin-Watson:                   2.016\n",
       "Prob(Omnibus):                  0.000   Jarque-Bera (JB):              191.820\n",
       "Skew:                           1.147   Prob(JB):                     2.22e-42\n",
       "Kurtosis:                       5.782   Cond. No.                     1.48e+04\n",
       "==============================================================================\n",
       "\n",
       "Notes:\n",
       "[1] Standard Errors assume that the covariance matrix of the errors is correctly specified.\n",
       "[2] The condition number is large, 1.48e+04. This might indicate that there are\n",
       "strong multicollinearity or other numerical problems.\n",
       "\"\"\""
      ]
     },
     "execution_count": 38,
     "metadata": {},
     "output_type": "execute_result"
    }
   ],
   "source": [
    "ols_model = sm.OLS(y_train, X_train_c).fit()\n",
    "ols_model.summary()"
   ]
  },
  {
   "cell_type": "code",
   "execution_count": 39,
   "id": "d59d0456",
   "metadata": {},
   "outputs": [],
   "source": [
    "X_train_c1 = X_train_c.drop('INDUS', axis=1)"
   ]
  },
  {
   "cell_type": "code",
   "execution_count": 40,
   "id": "6e16950f",
   "metadata": {},
   "outputs": [
    {
     "data": {
      "text/html": [
       "<table class=\"simpletable\">\n",
       "<caption>OLS Regression Results</caption>\n",
       "<tr>\n",
       "  <th>Dep. Variable:</th>          <td>PRICE</td>      <th>  R-squared:         </th> <td>   0.753</td>\n",
       "</tr>\n",
       "<tr>\n",
       "  <th>Model:</th>                   <td>OLS</td>       <th>  Adj. R-squared:    </th> <td>   0.744</td>\n",
       "</tr>\n",
       "<tr>\n",
       "  <th>Method:</th>             <td>Least Squares</td>  <th>  F-statistic:       </th> <td>   86.58</td>\n",
       "</tr>\n",
       "<tr>\n",
       "  <th>Date:</th>             <td>Tue, 12 Dec 2023</td> <th>  Prob (F-statistic):</th> <td>9.87e-96</td>\n",
       "</tr>\n",
       "<tr>\n",
       "  <th>Time:</th>                 <td>11:10:46</td>     <th>  Log-Likelihood:    </th> <td> -1024.1</td>\n",
       "</tr>\n",
       "<tr>\n",
       "  <th>No. Observations:</th>      <td>   354</td>      <th>  AIC:               </th> <td>   2074.</td>\n",
       "</tr>\n",
       "<tr>\n",
       "  <th>Df Residuals:</th>          <td>   341</td>      <th>  BIC:               </th> <td>   2125.</td>\n",
       "</tr>\n",
       "<tr>\n",
       "  <th>Df Model:</th>              <td>    12</td>      <th>                     </th>     <td> </td>   \n",
       "</tr>\n",
       "<tr>\n",
       "  <th>Covariance Type:</th>      <td>nonrobust</td>    <th>                     </th>     <td> </td>   \n",
       "</tr>\n",
       "</table>\n",
       "<table class=\"simpletable\">\n",
       "<tr>\n",
       "     <td></td>        <th>coef</th>     <th>std err</th>      <th>t</th>      <th>P>|t|</th>  <th>[0.025</th>    <th>0.975]</th>  \n",
       "</tr>\n",
       "<tr>\n",
       "  <th>const</th>   <td>   33.1485</td> <td>    5.619</td> <td>    5.899</td> <td> 0.000</td> <td>   22.095</td> <td>   44.202</td>\n",
       "</tr>\n",
       "<tr>\n",
       "  <th>CRIM</th>    <td>   -0.0767</td> <td>    0.043</td> <td>   -1.798</td> <td> 0.073</td> <td>   -0.160</td> <td>    0.007</td>\n",
       "</tr>\n",
       "<tr>\n",
       "  <th>ZN</th>      <td>    0.0397</td> <td>    0.015</td> <td>    2.649</td> <td> 0.008</td> <td>    0.010</td> <td>    0.069</td>\n",
       "</tr>\n",
       "<tr>\n",
       "  <th>CHAS</th>    <td>    2.6230</td> <td>    0.945</td> <td>    2.776</td> <td> 0.006</td> <td>    0.765</td> <td>    4.481</td>\n",
       "</tr>\n",
       "<tr>\n",
       "  <th>NOX</th>     <td>  -13.2319</td> <td>    4.142</td> <td>   -3.194</td> <td> 0.002</td> <td>  -21.380</td> <td>   -5.084</td>\n",
       "</tr>\n",
       "<tr>\n",
       "  <th>RM</th>      <td>    3.8473</td> <td>    0.460</td> <td>    8.368</td> <td> 0.000</td> <td>    2.943</td> <td>    4.752</td>\n",
       "</tr>\n",
       "<tr>\n",
       "  <th>AGE</th>     <td>   -0.0120</td> <td>    0.015</td> <td>   -0.789</td> <td> 0.431</td> <td>   -0.042</td> <td>    0.018</td>\n",
       "</tr>\n",
       "<tr>\n",
       "  <th>DIS</th>     <td>   -1.3718</td> <td>    0.220</td> <td>   -6.246</td> <td> 0.000</td> <td>   -1.804</td> <td>   -0.940</td>\n",
       "</tr>\n",
       "<tr>\n",
       "  <th>RAD</th>     <td>    0.2859</td> <td>    0.073</td> <td>    3.891</td> <td> 0.000</td> <td>    0.141</td> <td>    0.430</td>\n",
       "</tr>\n",
       "<tr>\n",
       "  <th>TAX</th>     <td>   -0.0142</td> <td>    0.004</td> <td>   -3.696</td> <td> 0.000</td> <td>   -0.022</td> <td>   -0.007</td>\n",
       "</tr>\n",
       "<tr>\n",
       "  <th>PTRATIO</th> <td>   -0.9205</td> <td>    0.146</td> <td>   -6.320</td> <td> 0.000</td> <td>   -1.207</td> <td>   -0.634</td>\n",
       "</tr>\n",
       "<tr>\n",
       "  <th>B</th>       <td>    0.0106</td> <td>    0.003</td> <td>    3.474</td> <td> 0.001</td> <td>    0.005</td> <td>    0.017</td>\n",
       "</tr>\n",
       "<tr>\n",
       "  <th>LSTAT</th>   <td>   -0.4386</td> <td>    0.056</td> <td>   -7.841</td> <td> 0.000</td> <td>   -0.549</td> <td>   -0.329</td>\n",
       "</tr>\n",
       "</table>\n",
       "<table class=\"simpletable\">\n",
       "<tr>\n",
       "  <th>Omnibus:</th>       <td>82.142</td> <th>  Durbin-Watson:     </th> <td>   2.017</td>\n",
       "</tr>\n",
       "<tr>\n",
       "  <th>Prob(Omnibus):</th> <td> 0.000</td> <th>  Jarque-Bera (JB):  </th> <td> 191.396</td>\n",
       "</tr>\n",
       "<tr>\n",
       "  <th>Skew:</th>          <td> 1.147</td> <th>  Prob(JB):          </th> <td>2.75e-42</td>\n",
       "</tr>\n",
       "<tr>\n",
       "  <th>Kurtosis:</th>      <td> 5.778</td> <th>  Cond. No.          </th> <td>1.47e+04</td>\n",
       "</tr>\n",
       "</table><br/><br/>Notes:<br/>[1] Standard Errors assume that the covariance matrix of the errors is correctly specified.<br/>[2] The condition number is large, 1.47e+04. This might indicate that there are<br/>strong multicollinearity or other numerical problems."
      ],
      "text/latex": [
       "\\begin{center}\n",
       "\\begin{tabular}{lclc}\n",
       "\\toprule\n",
       "\\textbf{Dep. Variable:}    &      PRICE       & \\textbf{  R-squared:         } &     0.753   \\\\\n",
       "\\textbf{Model:}            &       OLS        & \\textbf{  Adj. R-squared:    } &     0.744   \\\\\n",
       "\\textbf{Method:}           &  Least Squares   & \\textbf{  F-statistic:       } &     86.58   \\\\\n",
       "\\textbf{Date:}             & Tue, 12 Dec 2023 & \\textbf{  Prob (F-statistic):} &  9.87e-96   \\\\\n",
       "\\textbf{Time:}             &     11:10:46     & \\textbf{  Log-Likelihood:    } &   -1024.1   \\\\\n",
       "\\textbf{No. Observations:} &         354      & \\textbf{  AIC:               } &     2074.   \\\\\n",
       "\\textbf{Df Residuals:}     &         341      & \\textbf{  BIC:               } &     2125.   \\\\\n",
       "\\textbf{Df Model:}         &          12      & \\textbf{                     } &             \\\\\n",
       "\\textbf{Covariance Type:}  &    nonrobust     & \\textbf{                     } &             \\\\\n",
       "\\bottomrule\n",
       "\\end{tabular}\n",
       "\\begin{tabular}{lcccccc}\n",
       "                 & \\textbf{coef} & \\textbf{std err} & \\textbf{t} & \\textbf{P$> |$t$|$} & \\textbf{[0.025} & \\textbf{0.975]}  \\\\\n",
       "\\midrule\n",
       "\\textbf{const}   &      33.1485  &        5.619     &     5.899  &         0.000        &       22.095    &       44.202     \\\\\n",
       "\\textbf{CRIM}    &      -0.0767  &        0.043     &    -1.798  &         0.073        &       -0.160    &        0.007     \\\\\n",
       "\\textbf{ZN}      &       0.0397  &        0.015     &     2.649  &         0.008        &        0.010    &        0.069     \\\\\n",
       "\\textbf{CHAS}    &       2.6230  &        0.945     &     2.776  &         0.006        &        0.765    &        4.481     \\\\\n",
       "\\textbf{NOX}     &     -13.2319  &        4.142     &    -3.194  &         0.002        &      -21.380    &       -5.084     \\\\\n",
       "\\textbf{RM}      &       3.8473  &        0.460     &     8.368  &         0.000        &        2.943    &        4.752     \\\\\n",
       "\\textbf{AGE}     &      -0.0120  &        0.015     &    -0.789  &         0.431        &       -0.042    &        0.018     \\\\\n",
       "\\textbf{DIS}     &      -1.3718  &        0.220     &    -6.246  &         0.000        &       -1.804    &       -0.940     \\\\\n",
       "\\textbf{RAD}     &       0.2859  &        0.073     &     3.891  &         0.000        &        0.141    &        0.430     \\\\\n",
       "\\textbf{TAX}     &      -0.0142  &        0.004     &    -3.696  &         0.000        &       -0.022    &       -0.007     \\\\\n",
       "\\textbf{PTRATIO} &      -0.9205  &        0.146     &    -6.320  &         0.000        &       -1.207    &       -0.634     \\\\\n",
       "\\textbf{B}       &       0.0106  &        0.003     &     3.474  &         0.001        &        0.005    &        0.017     \\\\\n",
       "\\textbf{LSTAT}   &      -0.4386  &        0.056     &    -7.841  &         0.000        &       -0.549    &       -0.329     \\\\\n",
       "\\bottomrule\n",
       "\\end{tabular}\n",
       "\\begin{tabular}{lclc}\n",
       "\\textbf{Omnibus:}       & 82.142 & \\textbf{  Durbin-Watson:     } &    2.017  \\\\\n",
       "\\textbf{Prob(Omnibus):} &  0.000 & \\textbf{  Jarque-Bera (JB):  } &  191.396  \\\\\n",
       "\\textbf{Skew:}          &  1.147 & \\textbf{  Prob(JB):          } & 2.75e-42  \\\\\n",
       "\\textbf{Kurtosis:}      &  5.778 & \\textbf{  Cond. No.          } & 1.47e+04  \\\\\n",
       "\\bottomrule\n",
       "\\end{tabular}\n",
       "%\\caption{OLS Regression Results}\n",
       "\\end{center}\n",
       "\n",
       "Notes: \\newline\n",
       " [1] Standard Errors assume that the covariance matrix of the errors is correctly specified. \\newline\n",
       " [2] The condition number is large, 1.47e+04. This might indicate that there are \\newline\n",
       " strong multicollinearity or other numerical problems."
      ],
      "text/plain": [
       "<class 'statsmodels.iolib.summary.Summary'>\n",
       "\"\"\"\n",
       "                            OLS Regression Results                            \n",
       "==============================================================================\n",
       "Dep. Variable:                  PRICE   R-squared:                       0.753\n",
       "Model:                            OLS   Adj. R-squared:                  0.744\n",
       "Method:                 Least Squares   F-statistic:                     86.58\n",
       "Date:                Tue, 12 Dec 2023   Prob (F-statistic):           9.87e-96\n",
       "Time:                        11:10:46   Log-Likelihood:                -1024.1\n",
       "No. Observations:                 354   AIC:                             2074.\n",
       "Df Residuals:                     341   BIC:                             2125.\n",
       "Df Model:                          12                                         \n",
       "Covariance Type:            nonrobust                                         \n",
       "==============================================================================\n",
       "                 coef    std err          t      P>|t|      [0.025      0.975]\n",
       "------------------------------------------------------------------------------\n",
       "const         33.1485      5.619      5.899      0.000      22.095      44.202\n",
       "CRIM          -0.0767      0.043     -1.798      0.073      -0.160       0.007\n",
       "ZN             0.0397      0.015      2.649      0.008       0.010       0.069\n",
       "CHAS           2.6230      0.945      2.776      0.006       0.765       4.481\n",
       "NOX          -13.2319      4.142     -3.194      0.002     -21.380      -5.084\n",
       "RM             3.8473      0.460      8.368      0.000       2.943       4.752\n",
       "AGE           -0.0120      0.015     -0.789      0.431      -0.042       0.018\n",
       "DIS           -1.3718      0.220     -6.246      0.000      -1.804      -0.940\n",
       "RAD            0.2859      0.073      3.891      0.000       0.141       0.430\n",
       "TAX           -0.0142      0.004     -3.696      0.000      -0.022      -0.007\n",
       "PTRATIO       -0.9205      0.146     -6.320      0.000      -1.207      -0.634\n",
       "B              0.0106      0.003      3.474      0.001       0.005       0.017\n",
       "LSTAT         -0.4386      0.056     -7.841      0.000      -0.549      -0.329\n",
       "==============================================================================\n",
       "Omnibus:                       82.142   Durbin-Watson:                   2.017\n",
       "Prob(Omnibus):                  0.000   Jarque-Bera (JB):              191.396\n",
       "Skew:                           1.147   Prob(JB):                     2.75e-42\n",
       "Kurtosis:                       5.778   Cond. No.                     1.47e+04\n",
       "==============================================================================\n",
       "\n",
       "Notes:\n",
       "[1] Standard Errors assume that the covariance matrix of the errors is correctly specified.\n",
       "[2] The condition number is large, 1.47e+04. This might indicate that there are\n",
       "strong multicollinearity or other numerical problems.\n",
       "\"\"\""
      ]
     },
     "execution_count": 40,
     "metadata": {},
     "output_type": "execute_result"
    }
   ],
   "source": [
    "ols_model1 = sm.OLS(y_train, X_train_c1).fit()\n",
    "ols_model1.summary()"
   ]
  },
  {
   "cell_type": "code",
   "execution_count": 41,
   "id": "9b09b075",
   "metadata": {},
   "outputs": [
    {
     "name": "stdout",
     "output_type": "stream",
     "text": [
      "Full model\n",
      "R2    0.752890983596846\n",
      "Adj R2 0.7434426976755489\n",
      "INDUS dropped\n",
      "R2    0.752885627280341\n",
      "Adj R2 0.7441895203224644\n"
     ]
    }
   ],
   "source": [
    "print('Full model')\n",
    "print('R2   ', ols_model.rsquared)\n",
    "print('Adj R2', ols_model.rsquared_adj)\n",
    "print('INDUS dropped')\n",
    "print('R2   ', ols_model1.rsquared)\n",
    "print('Adj R2', ols_model1.rsquared_adj)"
   ]
  },
  {
   "cell_type": "code",
   "execution_count": null,
   "id": "031a180f",
   "metadata": {},
   "outputs": [],
   "source": []
  },
  {
   "cell_type": "code",
   "execution_count": 42,
   "id": "587c891f",
   "metadata": {},
   "outputs": [],
   "source": [
    "X_train_c2 = X_train_c1.drop('AGE', axis=1)"
   ]
  },
  {
   "cell_type": "code",
   "execution_count": 43,
   "id": "12bafba3",
   "metadata": {},
   "outputs": [
    {
     "data": {
      "text/html": [
       "<table class=\"simpletable\">\n",
       "<caption>OLS Regression Results</caption>\n",
       "<tr>\n",
       "  <th>Dep. Variable:</th>          <td>PRICE</td>      <th>  R-squared:         </th> <td>   0.752</td>\n",
       "</tr>\n",
       "<tr>\n",
       "  <th>Model:</th>                   <td>OLS</td>       <th>  Adj. R-squared:    </th> <td>   0.744</td>\n",
       "</tr>\n",
       "<tr>\n",
       "  <th>Method:</th>             <td>Least Squares</td>  <th>  F-statistic:       </th> <td>   94.50</td>\n",
       "</tr>\n",
       "<tr>\n",
       "  <th>Date:</th>             <td>Tue, 12 Dec 2023</td> <th>  Prob (F-statistic):</th> <td>1.35e-96</td>\n",
       "</tr>\n",
       "<tr>\n",
       "  <th>Time:</th>                 <td>11:10:46</td>     <th>  Log-Likelihood:    </th> <td> -1024.4</td>\n",
       "</tr>\n",
       "<tr>\n",
       "  <th>No. Observations:</th>      <td>   354</td>      <th>  AIC:               </th> <td>   2073.</td>\n",
       "</tr>\n",
       "<tr>\n",
       "  <th>Df Residuals:</th>          <td>   342</td>      <th>  BIC:               </th> <td>   2119.</td>\n",
       "</tr>\n",
       "<tr>\n",
       "  <th>Df Model:</th>              <td>    11</td>      <th>                     </th>     <td> </td>   \n",
       "</tr>\n",
       "<tr>\n",
       "  <th>Covariance Type:</th>      <td>nonrobust</td>    <th>                     </th>     <td> </td>   \n",
       "</tr>\n",
       "</table>\n",
       "<table class=\"simpletable\">\n",
       "<tr>\n",
       "     <td></td>        <th>coef</th>     <th>std err</th>      <th>t</th>      <th>P>|t|</th>  <th>[0.025</th>    <th>0.975]</th>  \n",
       "</tr>\n",
       "<tr>\n",
       "  <th>const</th>   <td>   33.4107</td> <td>    5.607</td> <td>    5.959</td> <td> 0.000</td> <td>   22.383</td> <td>   44.438</td>\n",
       "</tr>\n",
       "<tr>\n",
       "  <th>CRIM</th>    <td>   -0.0771</td> <td>    0.043</td> <td>   -1.810</td> <td> 0.071</td> <td>   -0.161</td> <td>    0.007</td>\n",
       "</tr>\n",
       "<tr>\n",
       "  <th>ZN</th>      <td>    0.0415</td> <td>    0.015</td> <td>    2.798</td> <td> 0.005</td> <td>    0.012</td> <td>    0.071</td>\n",
       "</tr>\n",
       "<tr>\n",
       "  <th>CHAS</th>    <td>    2.5870</td> <td>    0.943</td> <td>    2.743</td> <td> 0.006</td> <td>    0.732</td> <td>    4.442</td>\n",
       "</tr>\n",
       "<tr>\n",
       "  <th>NOX</th>     <td>  -14.1475</td> <td>    3.974</td> <td>   -3.560</td> <td> 0.000</td> <td>  -21.965</td> <td>   -6.330</td>\n",
       "</tr>\n",
       "<tr>\n",
       "  <th>RM</th>      <td>    3.7750</td> <td>    0.450</td> <td>    8.384</td> <td> 0.000</td> <td>    2.889</td> <td>    4.661</td>\n",
       "</tr>\n",
       "<tr>\n",
       "  <th>DIS</th>     <td>   -1.3127</td> <td>    0.206</td> <td>   -6.361</td> <td> 0.000</td> <td>   -1.719</td> <td>   -0.907</td>\n",
       "</tr>\n",
       "<tr>\n",
       "  <th>RAD</th>     <td>    0.2904</td> <td>    0.073</td> <td>    3.966</td> <td> 0.000</td> <td>    0.146</td> <td>    0.434</td>\n",
       "</tr>\n",
       "<tr>\n",
       "  <th>TAX</th>     <td>   -0.0143</td> <td>    0.004</td> <td>   -3.716</td> <td> 0.000</td> <td>   -0.022</td> <td>   -0.007</td>\n",
       "</tr>\n",
       "<tr>\n",
       "  <th>PTRATIO</th> <td>   -0.9264</td> <td>    0.145</td> <td>   -6.373</td> <td> 0.000</td> <td>   -1.212</td> <td>   -0.640</td>\n",
       "</tr>\n",
       "<tr>\n",
       "  <th>B</th>       <td>    0.0104</td> <td>    0.003</td> <td>    3.421</td> <td> 0.001</td> <td>    0.004</td> <td>    0.016</td>\n",
       "</tr>\n",
       "<tr>\n",
       "  <th>LSTAT</th>   <td>   -0.4539</td> <td>    0.052</td> <td>   -8.653</td> <td> 0.000</td> <td>   -0.557</td> <td>   -0.351</td>\n",
       "</tr>\n",
       "</table>\n",
       "<table class=\"simpletable\">\n",
       "<tr>\n",
       "  <th>Omnibus:</th>       <td>80.078</td> <th>  Durbin-Watson:     </th> <td>   2.020</td>\n",
       "</tr>\n",
       "<tr>\n",
       "  <th>Prob(Omnibus):</th> <td> 0.000</td> <th>  Jarque-Bera (JB):  </th> <td> 181.581</td>\n",
       "</tr>\n",
       "<tr>\n",
       "  <th>Skew:</th>          <td> 1.130</td> <th>  Prob(JB):          </th> <td>3.72e-40</td>\n",
       "</tr>\n",
       "<tr>\n",
       "  <th>Kurtosis:</th>      <td> 5.683</td> <th>  Cond. No.          </th> <td>1.44e+04</td>\n",
       "</tr>\n",
       "</table><br/><br/>Notes:<br/>[1] Standard Errors assume that the covariance matrix of the errors is correctly specified.<br/>[2] The condition number is large, 1.44e+04. This might indicate that there are<br/>strong multicollinearity or other numerical problems."
      ],
      "text/latex": [
       "\\begin{center}\n",
       "\\begin{tabular}{lclc}\n",
       "\\toprule\n",
       "\\textbf{Dep. Variable:}    &      PRICE       & \\textbf{  R-squared:         } &     0.752   \\\\\n",
       "\\textbf{Model:}            &       OLS        & \\textbf{  Adj. R-squared:    } &     0.744   \\\\\n",
       "\\textbf{Method:}           &  Least Squares   & \\textbf{  F-statistic:       } &     94.50   \\\\\n",
       "\\textbf{Date:}             & Tue, 12 Dec 2023 & \\textbf{  Prob (F-statistic):} &  1.35e-96   \\\\\n",
       "\\textbf{Time:}             &     11:10:46     & \\textbf{  Log-Likelihood:    } &   -1024.4   \\\\\n",
       "\\textbf{No. Observations:} &         354      & \\textbf{  AIC:               } &     2073.   \\\\\n",
       "\\textbf{Df Residuals:}     &         342      & \\textbf{  BIC:               } &     2119.   \\\\\n",
       "\\textbf{Df Model:}         &          11      & \\textbf{                     } &             \\\\\n",
       "\\textbf{Covariance Type:}  &    nonrobust     & \\textbf{                     } &             \\\\\n",
       "\\bottomrule\n",
       "\\end{tabular}\n",
       "\\begin{tabular}{lcccccc}\n",
       "                 & \\textbf{coef} & \\textbf{std err} & \\textbf{t} & \\textbf{P$> |$t$|$} & \\textbf{[0.025} & \\textbf{0.975]}  \\\\\n",
       "\\midrule\n",
       "\\textbf{const}   &      33.4107  &        5.607     &     5.959  &         0.000        &       22.383    &       44.438     \\\\\n",
       "\\textbf{CRIM}    &      -0.0771  &        0.043     &    -1.810  &         0.071        &       -0.161    &        0.007     \\\\\n",
       "\\textbf{ZN}      &       0.0415  &        0.015     &     2.798  &         0.005        &        0.012    &        0.071     \\\\\n",
       "\\textbf{CHAS}    &       2.5870  &        0.943     &     2.743  &         0.006        &        0.732    &        4.442     \\\\\n",
       "\\textbf{NOX}     &     -14.1475  &        3.974     &    -3.560  &         0.000        &      -21.965    &       -6.330     \\\\\n",
       "\\textbf{RM}      &       3.7750  &        0.450     &     8.384  &         0.000        &        2.889    &        4.661     \\\\\n",
       "\\textbf{DIS}     &      -1.3127  &        0.206     &    -6.361  &         0.000        &       -1.719    &       -0.907     \\\\\n",
       "\\textbf{RAD}     &       0.2904  &        0.073     &     3.966  &         0.000        &        0.146    &        0.434     \\\\\n",
       "\\textbf{TAX}     &      -0.0143  &        0.004     &    -3.716  &         0.000        &       -0.022    &       -0.007     \\\\\n",
       "\\textbf{PTRATIO} &      -0.9264  &        0.145     &    -6.373  &         0.000        &       -1.212    &       -0.640     \\\\\n",
       "\\textbf{B}       &       0.0104  &        0.003     &     3.421  &         0.001        &        0.004    &        0.016     \\\\\n",
       "\\textbf{LSTAT}   &      -0.4539  &        0.052     &    -8.653  &         0.000        &       -0.557    &       -0.351     \\\\\n",
       "\\bottomrule\n",
       "\\end{tabular}\n",
       "\\begin{tabular}{lclc}\n",
       "\\textbf{Omnibus:}       & 80.078 & \\textbf{  Durbin-Watson:     } &    2.020  \\\\\n",
       "\\textbf{Prob(Omnibus):} &  0.000 & \\textbf{  Jarque-Bera (JB):  } &  181.581  \\\\\n",
       "\\textbf{Skew:}          &  1.130 & \\textbf{  Prob(JB):          } & 3.72e-40  \\\\\n",
       "\\textbf{Kurtosis:}      &  5.683 & \\textbf{  Cond. No.          } & 1.44e+04  \\\\\n",
       "\\bottomrule\n",
       "\\end{tabular}\n",
       "%\\caption{OLS Regression Results}\n",
       "\\end{center}\n",
       "\n",
       "Notes: \\newline\n",
       " [1] Standard Errors assume that the covariance matrix of the errors is correctly specified. \\newline\n",
       " [2] The condition number is large, 1.44e+04. This might indicate that there are \\newline\n",
       " strong multicollinearity or other numerical problems."
      ],
      "text/plain": [
       "<class 'statsmodels.iolib.summary.Summary'>\n",
       "\"\"\"\n",
       "                            OLS Regression Results                            \n",
       "==============================================================================\n",
       "Dep. Variable:                  PRICE   R-squared:                       0.752\n",
       "Model:                            OLS   Adj. R-squared:                  0.744\n",
       "Method:                 Least Squares   F-statistic:                     94.50\n",
       "Date:                Tue, 12 Dec 2023   Prob (F-statistic):           1.35e-96\n",
       "Time:                        11:10:46   Log-Likelihood:                -1024.4\n",
       "No. Observations:                 354   AIC:                             2073.\n",
       "Df Residuals:                     342   BIC:                             2119.\n",
       "Df Model:                          11                                         \n",
       "Covariance Type:            nonrobust                                         \n",
       "==============================================================================\n",
       "                 coef    std err          t      P>|t|      [0.025      0.975]\n",
       "------------------------------------------------------------------------------\n",
       "const         33.4107      5.607      5.959      0.000      22.383      44.438\n",
       "CRIM          -0.0771      0.043     -1.810      0.071      -0.161       0.007\n",
       "ZN             0.0415      0.015      2.798      0.005       0.012       0.071\n",
       "CHAS           2.5870      0.943      2.743      0.006       0.732       4.442\n",
       "NOX          -14.1475      3.974     -3.560      0.000     -21.965      -6.330\n",
       "RM             3.7750      0.450      8.384      0.000       2.889       4.661\n",
       "DIS           -1.3127      0.206     -6.361      0.000      -1.719      -0.907\n",
       "RAD            0.2904      0.073      3.966      0.000       0.146       0.434\n",
       "TAX           -0.0143      0.004     -3.716      0.000      -0.022      -0.007\n",
       "PTRATIO       -0.9264      0.145     -6.373      0.000      -1.212      -0.640\n",
       "B              0.0104      0.003      3.421      0.001       0.004       0.016\n",
       "LSTAT         -0.4539      0.052     -8.653      0.000      -0.557      -0.351\n",
       "==============================================================================\n",
       "Omnibus:                       80.078   Durbin-Watson:                   2.020\n",
       "Prob(Omnibus):                  0.000   Jarque-Bera (JB):              181.581\n",
       "Skew:                           1.130   Prob(JB):                     3.72e-40\n",
       "Kurtosis:                       5.683   Cond. No.                     1.44e+04\n",
       "==============================================================================\n",
       "\n",
       "Notes:\n",
       "[1] Standard Errors assume that the covariance matrix of the errors is correctly specified.\n",
       "[2] The condition number is large, 1.44e+04. This might indicate that there are\n",
       "strong multicollinearity or other numerical problems.\n",
       "\"\"\""
      ]
     },
     "execution_count": 43,
     "metadata": {},
     "output_type": "execute_result"
    }
   ],
   "source": [
    "ols_model2 = sm.OLS(y_train, X_train_c2).fit()\n",
    "ols_model2.summary()"
   ]
  },
  {
   "cell_type": "code",
   "execution_count": 44,
   "id": "401029f7",
   "metadata": {},
   "outputs": [
    {
     "name": "stdout",
     "output_type": "stream",
     "text": [
      "Full model\n",
      "R2    0.752885627280341\n",
      "Adj R2 0.7441895203224644\n",
      "AGE dropped\n",
      "R2    0.752434513097503\n",
      "Adj R2 0.7444718804778321\n"
     ]
    }
   ],
   "source": [
    "print('Full model')\n",
    "print('R2   ', ols_model1.rsquared)\n",
    "print('Adj R2', ols_model1.rsquared_adj)\n",
    "print('AGE dropped')\n",
    "print('R2   ', ols_model2.rsquared)\n",
    "print('Adj R2', ols_model2.rsquared_adj)"
   ]
  },
  {
   "cell_type": "code",
   "execution_count": null,
   "id": "d8031f3b",
   "metadata": {},
   "outputs": [],
   "source": []
  },
  {
   "cell_type": "code",
   "execution_count": 45,
   "id": "3344080b",
   "metadata": {},
   "outputs": [],
   "source": [
    "X_train_c3 = X_train_c2.drop('CRIM', axis=1)"
   ]
  },
  {
   "cell_type": "code",
   "execution_count": 46,
   "id": "4515492c",
   "metadata": {},
   "outputs": [
    {
     "data": {
      "text/html": [
       "<table class=\"simpletable\">\n",
       "<caption>OLS Regression Results</caption>\n",
       "<tr>\n",
       "  <th>Dep. Variable:</th>          <td>PRICE</td>      <th>  R-squared:         </th> <td>   0.750</td>\n",
       "</tr>\n",
       "<tr>\n",
       "  <th>Model:</th>                   <td>OLS</td>       <th>  Adj. R-squared:    </th> <td>   0.743</td>\n",
       "</tr>\n",
       "<tr>\n",
       "  <th>Method:</th>             <td>Least Squares</td>  <th>  F-statistic:       </th> <td>   102.9</td>\n",
       "</tr>\n",
       "<tr>\n",
       "  <th>Date:</th>             <td>Tue, 12 Dec 2023</td> <th>  Prob (F-statistic):</th> <td>6.51e-97</td>\n",
       "</tr>\n",
       "<tr>\n",
       "  <th>Time:</th>                 <td>11:10:46</td>     <th>  Log-Likelihood:    </th> <td> -1026.1</td>\n",
       "</tr>\n",
       "<tr>\n",
       "  <th>No. Observations:</th>      <td>   354</td>      <th>  AIC:               </th> <td>   2074.</td>\n",
       "</tr>\n",
       "<tr>\n",
       "  <th>Df Residuals:</th>          <td>   343</td>      <th>  BIC:               </th> <td>   2117.</td>\n",
       "</tr>\n",
       "<tr>\n",
       "  <th>Df Model:</th>              <td>    10</td>      <th>                     </th>     <td> </td>   \n",
       "</tr>\n",
       "<tr>\n",
       "  <th>Covariance Type:</th>      <td>nonrobust</td>    <th>                     </th>     <td> </td>   \n",
       "</tr>\n",
       "</table>\n",
       "<table class=\"simpletable\">\n",
       "<tr>\n",
       "     <td></td>        <th>coef</th>     <th>std err</th>      <th>t</th>      <th>P>|t|</th>  <th>[0.025</th>    <th>0.975]</th>  \n",
       "</tr>\n",
       "<tr>\n",
       "  <th>const</th>   <td>   32.4484</td> <td>    5.600</td> <td>    5.795</td> <td> 0.000</td> <td>   21.434</td> <td>   43.463</td>\n",
       "</tr>\n",
       "<tr>\n",
       "  <th>ZN</th>      <td>    0.0384</td> <td>    0.015</td> <td>    2.599</td> <td> 0.010</td> <td>    0.009</td> <td>    0.067</td>\n",
       "</tr>\n",
       "<tr>\n",
       "  <th>CHAS</th>    <td>    2.6861</td> <td>    0.945</td> <td>    2.843</td> <td> 0.005</td> <td>    0.828</td> <td>    4.544</td>\n",
       "</tr>\n",
       "<tr>\n",
       "  <th>NOX</th>     <td>  -13.5044</td> <td>    3.972</td> <td>   -3.400</td> <td> 0.001</td> <td>  -21.316</td> <td>   -5.693</td>\n",
       "</tr>\n",
       "<tr>\n",
       "  <th>RM</th>      <td>    3.8237</td> <td>    0.451</td> <td>    8.479</td> <td> 0.000</td> <td>    2.937</td> <td>    4.711</td>\n",
       "</tr>\n",
       "<tr>\n",
       "  <th>DIS</th>     <td>   -1.2665</td> <td>    0.205</td> <td>   -6.164</td> <td> 0.000</td> <td>   -1.671</td> <td>   -0.862</td>\n",
       "</tr>\n",
       "<tr>\n",
       "  <th>RAD</th>     <td>    0.2501</td> <td>    0.070</td> <td>    3.573</td> <td> 0.000</td> <td>    0.112</td> <td>    0.388</td>\n",
       "</tr>\n",
       "<tr>\n",
       "  <th>TAX</th>     <td>   -0.0141</td> <td>    0.004</td> <td>   -3.640</td> <td> 0.000</td> <td>   -0.022</td> <td>   -0.006</td>\n",
       "</tr>\n",
       "<tr>\n",
       "  <th>PTRATIO</th> <td>   -0.9174</td> <td>    0.146</td> <td>   -6.294</td> <td> 0.000</td> <td>   -1.204</td> <td>   -0.631</td>\n",
       "</tr>\n",
       "<tr>\n",
       "  <th>B</th>       <td>    0.0111</td> <td>    0.003</td> <td>    3.690</td> <td> 0.000</td> <td>    0.005</td> <td>    0.017</td>\n",
       "</tr>\n",
       "<tr>\n",
       "  <th>LSTAT</th>   <td>   -0.4743</td> <td>    0.051</td> <td>   -9.231</td> <td> 0.000</td> <td>   -0.575</td> <td>   -0.373</td>\n",
       "</tr>\n",
       "</table>\n",
       "<table class=\"simpletable\">\n",
       "<tr>\n",
       "  <th>Omnibus:</th>       <td>75.200</td> <th>  Durbin-Watson:     </th> <td>   2.060</td>\n",
       "</tr>\n",
       "<tr>\n",
       "  <th>Prob(Omnibus):</th> <td> 0.000</td> <th>  Jarque-Bera (JB):  </th> <td> 169.728</td>\n",
       "</tr>\n",
       "<tr>\n",
       "  <th>Skew:</th>          <td> 1.065</td> <th>  Prob(JB):          </th> <td>1.39e-37</td>\n",
       "</tr>\n",
       "<tr>\n",
       "  <th>Kurtosis:</th>      <td> 5.640</td> <th>  Cond. No.          </th> <td>1.43e+04</td>\n",
       "</tr>\n",
       "</table><br/><br/>Notes:<br/>[1] Standard Errors assume that the covariance matrix of the errors is correctly specified.<br/>[2] The condition number is large, 1.43e+04. This might indicate that there are<br/>strong multicollinearity or other numerical problems."
      ],
      "text/latex": [
       "\\begin{center}\n",
       "\\begin{tabular}{lclc}\n",
       "\\toprule\n",
       "\\textbf{Dep. Variable:}    &      PRICE       & \\textbf{  R-squared:         } &     0.750   \\\\\n",
       "\\textbf{Model:}            &       OLS        & \\textbf{  Adj. R-squared:    } &     0.743   \\\\\n",
       "\\textbf{Method:}           &  Least Squares   & \\textbf{  F-statistic:       } &     102.9   \\\\\n",
       "\\textbf{Date:}             & Tue, 12 Dec 2023 & \\textbf{  Prob (F-statistic):} &  6.51e-97   \\\\\n",
       "\\textbf{Time:}             &     11:10:46     & \\textbf{  Log-Likelihood:    } &   -1026.1   \\\\\n",
       "\\textbf{No. Observations:} &         354      & \\textbf{  AIC:               } &     2074.   \\\\\n",
       "\\textbf{Df Residuals:}     &         343      & \\textbf{  BIC:               } &     2117.   \\\\\n",
       "\\textbf{Df Model:}         &          10      & \\textbf{                     } &             \\\\\n",
       "\\textbf{Covariance Type:}  &    nonrobust     & \\textbf{                     } &             \\\\\n",
       "\\bottomrule\n",
       "\\end{tabular}\n",
       "\\begin{tabular}{lcccccc}\n",
       "                 & \\textbf{coef} & \\textbf{std err} & \\textbf{t} & \\textbf{P$> |$t$|$} & \\textbf{[0.025} & \\textbf{0.975]}  \\\\\n",
       "\\midrule\n",
       "\\textbf{const}   &      32.4484  &        5.600     &     5.795  &         0.000        &       21.434    &       43.463     \\\\\n",
       "\\textbf{ZN}      &       0.0384  &        0.015     &     2.599  &         0.010        &        0.009    &        0.067     \\\\\n",
       "\\textbf{CHAS}    &       2.6861  &        0.945     &     2.843  &         0.005        &        0.828    &        4.544     \\\\\n",
       "\\textbf{NOX}     &     -13.5044  &        3.972     &    -3.400  &         0.001        &      -21.316    &       -5.693     \\\\\n",
       "\\textbf{RM}      &       3.8237  &        0.451     &     8.479  &         0.000        &        2.937    &        4.711     \\\\\n",
       "\\textbf{DIS}     &      -1.2665  &        0.205     &    -6.164  &         0.000        &       -1.671    &       -0.862     \\\\\n",
       "\\textbf{RAD}     &       0.2501  &        0.070     &     3.573  &         0.000        &        0.112    &        0.388     \\\\\n",
       "\\textbf{TAX}     &      -0.0141  &        0.004     &    -3.640  &         0.000        &       -0.022    &       -0.006     \\\\\n",
       "\\textbf{PTRATIO} &      -0.9174  &        0.146     &    -6.294  &         0.000        &       -1.204    &       -0.631     \\\\\n",
       "\\textbf{B}       &       0.0111  &        0.003     &     3.690  &         0.000        &        0.005    &        0.017     \\\\\n",
       "\\textbf{LSTAT}   &      -0.4743  &        0.051     &    -9.231  &         0.000        &       -0.575    &       -0.373     \\\\\n",
       "\\bottomrule\n",
       "\\end{tabular}\n",
       "\\begin{tabular}{lclc}\n",
       "\\textbf{Omnibus:}       & 75.200 & \\textbf{  Durbin-Watson:     } &    2.060  \\\\\n",
       "\\textbf{Prob(Omnibus):} &  0.000 & \\textbf{  Jarque-Bera (JB):  } &  169.728  \\\\\n",
       "\\textbf{Skew:}          &  1.065 & \\textbf{  Prob(JB):          } & 1.39e-37  \\\\\n",
       "\\textbf{Kurtosis:}      &  5.640 & \\textbf{  Cond. No.          } & 1.43e+04  \\\\\n",
       "\\bottomrule\n",
       "\\end{tabular}\n",
       "%\\caption{OLS Regression Results}\n",
       "\\end{center}\n",
       "\n",
       "Notes: \\newline\n",
       " [1] Standard Errors assume that the covariance matrix of the errors is correctly specified. \\newline\n",
       " [2] The condition number is large, 1.43e+04. This might indicate that there are \\newline\n",
       " strong multicollinearity or other numerical problems."
      ],
      "text/plain": [
       "<class 'statsmodels.iolib.summary.Summary'>\n",
       "\"\"\"\n",
       "                            OLS Regression Results                            \n",
       "==============================================================================\n",
       "Dep. Variable:                  PRICE   R-squared:                       0.750\n",
       "Model:                            OLS   Adj. R-squared:                  0.743\n",
       "Method:                 Least Squares   F-statistic:                     102.9\n",
       "Date:                Tue, 12 Dec 2023   Prob (F-statistic):           6.51e-97\n",
       "Time:                        11:10:46   Log-Likelihood:                -1026.1\n",
       "No. Observations:                 354   AIC:                             2074.\n",
       "Df Residuals:                     343   BIC:                             2117.\n",
       "Df Model:                          10                                         \n",
       "Covariance Type:            nonrobust                                         \n",
       "==============================================================================\n",
       "                 coef    std err          t      P>|t|      [0.025      0.975]\n",
       "------------------------------------------------------------------------------\n",
       "const         32.4484      5.600      5.795      0.000      21.434      43.463\n",
       "ZN             0.0384      0.015      2.599      0.010       0.009       0.067\n",
       "CHAS           2.6861      0.945      2.843      0.005       0.828       4.544\n",
       "NOX          -13.5044      3.972     -3.400      0.001     -21.316      -5.693\n",
       "RM             3.8237      0.451      8.479      0.000       2.937       4.711\n",
       "DIS           -1.2665      0.205     -6.164      0.000      -1.671      -0.862\n",
       "RAD            0.2501      0.070      3.573      0.000       0.112       0.388\n",
       "TAX           -0.0141      0.004     -3.640      0.000      -0.022      -0.006\n",
       "PTRATIO       -0.9174      0.146     -6.294      0.000      -1.204      -0.631\n",
       "B              0.0111      0.003      3.690      0.000       0.005       0.017\n",
       "LSTAT         -0.4743      0.051     -9.231      0.000      -0.575      -0.373\n",
       "==============================================================================\n",
       "Omnibus:                       75.200   Durbin-Watson:                   2.060\n",
       "Prob(Omnibus):                  0.000   Jarque-Bera (JB):              169.728\n",
       "Skew:                           1.065   Prob(JB):                     1.39e-37\n",
       "Kurtosis:                       5.640   Cond. No.                     1.43e+04\n",
       "==============================================================================\n",
       "\n",
       "Notes:\n",
       "[1] Standard Errors assume that the covariance matrix of the errors is correctly specified.\n",
       "[2] The condition number is large, 1.43e+04. This might indicate that there are\n",
       "strong multicollinearity or other numerical problems.\n",
       "\"\"\""
      ]
     },
     "execution_count": 46,
     "metadata": {},
     "output_type": "execute_result"
    }
   ],
   "source": [
    "ols_model3 = sm.OLS(y_train, X_train_c3).fit()\n",
    "ols_model3.summary()"
   ]
  },
  {
   "cell_type": "code",
   "execution_count": 47,
   "id": "a9cd41eb",
   "metadata": {},
   "outputs": [
    {
     "name": "stdout",
     "output_type": "stream",
     "text": [
      "Full model\n",
      "R2    0.752890983596846\n",
      "Adj R2 0.7434426976755489\n",
      "INDUS dropped\n",
      "R2    0.752885627280341\n",
      "Adj R2 0.7441895203224644\n",
      "AGE dropped\n",
      "R2    0.752434513097503\n",
      "Adj R2 0.7444718804778321\n",
      "CRIM dropped\n",
      "R2    0.7500627426208808\n",
      "Adj R2 0.7427759421142008\n"
     ]
    }
   ],
   "source": [
    "print('Full model')\n",
    "print('R2   ', ols_model.rsquared)\n",
    "print('Adj R2', ols_model.rsquared_adj)\n",
    "print('INDUS dropped')\n",
    "print('R2   ', ols_model1.rsquared)\n",
    "print('Adj R2', ols_model1.rsquared_adj)\n",
    "print('AGE dropped')\n",
    "print('R2   ', ols_model2.rsquared)\n",
    "print('Adj R2', ols_model2.rsquared_adj)\n",
    "print('CRIM dropped')\n",
    "print('R2   ', ols_model3.rsquared)\n",
    "print('Adj R2', ols_model3.rsquared_adj)"
   ]
  },
  {
   "cell_type": "code",
   "execution_count": null,
   "id": "310e8220",
   "metadata": {},
   "outputs": [],
   "source": []
  },
  {
   "cell_type": "code",
   "execution_count": 48,
   "id": "4499dcb1",
   "metadata": {},
   "outputs": [
    {
     "name": "stdout",
     "output_type": "stream",
     "text": [
      "Requirement already satisfied: mlxtend in c:\\users\\atharva changade\\anaconda3\\lib\\site-packages (0.23.0)Note: you may need to restart the kernel to use updated packages.\n",
      "\n",
      "Requirement already satisfied: scipy>=1.2.1 in c:\\users\\atharva changade\\anaconda3\\lib\\site-packages (from mlxtend) (1.10.1)\n",
      "Requirement already satisfied: numpy>=1.16.2 in c:\\users\\atharva changade\\anaconda3\\lib\\site-packages (from mlxtend) (1.24.3)\n",
      "Requirement already satisfied: pandas>=0.24.2 in c:\\users\\atharva changade\\anaconda3\\lib\\site-packages (from mlxtend) (1.5.3)\n",
      "Requirement already satisfied: scikit-learn>=1.0.2 in c:\\users\\atharva changade\\anaconda3\\lib\\site-packages (from mlxtend) (1.3.0)\n",
      "Requirement already satisfied: matplotlib>=3.0.0 in c:\\users\\atharva changade\\anaconda3\\lib\\site-packages (from mlxtend) (3.7.1)\n",
      "Requirement already satisfied: joblib>=0.13.2 in c:\\users\\atharva changade\\anaconda3\\lib\\site-packages (from mlxtend) (1.2.0)\n",
      "Requirement already satisfied: contourpy>=1.0.1 in c:\\users\\atharva changade\\anaconda3\\lib\\site-packages (from matplotlib>=3.0.0->mlxtend) (1.0.5)\n",
      "Requirement already satisfied: cycler>=0.10 in c:\\users\\atharva changade\\anaconda3\\lib\\site-packages (from matplotlib>=3.0.0->mlxtend) (0.11.0)\n",
      "Requirement already satisfied: fonttools>=4.22.0 in c:\\users\\atharva changade\\anaconda3\\lib\\site-packages (from matplotlib>=3.0.0->mlxtend) (4.25.0)\n",
      "Requirement already satisfied: kiwisolver>=1.0.1 in c:\\users\\atharva changade\\anaconda3\\lib\\site-packages (from matplotlib>=3.0.0->mlxtend) (1.4.4)\n",
      "Requirement already satisfied: packaging>=20.0 in c:\\users\\atharva changade\\anaconda3\\lib\\site-packages (from matplotlib>=3.0.0->mlxtend) (23.0)\n",
      "Requirement already satisfied: pillow>=6.2.0 in c:\\users\\atharva changade\\anaconda3\\lib\\site-packages (from matplotlib>=3.0.0->mlxtend) (9.4.0)\n",
      "Requirement already satisfied: pyparsing>=2.3.1 in c:\\users\\atharva changade\\anaconda3\\lib\\site-packages (from matplotlib>=3.0.0->mlxtend) (3.0.9)\n",
      "Requirement already satisfied: python-dateutil>=2.7 in c:\\users\\atharva changade\\anaconda3\\lib\\site-packages (from matplotlib>=3.0.0->mlxtend) (2.8.2)\n",
      "Requirement already satisfied: pytz>=2020.1 in c:\\users\\atharva changade\\anaconda3\\lib\\site-packages (from pandas>=0.24.2->mlxtend) (2022.7)\n",
      "Requirement already satisfied: threadpoolctl>=2.0.0 in c:\\users\\atharva changade\\anaconda3\\lib\\site-packages (from scikit-learn>=1.0.2->mlxtend) (2.2.0)\n",
      "Requirement already satisfied: six>=1.5 in c:\\users\\atharva changade\\anaconda3\\lib\\site-packages (from python-dateutil>=2.7->matplotlib>=3.0.0->mlxtend) (1.16.0)\n"
     ]
    }
   ],
   "source": [
    "pip install mlxtend"
   ]
  },
  {
   "cell_type": "code",
   "execution_count": null,
   "id": "c8ac06d9",
   "metadata": {},
   "outputs": [],
   "source": []
  },
  {
   "cell_type": "markdown",
   "id": "cb04ba4a",
   "metadata": {},
   "source": [
    "# Sequential feature selection (SFS)"
   ]
  },
  {
   "cell_type": "code",
   "execution_count": 49,
   "id": "f53ce025",
   "metadata": {},
   "outputs": [
    {
     "name": "stdout",
     "output_type": "stream",
     "text": [
      "Train R2 0.752890983596846\n",
      "Test R2 0.7057919873264535\n",
      "Train RMSE 4.366622396702633\n",
      "Test RMSE 5.458831770761842\n"
     ]
    },
    {
     "data": {
      "text/plain": [
       "['LR FULL model',\n",
       " 0.752890983596846,\n",
       " 0.7057919873264535,\n",
       " 4.366622396702633,\n",
       " 5.458831770761842]"
      ]
     },
     "execution_count": 49,
     "metadata": {},
     "output_type": "execute_result"
    }
   ],
   "source": [
    "# Build linear regression and capture R2 and RMSE\n",
    "lr = LinearRegression()\n",
    "lr.fit(X_train, y_train)\n",
    "\n",
    "y_pred_train = lr.predict(X_train)\n",
    "y_pred_test = lr.predict(X_test)\n",
    "\n",
    "train_r2 = metrics.r2_score(y_train, y_pred_train)\n",
    "test_r2 = metrics.r2_score(y_test, y_pred_test)\n",
    "print('Train R2', train_r2)\n",
    "print('Test R2', test_r2)\n",
    "\n",
    "train_rmse = np.sqrt(metrics.mean_squared_error(y_train, y_pred_train))\n",
    "test_rmse = np.sqrt(metrics.mean_squared_error(y_test, y_pred_test))\n",
    "print('Train RMSE', train_rmse)\n",
    "print('Test RMSE', test_rmse)\n",
    "\n",
    "result_lr = ['LR FULL model', train_r2, test_r2, train_rmse, test_rmse]\n",
    "result_lr"
   ]
  },
  {
   "cell_type": "code",
   "execution_count": null,
   "id": "c285fbde",
   "metadata": {},
   "outputs": [],
   "source": []
  },
  {
   "cell_type": "code",
   "execution_count": 50,
   "id": "da37fe42",
   "metadata": {},
   "outputs": [],
   "source": [
    "from mlxtend.feature_selection import SequentialFeatureSelector as sfs"
   ]
  },
  {
   "cell_type": "code",
   "execution_count": 51,
   "id": "43830498",
   "metadata": {},
   "outputs": [
    {
     "data": {
      "text/plain": [
       "['CHAS', 'RM', 'PTRATIO', 'B', 'LSTAT']"
      ]
     },
     "execution_count": 51,
     "metadata": {},
     "output_type": "execute_result"
    }
   ],
   "source": [
    "# Forward\n",
    "lr = LinearRegression()\n",
    "lr_sfs = sfs(estimator=lr, k_features=5, forward=True)\n",
    "\n",
    "sfs_forward = lr_sfs.fit(X_train, y_train)\n",
    "forward_features = list(sfs_forward.k_feature_names_)\n",
    "forward_features"
   ]
  },
  {
   "cell_type": "code",
   "execution_count": 52,
   "id": "04258d01",
   "metadata": {},
   "outputs": [
    {
     "data": {
      "text/plain": [
       "['ZN', 'CHAS', 'NOX', 'RM', 'DIS', 'PTRATIO', 'B', 'LSTAT']"
      ]
     },
     "execution_count": 52,
     "metadata": {},
     "output_type": "execute_result"
    }
   ],
   "source": [
    "# Forward\n",
    "lr = LinearRegression()\n",
    "lr_sfs = sfs(estimator=lr, k_features=(5,8), forward=True)\n",
    "\n",
    "sfs_forward = lr_sfs.fit(X_train, y_train)\n",
    "forward_features = list(sfs_forward.k_feature_names_)\n",
    "forward_features"
   ]
  },
  {
   "cell_type": "code",
   "execution_count": 53,
   "id": "328b377b",
   "metadata": {},
   "outputs": [
    {
     "data": {
      "text/plain": [
       "['CRIM',\n",
       " 'ZN',\n",
       " 'CHAS',\n",
       " 'NOX',\n",
       " 'RM',\n",
       " 'DIS',\n",
       " 'RAD',\n",
       " 'TAX',\n",
       " 'PTRATIO',\n",
       " 'B',\n",
       " 'LSTAT']"
      ]
     },
     "execution_count": 53,
     "metadata": {},
     "output_type": "execute_result"
    }
   ],
   "source": [
    "# Forward\n",
    "lr = LinearRegression()\n",
    "lr_sfs = sfs(estimator=lr, k_features='best', forward=True)\n",
    "\n",
    "sfs_forward = lr_sfs.fit(X_train, y_train)\n",
    "forward_features = list(sfs_forward.k_feature_names_)\n",
    "forward_features"
   ]
  },
  {
   "cell_type": "code",
   "execution_count": null,
   "id": "6d099dc9",
   "metadata": {},
   "outputs": [],
   "source": []
  },
  {
   "cell_type": "code",
   "execution_count": 54,
   "id": "eb1e5deb",
   "metadata": {},
   "outputs": [
    {
     "name": "stderr",
     "output_type": "stream",
     "text": [
      "[Parallel(n_jobs=1)]: Using backend SequentialBackend with 1 concurrent workers.\n",
      "[Parallel(n_jobs=1)]: Done   1 out of   1 | elapsed:    0.0s remaining:    0.0s\n",
      "[Parallel(n_jobs=1)]: Done  13 out of  13 | elapsed:    0.1s finished\n",
      "\n",
      "[2023-12-12 11:10:58] Features: 1/13 -- score: 0.5261603029632435[Parallel(n_jobs=1)]: Using backend SequentialBackend with 1 concurrent workers.\n",
      "[Parallel(n_jobs=1)]: Done   1 out of   1 | elapsed:    0.0s remaining:    0.0s\n",
      "[Parallel(n_jobs=1)]: Done  12 out of  12 | elapsed:    0.1s finished\n",
      "\n",
      "[2023-12-12 11:10:58] Features: 2/13 -- score: 0.6241817903347535[Parallel(n_jobs=1)]: Using backend SequentialBackend with 1 concurrent workers.\n",
      "[Parallel(n_jobs=1)]: Done   1 out of   1 | elapsed:    0.0s remaining:    0.0s\n",
      "[Parallel(n_jobs=1)]: Done  11 out of  11 | elapsed:    0.1s finished\n",
      "\n",
      "[2023-12-12 11:10:58] Features: 3/13 -- score: 0.6706654496693151[Parallel(n_jobs=1)]: Using backend SequentialBackend with 1 concurrent workers.\n",
      "[Parallel(n_jobs=1)]: Done   1 out of   1 | elapsed:    0.0s remaining:    0.0s\n",
      "[Parallel(n_jobs=1)]: Done  10 out of  10 | elapsed:    0.2s finished\n",
      "\n",
      "[2023-12-12 11:10:59] Features: 4/13 -- score: 0.6820007792393803[Parallel(n_jobs=1)]: Using backend SequentialBackend with 1 concurrent workers.\n",
      "[Parallel(n_jobs=1)]: Done   1 out of   1 | elapsed:    0.0s remaining:    0.0s\n",
      "[Parallel(n_jobs=1)]: Done   9 out of   9 | elapsed:    0.1s finished\n",
      "\n",
      "[2023-12-12 11:10:59] Features: 5/13 -- score: 0.6904344783382659[Parallel(n_jobs=1)]: Using backend SequentialBackend with 1 concurrent workers.\n",
      "[Parallel(n_jobs=1)]: Done   1 out of   1 | elapsed:    0.0s remaining:    0.0s\n",
      "[Parallel(n_jobs=1)]: Done   8 out of   8 | elapsed:    0.0s finished\n",
      "\n",
      "[2023-12-12 11:10:59] Features: 6/13 -- score: 0.693937892208577[Parallel(n_jobs=1)]: Using backend SequentialBackend with 1 concurrent workers.\n",
      "[Parallel(n_jobs=1)]: Done   1 out of   1 | elapsed:    0.0s remaining:    0.0s\n",
      "[Parallel(n_jobs=1)]: Done   7 out of   7 | elapsed:    0.0s finished\n",
      "\n",
      "[2023-12-12 11:10:59] Features: 7/13 -- score: 0.7096927863137705[Parallel(n_jobs=1)]: Using backend SequentialBackend with 1 concurrent workers.\n",
      "[Parallel(n_jobs=1)]: Done   1 out of   1 | elapsed:    0.0s remaining:    0.0s\n",
      "[Parallel(n_jobs=1)]: Done   6 out of   6 | elapsed:    0.0s finished\n",
      "\n",
      "[2023-12-12 11:10:59] Features: 8/13 -- score: 0.7139685944425139[Parallel(n_jobs=1)]: Using backend SequentialBackend with 1 concurrent workers.\n",
      "[Parallel(n_jobs=1)]: Done   1 out of   1 | elapsed:    0.0s remaining:    0.0s\n",
      "[Parallel(n_jobs=1)]: Done   5 out of   5 | elapsed:    0.0s finished\n",
      "\n",
      "[2023-12-12 11:10:59] Features: 9/13 -- score: 0.7139361415539117[Parallel(n_jobs=1)]: Using backend SequentialBackend with 1 concurrent workers.\n",
      "[Parallel(n_jobs=1)]: Done   1 out of   1 | elapsed:    0.0s remaining:    0.0s\n",
      "[Parallel(n_jobs=1)]: Done   4 out of   4 | elapsed:    0.0s finished\n",
      "\n",
      "[2023-12-12 11:10:59] Features: 10/13 -- score: 0.7142054099809264[Parallel(n_jobs=1)]: Using backend SequentialBackend with 1 concurrent workers.\n",
      "[Parallel(n_jobs=1)]: Done   1 out of   1 | elapsed:    0.0s remaining:    0.0s\n",
      "[Parallel(n_jobs=1)]: Done   3 out of   3 | elapsed:    0.0s finished\n",
      "\n",
      "[2023-12-12 11:10:59] Features: 11/13 -- score: 0.7230451718082935[Parallel(n_jobs=1)]: Using backend SequentialBackend with 1 concurrent workers.\n",
      "[Parallel(n_jobs=1)]: Done   1 out of   1 | elapsed:    0.0s remaining:    0.0s\n",
      "[Parallel(n_jobs=1)]: Done   2 out of   2 | elapsed:    0.0s finished\n",
      "\n",
      "[2023-12-12 11:10:59] Features: 12/13 -- score: 0.7203749681521985[Parallel(n_jobs=1)]: Using backend SequentialBackend with 1 concurrent workers.\n",
      "[Parallel(n_jobs=1)]: Done   1 out of   1 | elapsed:    0.0s remaining:    0.0s\n",
      "[Parallel(n_jobs=1)]: Done   1 out of   1 | elapsed:    0.0s finished\n",
      "\n",
      "[2023-12-12 11:10:59] Features: 13/13 -- score: 0.71587654197648"
     ]
    },
    {
     "data": {
      "text/plain": [
       "['CRIM',\n",
       " 'ZN',\n",
       " 'CHAS',\n",
       " 'NOX',\n",
       " 'RM',\n",
       " 'DIS',\n",
       " 'RAD',\n",
       " 'TAX',\n",
       " 'PTRATIO',\n",
       " 'B',\n",
       " 'LSTAT']"
      ]
     },
     "execution_count": 54,
     "metadata": {},
     "output_type": "execute_result"
    }
   ],
   "source": [
    "# Forward\n",
    "lr = LinearRegression()\n",
    "lr_sfs = sfs(estimator=lr, k_features='best', forward=True, verbose=2)\n",
    "\n",
    "sfs_forward = lr_sfs.fit(X_train, y_train)\n",
    "forward_features = list(sfs_forward.k_feature_names_)\n",
    "forward_features"
   ]
  },
  {
   "cell_type": "code",
   "execution_count": 55,
   "id": "1cf0e61a",
   "metadata": {},
   "outputs": [
    {
     "data": {
      "text/plain": [
       "['CRIM',\n",
       " 'ZN',\n",
       " 'CHAS',\n",
       " 'NOX',\n",
       " 'RM',\n",
       " 'DIS',\n",
       " 'RAD',\n",
       " 'TAX',\n",
       " 'PTRATIO',\n",
       " 'B',\n",
       " 'LSTAT']"
      ]
     },
     "execution_count": 55,
     "metadata": {},
     "output_type": "execute_result"
    }
   ],
   "source": [
    "# Forward\n",
    "lr = LinearRegression()\n",
    "lr_sfs = sfs(estimator=lr, k_features='best', forward=False)\n",
    "\n",
    "sfs_back = lr_sfs.fit(X_train, y_train)\n",
    "backward_features = list(sfs_back.k_feature_names_)\n",
    "backward_features"
   ]
  },
  {
   "cell_type": "code",
   "execution_count": null,
   "id": "14d48499",
   "metadata": {},
   "outputs": [],
   "source": []
  },
  {
   "cell_type": "code",
   "execution_count": 56,
   "id": "1da491b6",
   "metadata": {},
   "outputs": [],
   "source": [
    "# RFE"
   ]
  },
  {
   "cell_type": "code",
   "execution_count": 57,
   "id": "8c63e68c",
   "metadata": {},
   "outputs": [],
   "source": [
    "from sklearn.feature_selection import RFE"
   ]
  },
  {
   "cell_type": "code",
   "execution_count": 58,
   "id": "e5912ef0",
   "metadata": {},
   "outputs": [
    {
     "data": {
      "text/plain": [
       "array([3, 5, 9, 1, 1, 1, 7, 1, 4, 6, 1, 8, 2])"
      ]
     },
     "execution_count": 58,
     "metadata": {},
     "output_type": "execute_result"
    }
   ],
   "source": [
    "lr = LinearRegression()\n",
    "lr_rfe = RFE(estimator=lr, n_features_to_select=5)\n",
    "rfe_model = lr_rfe.fit(X_train, y_train)\n",
    "rfe_model.ranking_"
   ]
  },
  {
   "cell_type": "code",
   "execution_count": 59,
   "id": "eb96dfa1",
   "metadata": {},
   "outputs": [
    {
     "data": {
      "text/plain": [
       "['CHAS', 'NOX', 'RM', 'DIS', 'PTRATIO']"
      ]
     },
     "execution_count": 59,
     "metadata": {},
     "output_type": "execute_result"
    }
   ],
   "source": [
    "# Extract rank#1 feature names\n",
    "rfe_rank = pd.DataFrame()\n",
    "rfe_rank['rank'] = rfe_model.ranking_\n",
    "rfe_rank['features'] = X_train.columns\n",
    "rfe_list = list(rfe_rank[rfe_rank['rank'] == 1]['features'])\n",
    "rfe_list"
   ]
  },
  {
   "cell_type": "code",
   "execution_count": null,
   "id": "82a87033",
   "metadata": {},
   "outputs": [],
   "source": []
  },
  {
   "cell_type": "code",
   "execution_count": 60,
   "id": "e4cd450a",
   "metadata": {},
   "outputs": [],
   "source": [
    "# Back model"
   ]
  },
  {
   "cell_type": "code",
   "execution_count": 70,
   "id": "70579650",
   "metadata": {},
   "outputs": [
    {
     "name": "stdout",
     "output_type": "stream",
     "text": [
      "Train R2 0.752434513097503\n",
      "Test R2 0.7081692908935964\n",
      "Train RMSE 4.370653643087017\n",
      "Test RMSE 5.4367324032845366\n"
     ]
    },
    {
     "data": {
      "text/plain": [
       "['Backward',\n",
       " 0.752434513097503,\n",
       " 0.7081692908935964,\n",
       " 4.370653643087017,\n",
       " 5.4367324032845366]"
      ]
     },
     "execution_count": 70,
     "metadata": {},
     "output_type": "execute_result"
    }
   ],
   "source": [
    "lr = LinearRegression()\n",
    "lr.fit(X_train[backward_features], y_train)\n",
    "\n",
    "y_pred_train = lr.predict(X_train[backward_features])\n",
    "y_pred_test = lr.predict(X_test[backward_features])\n",
    "\n",
    "train_r2 = metrics.r2_score(y_train, y_pred_train)\n",
    "test_r2 = metrics.r2_score(y_test, y_pred_test)\n",
    "print('Train R2', train_r2)\n",
    "print('Test R2', test_r2)\n",
    "\n",
    "train_rmse = np.sqrt(metrics.mean_squared_error(y_train, y_pred_train))\n",
    "test_rmse = np.sqrt(metrics.mean_squared_error(y_test, y_pred_test))\n",
    "print('Train RMSE', train_rmse)\n",
    "print('Test RMSE', test_rmse)\n",
    "\n",
    "result_back = ['Backward', train_r2, test_r2, train_rmse, test_rmse]\n",
    "result_back"
   ]
  },
  {
   "cell_type": "code",
   "execution_count": null,
   "id": "d77f57d8",
   "metadata": {},
   "outputs": [],
   "source": []
  },
  {
   "cell_type": "code",
   "execution_count": 62,
   "id": "1327bfc1",
   "metadata": {},
   "outputs": [],
   "source": [
    "# forward model"
   ]
  },
  {
   "cell_type": "code",
   "execution_count": 63,
   "id": "b0b17dd8",
   "metadata": {},
   "outputs": [],
   "source": [
    "from sklearn.metrics import r2_score, mean_squared_error"
   ]
  },
  {
   "cell_type": "code",
   "execution_count": 64,
   "id": "14af1183",
   "metadata": {},
   "outputs": [
    {
     "name": "stdout",
     "output_type": "stream",
     "text": [
      "Train R2  0.752434513097503\n",
      "Test R2   0.7081692908935964\n",
      "train RMSE  4.370653643087017\n",
      "test rmse  5.4367324032845366\n"
     ]
    },
    {
     "data": {
      "text/plain": [
       "['Forward',\n",
       " 0.752434513097503,\n",
       " 0.7081692908935964,\n",
       " 4.370653643087017,\n",
       " 5.4367324032845366]"
      ]
     },
     "execution_count": 64,
     "metadata": {},
     "output_type": "execute_result"
    }
   ],
   "source": [
    "lr = LinearRegression()\n",
    "lr.fit(X_train[forward_features], y_train)   # Only selected columns\n",
    "\n",
    "y_pred_train = lr.predict(X_train[forward_features])  # Only selected columns\n",
    "y_pred_test = lr.predict(X_test[forward_features])    # Only selected columns\n",
    "\n",
    "train_r2 = r2_score(y_train, y_pred_train)\n",
    "test_r2 = r2_score(y_test, y_pred_test)\n",
    "print('Train R2 ', train_r2)\n",
    "print('Test R2  ', test_r2)\n",
    "\n",
    "train_rmse = np.sqrt(mean_squared_error(y_train, y_pred_train))\n",
    "test_rmse = np.sqrt(mean_squared_error(y_test, y_pred_test))\n",
    "print(\"train RMSE \", train_rmse)\n",
    "print(\"test rmse \", test_rmse)\n",
    "\n",
    "result_forward = ['Forward', train_r2, test_r2, train_rmse, test_rmse]   # Forward\n",
    "result_forward"
   ]
  },
  {
   "cell_type": "code",
   "execution_count": 65,
   "id": "abdeb13f",
   "metadata": {},
   "outputs": [
    {
     "name": "stdout",
     "output_type": "stream",
     "text": [
      "Train R2  0.6507796725615076\n",
      "Test R2   0.6003438527836651\n",
      "train RMSE  5.191000844769798\n",
      "test rmse  6.362322963894047\n"
     ]
    },
    {
     "data": {
      "text/plain": [
       "['rfe_list',\n",
       " 0.6507796725615076,\n",
       " 0.6003438527836651,\n",
       " 5.191000844769798,\n",
       " 6.362322963894047]"
      ]
     },
     "execution_count": 65,
     "metadata": {},
     "output_type": "execute_result"
    }
   ],
   "source": [
    "lr = LinearRegression()\n",
    "lr.fit(X_train[rfe_list], y_train)   # Only selected columns\n",
    "\n",
    "y_pred_train = lr.predict(X_train[rfe_list])  # Only selected columns\n",
    "y_pred_test = lr.predict(X_test[rfe_list])    # Only selected columns\n",
    "\n",
    "train_r2 = r2_score(y_train, y_pred_train)\n",
    "test_r2 = r2_score(y_test, y_pred_test)\n",
    "print('Train R2 ', train_r2)\n",
    "print('Test R2  ', test_r2)\n",
    "\n",
    "train_rmse = np.sqrt(mean_squared_error(y_train, y_pred_train))\n",
    "test_rmse = np.sqrt(mean_squared_error(y_test, y_pred_test))\n",
    "print(\"train RMSE \", train_rmse)\n",
    "print(\"test rmse \", test_rmse)\n",
    "\n",
    "result_rfe = ['rfe_list', train_r2, test_r2, train_rmse, test_rmse]   # Forward\n",
    "result_rfe"
   ]
  },
  {
   "cell_type": "code",
   "execution_count": null,
   "id": "56a1bb2c",
   "metadata": {},
   "outputs": [],
   "source": []
  },
  {
   "cell_type": "code",
   "execution_count": 71,
   "id": "f7002e6e",
   "metadata": {},
   "outputs": [
    {
     "data": {
      "text/html": [
       "<div>\n",
       "<style scoped>\n",
       "    .dataframe tbody tr th:only-of-type {\n",
       "        vertical-align: middle;\n",
       "    }\n",
       "\n",
       "    .dataframe tbody tr th {\n",
       "        vertical-align: top;\n",
       "    }\n",
       "\n",
       "    .dataframe thead th {\n",
       "        text-align: right;\n",
       "    }\n",
       "</style>\n",
       "<table border=\"1\" class=\"dataframe\">\n",
       "  <thead>\n",
       "    <tr style=\"text-align: right;\">\n",
       "      <th></th>\n",
       "      <th>Method</th>\n",
       "      <th>Train R2</th>\n",
       "      <th>Test R2</th>\n",
       "      <th>Train RMSE</th>\n",
       "      <th>Test RMSE</th>\n",
       "    </tr>\n",
       "  </thead>\n",
       "  <tbody>\n",
       "    <tr>\n",
       "      <th>0</th>\n",
       "      <td>LR FULL model</td>\n",
       "      <td>0.752891</td>\n",
       "      <td>0.705792</td>\n",
       "      <td>4.366622</td>\n",
       "      <td>5.458832</td>\n",
       "    </tr>\n",
       "    <tr>\n",
       "      <th>1</th>\n",
       "      <td>Backward</td>\n",
       "      <td>0.752435</td>\n",
       "      <td>0.708169</td>\n",
       "      <td>4.370654</td>\n",
       "      <td>5.436732</td>\n",
       "    </tr>\n",
       "    <tr>\n",
       "      <th>2</th>\n",
       "      <td>Forward</td>\n",
       "      <td>0.752435</td>\n",
       "      <td>0.708169</td>\n",
       "      <td>4.370654</td>\n",
       "      <td>5.436732</td>\n",
       "    </tr>\n",
       "    <tr>\n",
       "      <th>3</th>\n",
       "      <td>rfe_list</td>\n",
       "      <td>0.650780</td>\n",
       "      <td>0.600344</td>\n",
       "      <td>5.191001</td>\n",
       "      <td>6.362323</td>\n",
       "    </tr>\n",
       "  </tbody>\n",
       "</table>\n",
       "</div>"
      ],
      "text/plain": [
       "          Method  Train R2   Test R2  Train RMSE  Test RMSE\n",
       "0  LR FULL model  0.752891  0.705792    4.366622   5.458832\n",
       "1       Backward  0.752435  0.708169    4.370654   5.436732\n",
       "2        Forward  0.752435  0.708169    4.370654   5.436732\n",
       "3       rfe_list  0.650780  0.600344    5.191001   6.362323"
      ]
     },
     "execution_count": 71,
     "metadata": {},
     "output_type": "execute_result"
    }
   ],
   "source": [
    "# gatheer results\n",
    "results_df = pd.DataFrame(columns=['Method', 'Train R2', 'Test R2', 'Train RMSE', 'Test RMSE'])\n",
    "results_df.loc[len(results_df)] = result_lr\n",
    "results_df.loc[len(results_df)] = result_back\n",
    "results_df.loc[len(results_df)] = result_forward\n",
    "results_df.loc[len(results_df)] = result_rfe\n",
    "results_df"
   ]
  },
  {
   "cell_type": "code",
   "execution_count": 72,
   "id": "663a56ab",
   "metadata": {},
   "outputs": [
    {
     "data": {
      "text/html": [
       "<div>\n",
       "<style scoped>\n",
       "    .dataframe tbody tr th:only-of-type {\n",
       "        vertical-align: middle;\n",
       "    }\n",
       "\n",
       "    .dataframe tbody tr th {\n",
       "        vertical-align: top;\n",
       "    }\n",
       "\n",
       "    .dataframe thead th {\n",
       "        text-align: right;\n",
       "    }\n",
       "</style>\n",
       "<table border=\"1\" class=\"dataframe\">\n",
       "  <thead>\n",
       "    <tr style=\"text-align: right;\">\n",
       "      <th></th>\n",
       "      <th>Method</th>\n",
       "      <th>Train R2</th>\n",
       "      <th>Test R2</th>\n",
       "      <th>Train RMSE</th>\n",
       "      <th>Test RMSE</th>\n",
       "    </tr>\n",
       "  </thead>\n",
       "  <tbody>\n",
       "    <tr>\n",
       "      <th>1</th>\n",
       "      <td>Backward</td>\n",
       "      <td>0.752435</td>\n",
       "      <td>0.708169</td>\n",
       "      <td>4.370654</td>\n",
       "      <td>5.436732</td>\n",
       "    </tr>\n",
       "    <tr>\n",
       "      <th>2</th>\n",
       "      <td>Forward</td>\n",
       "      <td>0.752435</td>\n",
       "      <td>0.708169</td>\n",
       "      <td>4.370654</td>\n",
       "      <td>5.436732</td>\n",
       "    </tr>\n",
       "    <tr>\n",
       "      <th>0</th>\n",
       "      <td>LR FULL model</td>\n",
       "      <td>0.752891</td>\n",
       "      <td>0.705792</td>\n",
       "      <td>4.366622</td>\n",
       "      <td>5.458832</td>\n",
       "    </tr>\n",
       "    <tr>\n",
       "      <th>3</th>\n",
       "      <td>rfe_list</td>\n",
       "      <td>0.650780</td>\n",
       "      <td>0.600344</td>\n",
       "      <td>5.191001</td>\n",
       "      <td>6.362323</td>\n",
       "    </tr>\n",
       "  </tbody>\n",
       "</table>\n",
       "</div>"
      ],
      "text/plain": [
       "          Method  Train R2   Test R2  Train RMSE  Test RMSE\n",
       "1       Backward  0.752435  0.708169    4.370654   5.436732\n",
       "2        Forward  0.752435  0.708169    4.370654   5.436732\n",
       "0  LR FULL model  0.752891  0.705792    4.366622   5.458832\n",
       "3       rfe_list  0.650780  0.600344    5.191001   6.362323"
      ]
     },
     "execution_count": 72,
     "metadata": {},
     "output_type": "execute_result"
    }
   ],
   "source": [
    "results_df.sort_values('Test R2', ascending=False)"
   ]
  },
  {
   "cell_type": "code",
   "execution_count": null,
   "id": "9fdd288e",
   "metadata": {},
   "outputs": [],
   "source": []
  },
  {
   "cell_type": "code",
   "execution_count": null,
   "id": "dcd6d12e",
   "metadata": {},
   "outputs": [],
   "source": []
  }
 ],
 "metadata": {
  "kernelspec": {
   "display_name": "Python 3 (ipykernel)",
   "language": "python",
   "name": "python3"
  },
  "language_info": {
   "codemirror_mode": {
    "name": "ipython",
    "version": 3
   },
   "file_extension": ".py",
   "mimetype": "text/x-python",
   "name": "python",
   "nbconvert_exporter": "python",
   "pygments_lexer": "ipython3",
   "version": "3.11.4"
  }
 },
 "nbformat": 4,
 "nbformat_minor": 5
}
